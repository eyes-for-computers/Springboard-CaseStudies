{
 "cells": [
  {
   "cell_type": "code",
   "execution_count": 1,
   "id": "mighty-breeding",
   "metadata": {
    "scrolled": true
   },
   "outputs": [],
   "source": [
    "####################################################################################################\n",
    "#################################__#########################################_ ######################               \n",
    "###############################/ _|########################################| |######################               \n",
    "#######  ___ _   _  ___  ___  | |##########################################| |_ ___ _ __ ___ #######\n",
    "####### / _ \\ | | |/ _ \\/ __| |  _/ _ \\| '__/ __/ _ \\| '_ ` _ \\| '_ \\| | | | __/ _ \\ '__/ __|#######\n",
    "### ###|  __/ |_| |  __/\\__ \\_| || (_) | |_| (_| (_) | | | | | | |_) | |_| | ||  __/ |  \\__ \\#######\n",
    "###### \\___|\\__, |\\___||___(_)_| \\___/|_(_)\\___\\___/|_| |_| |_| .__/ \\__,_|\\__\\___|_|  |___/#######\n",
    "#############__/ |############################################| |###################################                           \n",
    "############|___/ ############################################|_|###################################                           \n",
    "####################################################################################################\n",
    "#\n",
    "# Purpose: Detect anomalies between a particular staff/client in a dataset of more extreme behaviors\n",
    "#\n",
    "#          Questions answered: \n",
    "#\n",
    "#          Does any client exhibit more of any particulr behavior with a specific staff?\n",
    "#          Does any staff member observe more of any particulr behavior across their clients?\n",
    "#          \n",
    "#          \n",
    "#                             \n",
    "#\n",
    "# This notebook completes the Staff/Client behavior interaction anomaly detection project\n",
    "# After loading the data, adding in support for the categorical variables, standardizing the data,\n",
    "# subsetting on the outliers, producing a heatmap and exploratory plots, a DBSCAN model was generated\n",
    "# to find extreme values. Iteration was used to find the optimal value for parameters. The manual \n",
    "# process identified about twice as many outliers as the DBSCAN model. The manual model is more flexible\n",
    "# and allows more domain knowledge control. Future work would start with the manual model.\n",
    "# \n",
    "# Future work: Extend detection to include skill program targets in addition to behaviors.\n",
    "#              Collect information on gender, observation location and time of session.\n",
    "#              Define more relationships between independent variables."
   ]
  },
  {
   "cell_type": "code",
   "execution_count": 2,
   "id": "blocked-helping",
   "metadata": {
    "scrolled": false
   },
   "outputs": [],
   "source": [
    "import pandas as pd\n",
    "from sklearn.preprocessing import StandardScaler\n",
    "from sklearn.ensemble import IsolationForest\n",
    "import matplotlib.pyplot as plt\n",
    "import numpy as np\n",
    "import seaborn as sns\n"
   ]
  },
  {
   "cell_type": "code",
   "execution_count": 3,
   "id": "liked-server",
   "metadata": {
    "scrolled": true
   },
   "outputs": [
    {
     "name": "stdout",
     "output_type": "stream",
     "text": [
      "Date              datetime64[ns]\n",
      "Day                        int64\n",
      "Staff Member              object\n",
      "Duration                 float64\n",
      "aggression                 int64\n",
      "elope                      int64\n",
      "non-compliance           float64\n",
      "protesting               float64\n",
      "sib                      float64\n",
      "dtype: object\n",
      "(1000, 9)\n"
     ]
    }
   ],
   "source": [
    "df = pd.read_excel('bx_appointments.xlsx', index_col='Client')\n",
    "print(df.dtypes)\n",
    "print(df.shape)"
   ]
  },
  {
   "cell_type": "code",
   "execution_count": 4,
   "id": "brave-speed",
   "metadata": {
    "scrolled": true
   },
   "outputs": [],
   "source": [
    "df.Day = df.Day.astype('category')\n",
    "df['client'] = df.index\n",
    "\n",
    "df['Staff Member'] = df['Staff Member'].astype('category')\n",
    "df['client'] = df['client'].astype('category')"
   ]
  },
  {
   "cell_type": "code",
   "execution_count": 5,
   "id": "fifteen-animal",
   "metadata": {
    "scrolled": true
   },
   "outputs": [],
   "source": [
    "dummies = pd.get_dummies(df['Staff Member'],df.client,df.Day, sparse=True)"
   ]
  },
  {
   "cell_type": "code",
   "execution_count": 6,
   "id": "reliable-infrared",
   "metadata": {
    "scrolled": false
   },
   "outputs": [
    {
     "data": {
      "text/plain": [
       "(1000, 39)"
      ]
     },
     "execution_count": 6,
     "metadata": {},
     "output_type": "execute_result"
    }
   ],
   "source": [
    "dummies.shape"
   ]
  },
  {
   "cell_type": "code",
   "execution_count": 7,
   "id": "frequent-islam",
   "metadata": {
    "scrolled": true
   },
   "outputs": [
    {
     "name": "stdout",
     "output_type": "stream",
     "text": [
      "(137392, 49)\n"
     ]
    }
   ],
   "source": [
    "df = df.merge(dummies, left_index=True, right_index=True)\n",
    "print(df.shape)"
   ]
  },
  {
   "cell_type": "code",
   "execution_count": 8,
   "id": "planned-colon",
   "metadata": {
    "scrolled": true
   },
   "outputs": [
    {
     "data": {
      "text/html": [
       "<div>\n",
       "<style scoped>\n",
       "    .dataframe tbody tr th:only-of-type {\n",
       "        vertical-align: middle;\n",
       "    }\n",
       "\n",
       "    .dataframe tbody tr th {\n",
       "        vertical-align: top;\n",
       "    }\n",
       "\n",
       "    .dataframe thead th {\n",
       "        text-align: right;\n",
       "    }\n",
       "</style>\n",
       "<table border=\"1\" class=\"dataframe\">\n",
       "  <thead>\n",
       "    <tr style=\"text-align: right;\">\n",
       "      <th></th>\n",
       "      <th>aggression</th>\n",
       "      <th>elope</th>\n",
       "      <th>non-compliance</th>\n",
       "      <th>protesting</th>\n",
       "      <th>sib</th>\n",
       "    </tr>\n",
       "  </thead>\n",
       "  <tbody>\n",
       "    <tr>\n",
       "      <th>0</th>\n",
       "      <td>-0.399086</td>\n",
       "      <td>-0.460239</td>\n",
       "      <td>-0.094702</td>\n",
       "      <td>-0.570422</td>\n",
       "      <td>2.000233</td>\n",
       "    </tr>\n",
       "    <tr>\n",
       "      <th>1</th>\n",
       "      <td>-0.399086</td>\n",
       "      <td>-0.460239</td>\n",
       "      <td>-0.094702</td>\n",
       "      <td>-0.570422</td>\n",
       "      <td>2.000233</td>\n",
       "    </tr>\n",
       "    <tr>\n",
       "      <th>2</th>\n",
       "      <td>-0.399086</td>\n",
       "      <td>-0.460239</td>\n",
       "      <td>-0.094702</td>\n",
       "      <td>-0.570422</td>\n",
       "      <td>2.000233</td>\n",
       "    </tr>\n",
       "  </tbody>\n",
       "</table>\n",
       "</div>"
      ],
      "text/plain": [
       "   aggression     elope  non-compliance  protesting       sib\n",
       "0   -0.399086 -0.460239       -0.094702   -0.570422  2.000233\n",
       "1   -0.399086 -0.460239       -0.094702   -0.570422  2.000233\n",
       "2   -0.399086 -0.460239       -0.094702   -0.570422  2.000233"
      ]
     },
     "execution_count": 8,
     "metadata": {},
     "output_type": "execute_result"
    }
   ],
   "source": [
    "bx_list = ['aggression', 'elope', 'non-compliance', 'protesting', 'sib']\n",
    "\n",
    "\n",
    "scaler = StandardScaler()\n",
    "\n",
    "# Fitting data to the scaler object\n",
    "\n",
    "scaled_df = scaler.fit_transform(df[bx_list])\n",
    "scaled_df = pd.DataFrame(scaled_df, columns=bx_list)\n",
    "scaled_df.head(3)"
   ]
  },
  {
   "cell_type": "code",
   "execution_count": 9,
   "id": "checked-helicopter",
   "metadata": {
    "scrolled": true
   },
   "outputs": [],
   "source": [
    "merged = df\n",
    "for i in scaled_df.columns:\n",
    "    merged[i] = scaled_df[i].values\n",
    "    \n",
    "merged_db = merged"
   ]
  },
  {
   "cell_type": "code",
   "execution_count": 10,
   "id": "herbal-peeing",
   "metadata": {
    "scrolled": true
   },
   "outputs": [
    {
     "name": "stdout",
     "output_type": "stream",
     "text": [
      "done\n"
     ]
    }
   ],
   "source": [
    "##############################################################################################\n",
    "# Purpose: Create a df of observations where client showed their max instance of each bx     #\n",
    "#          This is a dataset of the most extreme observations for each column and how they   #\n",
    "#          relate to other bx in the same session                                            #\n",
    "#                                                                                            #\n",
    "#                                                                                            #\n",
    "# Returns df of all clients where the observation with the instance of max bx_list           #\n",
    "# The max frame is all of the category data as well as standarized bx                        #\n",
    "#                                                                                            #\n",
    "# Takes in a standarized df of client observations with dummies                              #\n",
    "##############################################################################################\n",
    "bx_list = ['aggression', 'elope', 'non-compliance', 'protesting', 'sib']\n",
    "\n",
    "\n",
    "def extreme_df(df):\n",
    "    \n",
    "    clients = df.index.unique()\n",
    "    clients_max = pd.DataFrame()\n",
    "    full_frame = pd.DataFrame()\n",
    "\n",
    "    for i in clients:\n",
    "    \n",
    "        clients_frame = df.loc[df.client == i]\n",
    "#    clients_frame = clients_frame[bx_list]\n",
    "    \n",
    "        for bx in bx_list:\n",
    "    \n",
    "            clients_max = clients_max.append(clients_frame[clients_frame[bx] == clients_frame[bx].max()].drop_duplicates())\n",
    "#        full_frame = clients_max.append(clients_frame[clients_frame[bx] == clients_frame[bx]]) #max?\n",
    "\n",
    "    print('done')\n",
    "    return clients_max\n",
    "    \n",
    "clients_max = extreme_df(df)\n",
    "    "
   ]
  },
  {
   "cell_type": "code",
   "execution_count": 11,
   "id": "severe-repeat",
   "metadata": {
    "scrolled": true
   },
   "outputs": [],
   "source": [
    "\n",
    "clients_max.to_csv('clients_max.csv')\n",
    "cols_to_keep = ['Date', 'Day', 'Staff Member', 'Duration', 'aggression', 'elope', 'non-compliance', 'protesting', 'sib', 'client']\n"
   ]
  },
  {
   "cell_type": "code",
   "execution_count": 12,
   "id": "meaningful-print",
   "metadata": {
    "scrolled": false
   },
   "outputs": [
    {
     "name": "stdout",
     "output_type": "stream",
     "text": [
      "Original df size: 9840\n",
      "extreme_obs size: 95\n"
     ]
    },
    {
     "data": {
      "text/html": [
       "<div>\n",
       "<style scoped>\n",
       "    .dataframe tbody tr th:only-of-type {\n",
       "        vertical-align: middle;\n",
       "    }\n",
       "\n",
       "    .dataframe tbody tr th {\n",
       "        vertical-align: top;\n",
       "    }\n",
       "\n",
       "    .dataframe thead th {\n",
       "        text-align: right;\n",
       "    }\n",
       "</style>\n",
       "<table border=\"1\" class=\"dataframe\">\n",
       "  <thead>\n",
       "    <tr style=\"text-align: right;\">\n",
       "      <th></th>\n",
       "      <th>index</th>\n",
       "      <th>Problem</th>\n",
       "      <th>Date</th>\n",
       "      <th>Day</th>\n",
       "      <th>Staff Member</th>\n",
       "      <th>Duration</th>\n",
       "      <th>aggression</th>\n",
       "      <th>elope</th>\n",
       "      <th>non-compliance</th>\n",
       "      <th>protesting</th>\n",
       "      <th>sib</th>\n",
       "      <th>client</th>\n",
       "    </tr>\n",
       "  </thead>\n",
       "  <tbody>\n",
       "    <tr>\n",
       "      <th>0</th>\n",
       "      <td>client_0</td>\n",
       "      <td>NaN</td>\n",
       "      <td>2021-07-12</td>\n",
       "      <td>0</td>\n",
       "      <td>staff_23</td>\n",
       "      <td>6.00</td>\n",
       "      <td>0.722242</td>\n",
       "      <td>-0.460239</td>\n",
       "      <td>0.172368</td>\n",
       "      <td>-0.339360</td>\n",
       "      <td>2.797564</td>\n",
       "      <td>client_0</td>\n",
       "    </tr>\n",
       "    <tr>\n",
       "      <th>1</th>\n",
       "      <td>client_0</td>\n",
       "      <td>NaN</td>\n",
       "      <td>2021-06-29</td>\n",
       "      <td>1</td>\n",
       "      <td>staff_31</td>\n",
       "      <td>3.00</td>\n",
       "      <td>0.722242</td>\n",
       "      <td>0.185379</td>\n",
       "      <td>-0.295005</td>\n",
       "      <td>-0.570422</td>\n",
       "      <td>-0.125984</td>\n",
       "      <td>client_0</td>\n",
       "    </tr>\n",
       "    <tr>\n",
       "      <th>2</th>\n",
       "      <td>client_0</td>\n",
       "      <td>NaN</td>\n",
       "      <td>2021-06-29</td>\n",
       "      <td>1</td>\n",
       "      <td>staff_33</td>\n",
       "      <td>4.00</td>\n",
       "      <td>0.722242</td>\n",
       "      <td>0.185379</td>\n",
       "      <td>-0.295005</td>\n",
       "      <td>-0.570422</td>\n",
       "      <td>-0.125984</td>\n",
       "      <td>client_0</td>\n",
       "    </tr>\n",
       "    <tr>\n",
       "      <th>3</th>\n",
       "      <td>client_0</td>\n",
       "      <td>NaN</td>\n",
       "      <td>2021-05-28</td>\n",
       "      <td>4</td>\n",
       "      <td>staff_8</td>\n",
       "      <td>7.00</td>\n",
       "      <td>1.282906</td>\n",
       "      <td>-0.460239</td>\n",
       "      <td>-0.495307</td>\n",
       "      <td>-0.570422</td>\n",
       "      <td>0.405570</td>\n",
       "      <td>client_0</td>\n",
       "    </tr>\n",
       "    <tr>\n",
       "      <th>4</th>\n",
       "      <td>client_0</td>\n",
       "      <td>NaN</td>\n",
       "      <td>2021-05-14</td>\n",
       "      <td>4</td>\n",
       "      <td>staff_41</td>\n",
       "      <td>6.00</td>\n",
       "      <td>1.096018</td>\n",
       "      <td>-0.137430</td>\n",
       "      <td>-0.361772</td>\n",
       "      <td>-0.570422</td>\n",
       "      <td>0.937124</td>\n",
       "      <td>client_0</td>\n",
       "    </tr>\n",
       "    <tr>\n",
       "      <th>...</th>\n",
       "      <td>...</td>\n",
       "      <td>...</td>\n",
       "      <td>...</td>\n",
       "      <td>...</td>\n",
       "      <td>...</td>\n",
       "      <td>...</td>\n",
       "      <td>...</td>\n",
       "      <td>...</td>\n",
       "      <td>...</td>\n",
       "      <td>...</td>\n",
       "      <td>...</td>\n",
       "      <td>...</td>\n",
       "    </tr>\n",
       "    <tr>\n",
       "      <th>90</th>\n",
       "      <td>client_8</td>\n",
       "      <td>NaN</td>\n",
       "      <td>2021-03-08</td>\n",
       "      <td>0</td>\n",
       "      <td>staff_2</td>\n",
       "      <td>3.50</td>\n",
       "      <td>2.217347</td>\n",
       "      <td>0.185379</td>\n",
       "      <td>NaN</td>\n",
       "      <td>NaN</td>\n",
       "      <td>NaN</td>\n",
       "      <td>client_8</td>\n",
       "    </tr>\n",
       "    <tr>\n",
       "      <th>91</th>\n",
       "      <td>client_8</td>\n",
       "      <td>NaN</td>\n",
       "      <td>2021-05-12</td>\n",
       "      <td>2</td>\n",
       "      <td>staff_25</td>\n",
       "      <td>3.00</td>\n",
       "      <td>-0.399086</td>\n",
       "      <td>0.508188</td>\n",
       "      <td>NaN</td>\n",
       "      <td>NaN</td>\n",
       "      <td>NaN</td>\n",
       "      <td>client_8</td>\n",
       "    </tr>\n",
       "    <tr>\n",
       "      <th>92</th>\n",
       "      <td>client_8</td>\n",
       "      <td>NaN</td>\n",
       "      <td>2021-05-12</td>\n",
       "      <td>2</td>\n",
       "      <td>staff_2</td>\n",
       "      <td>4.75</td>\n",
       "      <td>-0.399086</td>\n",
       "      <td>0.508188</td>\n",
       "      <td>NaN</td>\n",
       "      <td>NaN</td>\n",
       "      <td>NaN</td>\n",
       "      <td>client_8</td>\n",
       "    </tr>\n",
       "    <tr>\n",
       "      <th>93</th>\n",
       "      <td>client_8</td>\n",
       "      <td>NaN</td>\n",
       "      <td>2021-04-16</td>\n",
       "      <td>4</td>\n",
       "      <td>staff_2</td>\n",
       "      <td>2.50</td>\n",
       "      <td>-0.585974</td>\n",
       "      <td>0.830997</td>\n",
       "      <td>NaN</td>\n",
       "      <td>NaN</td>\n",
       "      <td>NaN</td>\n",
       "      <td>client_8</td>\n",
       "    </tr>\n",
       "    <tr>\n",
       "      <th>94</th>\n",
       "      <td>client_8</td>\n",
       "      <td>NaN</td>\n",
       "      <td>2021-02-17</td>\n",
       "      <td>2</td>\n",
       "      <td>staff_25</td>\n",
       "      <td>3.00</td>\n",
       "      <td>-0.585974</td>\n",
       "      <td>0.508188</td>\n",
       "      <td>NaN</td>\n",
       "      <td>NaN</td>\n",
       "      <td>NaN</td>\n",
       "      <td>client_8</td>\n",
       "    </tr>\n",
       "  </tbody>\n",
       "</table>\n",
       "<p>95 rows × 12 columns</p>\n",
       "</div>"
      ],
      "text/plain": [
       "       index Problem       Date Day Staff Member  Duration  aggression  \\\n",
       "0   client_0     NaN 2021-07-12   0     staff_23      6.00    0.722242   \n",
       "1   client_0     NaN 2021-06-29   1     staff_31      3.00    0.722242   \n",
       "2   client_0     NaN 2021-06-29   1     staff_33      4.00    0.722242   \n",
       "3   client_0     NaN 2021-05-28   4      staff_8      7.00    1.282906   \n",
       "4   client_0     NaN 2021-05-14   4     staff_41      6.00    1.096018   \n",
       "..       ...     ...        ...  ..          ...       ...         ...   \n",
       "90  client_8     NaN 2021-03-08   0      staff_2      3.50    2.217347   \n",
       "91  client_8     NaN 2021-05-12   2     staff_25      3.00   -0.399086   \n",
       "92  client_8     NaN 2021-05-12   2      staff_2      4.75   -0.399086   \n",
       "93  client_8     NaN 2021-04-16   4      staff_2      2.50   -0.585974   \n",
       "94  client_8     NaN 2021-02-17   2     staff_25      3.00   -0.585974   \n",
       "\n",
       "       elope  non-compliance  protesting       sib    client  \n",
       "0  -0.460239        0.172368   -0.339360  2.797564  client_0  \n",
       "1   0.185379       -0.295005   -0.570422 -0.125984  client_0  \n",
       "2   0.185379       -0.295005   -0.570422 -0.125984  client_0  \n",
       "3  -0.460239       -0.495307   -0.570422  0.405570  client_0  \n",
       "4  -0.137430       -0.361772   -0.570422  0.937124  client_0  \n",
       "..       ...             ...         ...       ...       ...  \n",
       "90  0.185379             NaN         NaN       NaN  client_8  \n",
       "91  0.508188             NaN         NaN       NaN  client_8  \n",
       "92  0.508188             NaN         NaN       NaN  client_8  \n",
       "93  0.830997             NaN         NaN       NaN  client_8  \n",
       "94  0.508188             NaN         NaN       NaN  client_8  \n",
       "\n",
       "[95 rows x 12 columns]"
      ]
     },
     "execution_count": 12,
     "metadata": {},
     "output_type": "execute_result"
    }
   ],
   "source": [
    "##########################################################################################################\n",
    "# Purpose: Identify clients' that have had instances of bx more than 2 std from their mean.              #\n",
    "#          Highlights what behaviors can be more extreme for a particular client.                        #\n",
    "#                                                                                                        #\n",
    "# If any clients bx is outside 2.5 std deviation of their mean, then we want that pointed out            #\n",
    "# Later: grab the full session row to use elsewhere                                                      #\n",
    "##########################################################################################################\n",
    "def flag_it(df):\n",
    "    \n",
    "    cols_to_keep = ['Problem','Date', 'Day', 'Staff Member', 'Duration', 'aggression', 'elope', 'non-compliance', 'protesting', 'sib', 'client']\n",
    "    bx_list = ['aggression', 'elope', 'sib', 'non-compliance', 'protesting']\n",
    "    extreme_obs = pd.DataFrame(columns=cols_to_keep)\n",
    "    flags = pd.DataFrame(columns=['client', 'bx', 'mean','thresh'])\n",
    "    extreme = []\n",
    "    \n",
    "    for c in df.client.unique():\n",
    "        \n",
    "        \n",
    "        for bx in bx_list:\n",
    "            \n",
    "            bx_df = df.loc[df['client'] == c]\n",
    "            client_bx_df = bx_df[bx]\n",
    "\n",
    "            \n",
    "            mean = client_bx_df.mean()\n",
    "            std = client_bx_df.std()\n",
    "            thresh = mean + std*2.5\n",
    "                        \n",
    "            extreme_obs = extreme_obs.append(bx_df.loc[bx_df[bx] > thresh])\n",
    "            \n",
    "\n",
    "\n",
    "            if client_bx_df.any() > thresh:\n",
    "                flags = flags.append({'client' : c, 'bx' : bx, 'mean' : mean, 'thresh' : thresh}, ignore_index=True)\n",
    "\n",
    "    \n",
    "    extreme_obs = extreme_obs[cols_to_keep].drop_duplicates()\n",
    "    \n",
    "\n",
    "    return flags, extreme_obs\n",
    "    \n",
    "flags, extreme_obs = flag_it(df)\n",
    "print('Original df size: ' + str(len(df.drop_duplicates())))\n",
    "print('extreme_obs size: ' + str(len(extreme_obs.drop_duplicates())))\n",
    "extreme_obs.reset_index()"
   ]
  },
  {
   "cell_type": "code",
   "execution_count": 13,
   "id": "southwest-tackle",
   "metadata": {
    "scrolled": false
   },
   "outputs": [
    {
     "data": {
      "text/html": [
       "<div>\n",
       "<style scoped>\n",
       "    .dataframe tbody tr th:only-of-type {\n",
       "        vertical-align: middle;\n",
       "    }\n",
       "\n",
       "    .dataframe tbody tr th {\n",
       "        vertical-align: top;\n",
       "    }\n",
       "\n",
       "    .dataframe thead th {\n",
       "        text-align: right;\n",
       "    }\n",
       "</style>\n",
       "<table border=\"1\" class=\"dataframe\">\n",
       "  <thead>\n",
       "    <tr style=\"text-align: right;\">\n",
       "      <th></th>\n",
       "      <th>aggression</th>\n",
       "      <th>elope</th>\n",
       "      <th>non-compliance</th>\n",
       "      <th>protesting</th>\n",
       "      <th>sib</th>\n",
       "    </tr>\n",
       "  </thead>\n",
       "  <tbody>\n",
       "    <tr>\n",
       "      <th>count</th>\n",
       "      <td>95.000000</td>\n",
       "      <td>95.000000</td>\n",
       "      <td>65.000000</td>\n",
       "      <td>36.000000</td>\n",
       "      <td>60.000000</td>\n",
       "    </tr>\n",
       "    <tr>\n",
       "      <th>mean</th>\n",
       "      <td>0.606175</td>\n",
       "      <td>1.075652</td>\n",
       "      <td>0.122035</td>\n",
       "      <td>0.416405</td>\n",
       "      <td>1.610426</td>\n",
       "    </tr>\n",
       "    <tr>\n",
       "      <th>std</th>\n",
       "      <td>1.688646</td>\n",
       "      <td>2.219427</td>\n",
       "      <td>0.705420</td>\n",
       "      <td>1.569532</td>\n",
       "      <td>2.263918</td>\n",
       "    </tr>\n",
       "    <tr>\n",
       "      <th>min</th>\n",
       "      <td>-0.585974</td>\n",
       "      <td>-0.460239</td>\n",
       "      <td>-0.495307</td>\n",
       "      <td>-0.570422</td>\n",
       "      <td>-0.391761</td>\n",
       "    </tr>\n",
       "    <tr>\n",
       "      <th>25%</th>\n",
       "      <td>-0.585974</td>\n",
       "      <td>-0.298834</td>\n",
       "      <td>-0.361772</td>\n",
       "      <td>-0.483774</td>\n",
       "      <td>-0.391761</td>\n",
       "    </tr>\n",
       "    <tr>\n",
       "      <th>50%</th>\n",
       "      <td>-0.212198</td>\n",
       "      <td>0.185379</td>\n",
       "      <td>-0.094702</td>\n",
       "      <td>-0.281595</td>\n",
       "      <td>0.937124</td>\n",
       "    </tr>\n",
       "    <tr>\n",
       "      <th>75%</th>\n",
       "      <td>1.096018</td>\n",
       "      <td>0.830997</td>\n",
       "      <td>0.439438</td>\n",
       "      <td>0.180529</td>\n",
       "      <td>2.531787</td>\n",
       "    </tr>\n",
       "    <tr>\n",
       "      <th>max</th>\n",
       "      <td>5.020668</td>\n",
       "      <td>8.578412</td>\n",
       "      <td>2.442462</td>\n",
       "      <td>4.224113</td>\n",
       "      <td>9.176212</td>\n",
       "    </tr>\n",
       "  </tbody>\n",
       "</table>\n",
       "</div>"
      ],
      "text/plain": [
       "       aggression      elope  non-compliance  protesting        sib\n",
       "count   95.000000  95.000000       65.000000   36.000000  60.000000\n",
       "mean     0.606175   1.075652        0.122035    0.416405   1.610426\n",
       "std      1.688646   2.219427        0.705420    1.569532   2.263918\n",
       "min     -0.585974  -0.460239       -0.495307   -0.570422  -0.391761\n",
       "25%     -0.585974  -0.298834       -0.361772   -0.483774  -0.391761\n",
       "50%     -0.212198   0.185379       -0.094702   -0.281595   0.937124\n",
       "75%      1.096018   0.830997        0.439438    0.180529   2.531787\n",
       "max      5.020668   8.578412        2.442462    4.224113   9.176212"
      ]
     },
     "execution_count": 13,
     "metadata": {},
     "output_type": "execute_result"
    }
   ],
   "source": [
    "extreme_obs[bx_list].describe()"
   ]
  },
  {
   "cell_type": "code",
   "execution_count": 14,
   "id": "simple-pharmacology",
   "metadata": {
    "scrolled": true
   },
   "outputs": [
    {
     "data": {
      "text/plain": [
       "<seaborn.axisgrid.FacetGrid at 0x7fb1c0728130>"
      ]
     },
     "execution_count": 14,
     "metadata": {},
     "output_type": "execute_result"
    },
    {
     "data": {
      "image/png": "[encoded data removed]",
      "text/plain": [
       "<Figure size 360x360 with 1 Axes>"
      ]
     },
     "metadata": {
      "needs_background": "light"
     },
     "output_type": "display_data"
    }
   ],
   "source": [
    "sns.lmplot(x='elope',y='protesting',data=merged_db,fit_reg=True) "
   ]
  },
  {
   "cell_type": "code",
   "execution_count": 15,
   "id": "preliminary-coverage",
   "metadata": {
    "scrolled": true
   },
   "outputs": [],
   "source": [
    "#####################################################################\n",
    "# Purpose: Get the threshold value of a bahavior for any one client #\n",
    "#####################################################################\n",
    "\n",
    "def get_thresh(client,bx):\n",
    "    \n",
    "    c = flags['client'] == client\n",
    "    b = flags['bx'] == bx\n",
    "    thresh = flags[c&b]['thresh']\n",
    "    thresh = thresh\n",
    "    \n",
    "    return thresh"
   ]
  },
  {
   "cell_type": "code",
   "execution_count": 16,
   "id": "extra-blake",
   "metadata": {
    "scrolled": true
   },
   "outputs": [],
   "source": [
    "#############################################################################################\n",
    "# Purpose: Create a bool series for threshold for each observation if it was the extreme bx #\n",
    "#############################################################################################\n",
    "\n",
    "output = []\n",
    "for i, row in extreme_obs.iterrows():\n",
    "  obs_behavior = {}\n",
    "  for indicator in bx_list:\n",
    "    thresh = get_thresh(row['client'], indicator)\n",
    "    if len(thresh) > 0:\n",
    "        obs_thres_higher = row[indicator] > thresh.iloc[0]\n",
    "    else:\n",
    "        obs_thres_higher = None\n",
    "    obs_behavior[indicator] = obs_thres_higher\n",
    "  output.append(obs_behavior)"
   ]
  },
  {
   "cell_type": "code",
   "execution_count": 17,
   "id": "further-movement",
   "metadata": {
    "scrolled": true
   },
   "outputs": [
    {
     "data": {
      "text/html": [
       "<div>\n",
       "<style scoped>\n",
       "    .dataframe tbody tr th:only-of-type {\n",
       "        vertical-align: middle;\n",
       "    }\n",
       "\n",
       "    .dataframe tbody tr th {\n",
       "        vertical-align: top;\n",
       "    }\n",
       "\n",
       "    .dataframe thead th {\n",
       "        text-align: right;\n",
       "    }\n",
       "</style>\n",
       "<table border=\"1\" class=\"dataframe\">\n",
       "  <thead>\n",
       "    <tr style=\"text-align: right;\">\n",
       "      <th></th>\n",
       "      <th>Problem</th>\n",
       "      <th>Date</th>\n",
       "      <th>Day</th>\n",
       "      <th>Staff Member</th>\n",
       "      <th>Duration</th>\n",
       "      <th>aggression</th>\n",
       "      <th>elope</th>\n",
       "      <th>non-compliance</th>\n",
       "      <th>protesting</th>\n",
       "      <th>sib</th>\n",
       "      <th>client</th>\n",
       "    </tr>\n",
       "  </thead>\n",
       "  <tbody>\n",
       "    <tr>\n",
       "      <th>client_7</th>\n",
       "      <td>na</td>\n",
       "      <td>2021-05-05</td>\n",
       "      <td>2</td>\n",
       "      <td>staff_3</td>\n",
       "      <td>2.75</td>\n",
       "      <td>5.020668</td>\n",
       "      <td>-0.460239</td>\n",
       "      <td>NaN</td>\n",
       "      <td>NaN</td>\n",
       "      <td>-0.391761</td>\n",
       "      <td>client_7</td>\n",
       "    </tr>\n",
       "    <tr>\n",
       "      <th>client_1</th>\n",
       "      <td>na</td>\n",
       "      <td>2021-06-10</td>\n",
       "      <td>3</td>\n",
       "      <td>staff_47</td>\n",
       "      <td>3.00</td>\n",
       "      <td>3.899339</td>\n",
       "      <td>1.799424</td>\n",
       "      <td>NaN</td>\n",
       "      <td>4.224113</td>\n",
       "      <td>NaN</td>\n",
       "      <td>client_1</td>\n",
       "    </tr>\n",
       "    <tr>\n",
       "      <th>client_3</th>\n",
       "      <td>aggression</td>\n",
       "      <td>2021-03-24</td>\n",
       "      <td>2</td>\n",
       "      <td>staff_21</td>\n",
       "      <td>4.00</td>\n",
       "      <td>0.161578</td>\n",
       "      <td>0.185379</td>\n",
       "      <td>-0.295005</td>\n",
       "      <td>NaN</td>\n",
       "      <td>1.468679</td>\n",
       "      <td>client_3</td>\n",
       "    </tr>\n",
       "    <tr>\n",
       "      <th>client_8</th>\n",
       "      <td>aggression</td>\n",
       "      <td>2021-03-08</td>\n",
       "      <td>0</td>\n",
       "      <td>staff_2</td>\n",
       "      <td>3.50</td>\n",
       "      <td>2.217347</td>\n",
       "      <td>0.185379</td>\n",
       "      <td>NaN</td>\n",
       "      <td>NaN</td>\n",
       "      <td>NaN</td>\n",
       "      <td>client_8</td>\n",
       "    </tr>\n",
       "    <tr>\n",
       "      <th>client_1</th>\n",
       "      <td>na</td>\n",
       "      <td>2021-06-07</td>\n",
       "      <td>0</td>\n",
       "      <td>staff_24</td>\n",
       "      <td>3.00</td>\n",
       "      <td>-0.585974</td>\n",
       "      <td>8.578412</td>\n",
       "      <td>NaN</td>\n",
       "      <td>3.761989</td>\n",
       "      <td>NaN</td>\n",
       "      <td>client_1</td>\n",
       "    </tr>\n",
       "  </tbody>\n",
       "</table>\n",
       "</div>"
      ],
      "text/plain": [
       "             Problem       Date Day Staff Member  Duration  aggression  \\\n",
       "client_7          na 2021-05-05   2      staff_3      2.75    5.020668   \n",
       "client_1          na 2021-06-10   3     staff_47      3.00    3.899339   \n",
       "client_3  aggression 2021-03-24   2     staff_21      4.00    0.161578   \n",
       "client_8  aggression 2021-03-08   0      staff_2      3.50    2.217347   \n",
       "client_1          na 2021-06-07   0     staff_24      3.00   -0.585974   \n",
       "\n",
       "             elope  non-compliance  protesting       sib    client  \n",
       "client_7 -0.460239             NaN         NaN -0.391761  client_7  \n",
       "client_1  1.799424             NaN    4.224113       NaN  client_1  \n",
       "client_3  0.185379       -0.295005         NaN  1.468679  client_3  \n",
       "client_8  0.185379             NaN         NaN       NaN  client_8  \n",
       "client_1  8.578412             NaN    3.761989       NaN  client_1  "
      ]
     },
     "execution_count": 17,
     "metadata": {},
     "output_type": "execute_result"
    }
   ],
   "source": [
    "###############################################################################################################\n",
    "# Purpose: Return named bx for each row in output that exceeds the threshold. Then adds them to extreme_obs df#\n",
    "###############################################################################################################\n",
    "\n",
    "bxdict = []\n",
    "\n",
    "def get_key(bxdict,val):\n",
    "    for key, value in bxdict.items():\n",
    "         if val == value:\n",
    "             return key\n",
    " \n",
    "    return \"na\"\n",
    "\n",
    "for i,d in enumerate(output):\n",
    "    \n",
    "    bx = get_key(output[i],True)\n",
    "    bxdict.append(bx)\n",
    "    \n",
    "extreme_obs['Problem'] = bxdict\n",
    "extreme_obs.sample(5)"
   ]
  },
  {
   "cell_type": "code",
   "execution_count": 18,
   "id": "powered-hunger",
   "metadata": {
    "scrolled": false
   },
   "outputs": [
    {
     "data": {
      "text/html": [
       "<div>\n",
       "<style scoped>\n",
       "    .dataframe tbody tr th:only-of-type {\n",
       "        vertical-align: middle;\n",
       "    }\n",
       "\n",
       "    .dataframe tbody tr th {\n",
       "        vertical-align: top;\n",
       "    }\n",
       "\n",
       "    .dataframe thead th {\n",
       "        text-align: right;\n",
       "    }\n",
       "</style>\n",
       "<table border=\"1\" class=\"dataframe\">\n",
       "  <thead>\n",
       "    <tr style=\"text-align: right;\">\n",
       "      <th></th>\n",
       "      <th>client</th>\n",
       "      <th>bx</th>\n",
       "      <th>mean</th>\n",
       "      <th>thresh</th>\n",
       "    </tr>\n",
       "  </thead>\n",
       "  <tbody>\n",
       "    <tr>\n",
       "      <th>8</th>\n",
       "      <td>client_4</td>\n",
       "      <td>aggression</td>\n",
       "      <td>-0.514094</td>\n",
       "      <td>-0.163318</td>\n",
       "    </tr>\n",
       "    <tr>\n",
       "      <th>5</th>\n",
       "      <td>client_3</td>\n",
       "      <td>aggression</td>\n",
       "      <td>-0.561384</td>\n",
       "      <td>-0.306105</td>\n",
       "    </tr>\n",
       "    <tr>\n",
       "      <th>10</th>\n",
       "      <td>client_4</td>\n",
       "      <td>non-compliance</td>\n",
       "      <td>-0.364982</td>\n",
       "      <td>0.142377</td>\n",
       "    </tr>\n",
       "  </tbody>\n",
       "</table>\n",
       "</div>"
      ],
      "text/plain": [
       "      client              bx      mean    thresh\n",
       "8   client_4      aggression -0.514094 -0.163318\n",
       "5   client_3      aggression -0.561384 -0.306105\n",
       "10  client_4  non-compliance -0.364982  0.142377"
      ]
     },
     "execution_count": 18,
     "metadata": {},
     "output_type": "execute_result"
    }
   ],
   "source": [
    "flags.sample(3)"
   ]
  },
  {
   "cell_type": "code",
   "execution_count": 19,
   "id": "completed-student",
   "metadata": {
    "scrolled": false
   },
   "outputs": [
    {
     "data": {
      "text/plain": [
       "<AxesSubplot:>"
      ]
     },
     "execution_count": 19,
     "metadata": {},
     "output_type": "execute_result"
    },
    {
     "data": {
      "image/png": "[encoded data removed]",
      "text/plain": [
       "<Figure size 432x288 with 2 Axes>"
      ]
     },
     "metadata": {
      "needs_background": "light"
     },
     "output_type": "display_data"
    }
   ],
   "source": [
    "sns.heatmap(extreme_obs[bx_list])"
   ]
  },
  {
   "cell_type": "code",
   "execution_count": 20,
   "id": "primary-position",
   "metadata": {
    "scrolled": true
   },
   "outputs": [
    {
     "data": {
      "text/plain": [
       "<AxesSubplot:>"
      ]
     },
     "execution_count": 20,
     "metadata": {},
     "output_type": "execute_result"
    },
    {
     "data": {
      "image/png": "[encoded data removed]",
      "text/plain": [
       "<Figure size 432x288 with 2 Axes>"
      ]
     },
     "metadata": {
      "needs_background": "light"
     },
     "output_type": "display_data"
    }
   ],
   "source": [
    "# heatmap for single client\n",
    "\n",
    "c0 = extreme_obs['client'] == 'client_0'\n",
    "extreme_obs[c0]\n",
    "sns.heatmap(extreme_obs[c0][bx_list])\n"
   ]
  },
  {
   "cell_type": "code",
   "execution_count": 21,
   "id": "creative-macedonia",
   "metadata": {
    "scrolled": true
   },
   "outputs": [
    {
     "data": {
      "text/plain": [
       "<matplotlib.collections.PathCollection at 0x7fb1c0390d30>"
      ]
     },
     "execution_count": 21,
     "metadata": {},
     "output_type": "execute_result"
    },
    {
     "data": {
      "image/png": "[encoded data removed]",
      "text/plain": [
       "<Figure size 720x720 with 1 Axes>"
      ]
     },
     "metadata": {
      "needs_background": "light"
     },
     "output_type": "display_data"
    }
   ],
   "source": [
    "# Can plot client/staff by bx\n",
    "\n",
    "plt.rcParams['figure.figsize'] = [10, 10]\n",
    "\n",
    "a = extreme_obs['client'] == 'client_0'\n",
    "plt.title('Showing a client with observations of their bx')\n",
    "\n",
    "plt.scatter(a,extreme_obs['elope'] )\n"
   ]
  },
  {
   "cell_type": "code",
   "execution_count": 22,
   "id": "precious-appreciation",
   "metadata": {
    "scrolled": false
   },
   "outputs": [
    {
     "data": {
      "text/html": [
       "<div>\n",
       "<style scoped>\n",
       "    .dataframe tbody tr th:only-of-type {\n",
       "        vertical-align: middle;\n",
       "    }\n",
       "\n",
       "    .dataframe tbody tr th {\n",
       "        vertical-align: top;\n",
       "    }\n",
       "\n",
       "    .dataframe thead th {\n",
       "        text-align: right;\n",
       "    }\n",
       "</style>\n",
       "<table border=\"1\" class=\"dataframe\">\n",
       "  <thead>\n",
       "    <tr style=\"text-align: right;\">\n",
       "      <th></th>\n",
       "      <th>client</th>\n",
       "      <th>entries</th>\n",
       "    </tr>\n",
       "  </thead>\n",
       "  <tbody>\n",
       "    <tr>\n",
       "      <th>0</th>\n",
       "      <td>client_0</td>\n",
       "      <td>26</td>\n",
       "    </tr>\n",
       "    <tr>\n",
       "      <th>1</th>\n",
       "      <td>client_7</td>\n",
       "      <td>19</td>\n",
       "    </tr>\n",
       "    <tr>\n",
       "      <th>2</th>\n",
       "      <td>client_2</td>\n",
       "      <td>14</td>\n",
       "    </tr>\n",
       "    <tr>\n",
       "      <th>3</th>\n",
       "      <td>client_3</td>\n",
       "      <td>11</td>\n",
       "    </tr>\n",
       "    <tr>\n",
       "      <th>4</th>\n",
       "      <td>client_1</td>\n",
       "      <td>6</td>\n",
       "    </tr>\n",
       "    <tr>\n",
       "      <th>5</th>\n",
       "      <td>client_4</td>\n",
       "      <td>6</td>\n",
       "    </tr>\n",
       "    <tr>\n",
       "      <th>8</th>\n",
       "      <td>client_8</td>\n",
       "      <td>5</td>\n",
       "    </tr>\n",
       "    <tr>\n",
       "      <th>6</th>\n",
       "      <td>client_5</td>\n",
       "      <td>4</td>\n",
       "    </tr>\n",
       "    <tr>\n",
       "      <th>7</th>\n",
       "      <td>client_6</td>\n",
       "      <td>4</td>\n",
       "    </tr>\n",
       "  </tbody>\n",
       "</table>\n",
       "</div>"
      ],
      "text/plain": [
       "     client entries\n",
       "0  client_0      26\n",
       "1  client_7      19\n",
       "2  client_2      14\n",
       "3  client_3      11\n",
       "4  client_1       6\n",
       "5  client_4       6\n",
       "8  client_8       5\n",
       "6  client_5       4\n",
       "7  client_6       4"
      ]
     },
     "execution_count": 22,
     "metadata": {},
     "output_type": "execute_result"
    }
   ],
   "source": [
    "#####################################################################\n",
    "# Purpose: Produce list of how many extreme observations per client #\n",
    "#####################################################################\n",
    "\n",
    "\n",
    "client_extreme = pd.DataFrame(columns=['client','entries']) # add bx col\n",
    "\n",
    "for c in extreme_obs.client.unique():#extreme_obs.index.unique():\n",
    "    \n",
    "    aa = pd.DataFrame(extreme_obs.loc[extreme_obs.client == c])\n",
    "    l = len(extreme_obs.loc[extreme_obs.client == c])\n",
    "    \n",
    "   \n",
    "    client_extreme = client_extreme.append({'client' : c, 'entries' : l}, ignore_index=True).sort_values(by='entries', ascending=False)\n",
    "    \n",
    "client_extreme"
   ]
  },
  {
   "cell_type": "code",
   "execution_count": 23,
   "id": "electronic-brooklyn",
   "metadata": {
    "scrolled": true
   },
   "outputs": [
    {
     "data": {
      "text/html": [
       "<div>\n",
       "<style scoped>\n",
       "    .dataframe tbody tr th:only-of-type {\n",
       "        vertical-align: middle;\n",
       "    }\n",
       "\n",
       "    .dataframe tbody tr th {\n",
       "        vertical-align: top;\n",
       "    }\n",
       "\n",
       "    .dataframe thead th {\n",
       "        text-align: right;\n",
       "    }\n",
       "</style>\n",
       "<table border=\"1\" class=\"dataframe\">\n",
       "  <thead>\n",
       "    <tr style=\"text-align: right;\">\n",
       "      <th></th>\n",
       "      <th>staff</th>\n",
       "      <th>entries</th>\n",
       "    </tr>\n",
       "  </thead>\n",
       "  <tbody>\n",
       "    <tr>\n",
       "      <th>0</th>\n",
       "      <td>staff_11</td>\n",
       "      <td>10</td>\n",
       "    </tr>\n",
       "    <tr>\n",
       "      <th>1</th>\n",
       "      <td>staff_8</td>\n",
       "      <td>9</td>\n",
       "    </tr>\n",
       "    <tr>\n",
       "      <th>2</th>\n",
       "      <td>staff_21</td>\n",
       "      <td>9</td>\n",
       "    </tr>\n",
       "    <tr>\n",
       "      <th>3</th>\n",
       "      <td>staff_31</td>\n",
       "      <td>7</td>\n",
       "    </tr>\n",
       "    <tr>\n",
       "      <th>4</th>\n",
       "      <td>staff_41</td>\n",
       "      <td>7</td>\n",
       "    </tr>\n",
       "    <tr>\n",
       "      <th>5</th>\n",
       "      <td>staff_33</td>\n",
       "      <td>5</td>\n",
       "    </tr>\n",
       "    <tr>\n",
       "      <th>6</th>\n",
       "      <td>staff_17</td>\n",
       "      <td>5</td>\n",
       "    </tr>\n",
       "    <tr>\n",
       "      <th>7</th>\n",
       "      <td>staff_14</td>\n",
       "      <td>5</td>\n",
       "    </tr>\n",
       "    <tr>\n",
       "      <th>8</th>\n",
       "      <td>staff_13</td>\n",
       "      <td>5</td>\n",
       "    </tr>\n",
       "  </tbody>\n",
       "</table>\n",
       "</div>"
      ],
      "text/plain": [
       "      staff entries\n",
       "0  staff_11      10\n",
       "1   staff_8       9\n",
       "2  staff_21       9\n",
       "3  staff_31       7\n",
       "4  staff_41       7\n",
       "5  staff_33       5\n",
       "6  staff_17       5\n",
       "7  staff_14       5\n",
       "8  staff_13       5"
      ]
     },
     "execution_count": 23,
     "metadata": {},
     "output_type": "execute_result"
    }
   ],
   "source": [
    "#####################################################################\n",
    "# Purpose: Produce list of how many extreme observations by staff   #\n",
    "#####################################################################\n",
    "\n",
    "staff_extreme = pd.DataFrame(columns=['staff','entries']) \n",
    "\n",
    "for c in extreme_obs['Staff Member'].unique():\n",
    "    \n",
    "    aa = pd.DataFrame(extreme_obs.loc[extreme_obs['Staff Member'] == c])\n",
    "    l = len(extreme_obs.loc[extreme_obs['Staff Member'] == c])\n",
    "    \n",
    "   \n",
    "    staff_extreme = staff_extreme.append({'staff' : c, 'entries' : l}, ignore_index=True).sort_values(by='entries', ascending=False)\n",
    "    \n",
    "    staff_extreme = staff_extreme[staff_extreme['entries']  > 4]\n",
    "    \n",
    "staff_extreme"
   ]
  },
  {
   "cell_type": "code",
   "execution_count": 24,
   "id": "ready-assets",
   "metadata": {
    "scrolled": true
   },
   "outputs": [
    {
     "data": {
      "text/plain": [
       "95"
      ]
     },
     "execution_count": 24,
     "metadata": {},
     "output_type": "execute_result"
    }
   ],
   "source": [
    "len(extreme_obs)"
   ]
  },
  {
   "cell_type": "code",
   "execution_count": 25,
   "id": "false-stone",
   "metadata": {
    "scrolled": false
   },
   "outputs": [
    {
     "data": {
      "text/plain": [
       "'\\n\\ndata = merged_db[bx_list].fillna(0)\\nfig = plt.figure(figsize=(20,10))\\nfig.subplots_adjust(hspace=.5, wspace=.2)\\ni = 1\\nrlist = [1,1.5,2,2.5,3,3.5,4]\\n\\nfor x in rlist:#range(10, 0, -1):\\n    eps = x\\n#    eps = 1/(11-x)\\n    db = DBSCAN(eps=eps, min_samples=20).fit(data)\\n    core_samples_mask = np.zeros_like(db.labels_, dtype=bool)\\n    core_samples_mask[db.core_sample_indices_] = True\\n    labels = db.labels_\\n    \\n    print(eps)\\n    ax = fig.add_subplot(2, 5, i)\\n    ax.text(1, 4, \"eps = {}\".format(round(eps, 1)), fontsize=25, ha=\"center\")\\n    sns.scatterplot(data.iloc[:,0], data.iloc[:,1], hue=[\"cluster-{}\".format(x) for x in labels])\\n    i += 1\\n\\n'"
      ]
     },
     "execution_count": 25,
     "metadata": {},
     "output_type": "execute_result"
    }
   ],
   "source": [
    "###############################################################################################\n",
    "# Purpose: Find the best epsilon value for a dbscan model on our data                         #\n",
    "#                                                                                             #\n",
    "# Output several plots for values of eps                                                      #\n",
    "###############################################################################################\n",
    "from sklearn.cluster import DBSCAN\n",
    "\n",
    "'''\n",
    "\n",
    "data = merged_db[bx_list].fillna(0)\n",
    "fig = plt.figure(figsize=(20,10))\n",
    "fig.subplots_adjust(hspace=.5, wspace=.2)\n",
    "i = 1\n",
    "rlist = [1,1.5,2,2.5,3,3.5,4]\n",
    "\n",
    "for x in rlist:#range(10, 0, -1):\n",
    "    eps = x\n",
    "#    eps = 1/(11-x)\n",
    "    db = DBSCAN(eps=eps, min_samples=20).fit(data)\n",
    "    core_samples_mask = np.zeros_like(db.labels_, dtype=bool)\n",
    "    core_samples_mask[db.core_sample_indices_] = True\n",
    "    labels = db.labels_\n",
    "    \n",
    "    print(eps)\n",
    "    ax = fig.add_subplot(2, 5, i)\n",
    "    ax.text(1, 4, \"eps = {}\".format(round(eps, 1)), fontsize=25, ha=\"center\")\n",
    "    sns.scatterplot(data.iloc[:,0], data.iloc[:,1], hue=[\"cluster-{}\".format(x) for x in labels])\n",
    "    i += 1\n",
    "\n",
    "'''\n"
   ]
  },
  {
   "cell_type": "code",
   "execution_count": 26,
   "id": "marine-boating",
   "metadata": {
    "scrolled": false
   },
   "outputs": [
    {
     "name": "stderr",
     "output_type": "stream",
     "text": [
      "/home/eyesforcomputers/anaconda3/envs/data_env/lib/python3.8/site-packages/seaborn/_decorators.py:36: FutureWarning: Pass the following variables as keyword args: x, y. From version 0.12, the only valid positional argument will be `data`, and passing other arguments without an explicit keyword will result in an error or misinterpretation.\n",
      "  warnings.warn(\n"
     ]
    },
    {
     "name": "stdout",
     "output_type": "stream",
     "text": [
      "outliers: 15\n",
      "input length: 405\n",
      "Estimated number of clusters: 1\n",
      "Estimated number of noise points: 15\n",
      "Items found from kmeans and extreme_obs: 4\n",
      "Silhouette Score: 0.599\n"
     ]
    },
    {
     "data": {
      "image/png": "[encoded data removed]",
      "text/plain": [
       "<Figure size 720x720 with 1 Axes>"
      ]
     },
     "metadata": {
      "needs_background": "light"
     },
     "output_type": "display_data"
    }
   ],
   "source": [
    "###############################################################################################\n",
    "# Purpose: Determine clusters within the full behavor datafame within to identify as anomalias#\n",
    "#          using dbscan. Calculate the silhouette scores and compare the findings to          #\n",
    "#          extreme_obs df                                                                     #\n",
    "#                                                                                             #\n",
    "# Generates details on dbscan clustering and compares the model to the extreme_obs df         #\n",
    "# Also, outputs example clustered df for elope/protesting                                     #\n",
    "###############################################################################################\n",
    "\n",
    "\n",
    "\n",
    "from sklearn.cluster import DBSCAN\n",
    "from sklearn.metrics import silhouette_score\n",
    "import sklearn.metrics as metrics\n",
    "\n",
    "merged_db = merged.drop_duplicates()\n",
    "data = merged_db[bx_list].fillna(0).drop_duplicates()\n",
    "\n",
    "model = DBSCAN(eps = 2.5, min_samples = 20).fit(data)\n",
    "labels = model.labels_\n",
    "\n",
    "colors = model.labels_\n",
    "plt.xlabel('Elope')\n",
    "plt.ylabel('Protesting')\n",
    "plt.title('Clusters for Elope/Protesting')\n",
    "\n",
    "\n",
    "# Data from the manual extreme df\n",
    "sns.scatterplot(extreme_obs.elope,extreme_obs.protesting, color='black')#, marker='x')\n",
    "\n",
    "plt.scatter(data[\"elope\"], data['protesting'], c = colors, alpha=.3)\n",
    "\n",
    "\n",
    "\n",
    "outliers = data[model.labels_ == -1]\n",
    "\n",
    "print('outliers: ' + str(len(outliers)))\n",
    "print('input length: ' + str(len(data)))\n",
    "\n",
    "n_clusters_ = len(set(labels)) - (1 if -1 in labels else 0)\n",
    "n_noise_ = list(labels).count(-1)\n",
    "print('Estimated number of clusters: %d' % n_clusters_)\n",
    "print('Estimated number of noise points: %d' % n_noise_)\n",
    "\n",
    "in_both = extreme_obs.merge(outliers, how = 'inner' ,indicator=False).drop_duplicates()\n",
    "#in_both = in_both.drop_duplicates()\n",
    "print('Items found from kmeans and extreme_obs: ' + str(len(in_both)))\n",
    "print(\"Silhouette Score: %0.3f\" % metrics.silhouette_score(data, labels))\n",
    "\n",
    "plt.show()"
   ]
  },
  {
   "cell_type": "code",
   "execution_count": 69,
   "id": "systematic-thickness",
   "metadata": {},
   "outputs": [
    {
     "data": {
      "text/html": [
       "<div>\n",
       "<style scoped>\n",
       "    .dataframe tbody tr th:only-of-type {\n",
       "        vertical-align: middle;\n",
       "    }\n",
       "\n",
       "    .dataframe tbody tr th {\n",
       "        vertical-align: top;\n",
       "    }\n",
       "\n",
       "    .dataframe thead th {\n",
       "        text-align: right;\n",
       "    }\n",
       "</style>\n",
       "<table border=\"1\" class=\"dataframe\">\n",
       "  <thead>\n",
       "    <tr style=\"text-align: right;\">\n",
       "      <th></th>\n",
       "      <th>aggression</th>\n",
       "      <th>elope</th>\n",
       "      <th>non-compliance</th>\n",
       "      <th>protesting</th>\n",
       "      <th>sib</th>\n",
       "      <th>outliersTrue</th>\n",
       "    </tr>\n",
       "    <tr>\n",
       "      <th>Client</th>\n",
       "      <th></th>\n",
       "      <th></th>\n",
       "      <th></th>\n",
       "      <th></th>\n",
       "      <th></th>\n",
       "      <th></th>\n",
       "    </tr>\n",
       "  </thead>\n",
       "  <tbody>\n",
       "    <tr>\n",
       "      <th>client_0</th>\n",
       "      <td>-0.585974</td>\n",
       "      <td>4.704705</td>\n",
       "      <td>0.105600</td>\n",
       "      <td>-0.050533</td>\n",
       "      <td>5.455334</td>\n",
       "      <td>True</td>\n",
       "    </tr>\n",
       "    <tr>\n",
       "      <th>client_1</th>\n",
       "      <td>-0.212198</td>\n",
       "      <td>8.578412</td>\n",
       "      <td>0.000000</td>\n",
       "      <td>2.317852</td>\n",
       "      <td>0.000000</td>\n",
       "      <td>True</td>\n",
       "    </tr>\n",
       "    <tr>\n",
       "      <th>client_1</th>\n",
       "      <td>3.899339</td>\n",
       "      <td>1.799424</td>\n",
       "      <td>0.000000</td>\n",
       "      <td>4.224113</td>\n",
       "      <td>0.000000</td>\n",
       "      <td>True</td>\n",
       "    </tr>\n",
       "    <tr>\n",
       "      <th>client_1</th>\n",
       "      <td>-0.585974</td>\n",
       "      <td>8.578412</td>\n",
       "      <td>0.000000</td>\n",
       "      <td>3.761989</td>\n",
       "      <td>0.000000</td>\n",
       "      <td>True</td>\n",
       "    </tr>\n",
       "    <tr>\n",
       "      <th>client_1</th>\n",
       "      <td>-0.585974</td>\n",
       "      <td>7.287176</td>\n",
       "      <td>0.000000</td>\n",
       "      <td>0.584888</td>\n",
       "      <td>0.000000</td>\n",
       "      <td>True</td>\n",
       "    </tr>\n",
       "    <tr>\n",
       "      <th>client_2</th>\n",
       "      <td>-0.585974</td>\n",
       "      <td>6.964367</td>\n",
       "      <td>0.105600</td>\n",
       "      <td>0.000000</td>\n",
       "      <td>0.000000</td>\n",
       "      <td>True</td>\n",
       "    </tr>\n",
       "    <tr>\n",
       "      <th>client_5</th>\n",
       "      <td>2.217347</td>\n",
       "      <td>2.445042</td>\n",
       "      <td>4.378720</td>\n",
       "      <td>0.000000</td>\n",
       "      <td>0.000000</td>\n",
       "      <td>True</td>\n",
       "    </tr>\n",
       "    <tr>\n",
       "      <th>client_5</th>\n",
       "      <td>2.030459</td>\n",
       "      <td>4.381896</td>\n",
       "      <td>2.442462</td>\n",
       "      <td>0.000000</td>\n",
       "      <td>0.000000</td>\n",
       "      <td>True</td>\n",
       "    </tr>\n",
       "    <tr>\n",
       "      <th>client_5</th>\n",
       "      <td>1.656682</td>\n",
       "      <td>2.767851</td>\n",
       "      <td>5.380232</td>\n",
       "      <td>0.000000</td>\n",
       "      <td>0.000000</td>\n",
       "      <td>True</td>\n",
       "    </tr>\n",
       "    <tr>\n",
       "      <th>client_6</th>\n",
       "      <td>3.712451</td>\n",
       "      <td>2.767851</td>\n",
       "      <td>-0.495307</td>\n",
       "      <td>0.700419</td>\n",
       "      <td>2.266010</td>\n",
       "      <td>True</td>\n",
       "    </tr>\n",
       "    <tr>\n",
       "      <th>client_6</th>\n",
       "      <td>0.348466</td>\n",
       "      <td>0.508188</td>\n",
       "      <td>-0.495307</td>\n",
       "      <td>0.411591</td>\n",
       "      <td>9.176212</td>\n",
       "      <td>True</td>\n",
       "    </tr>\n",
       "    <tr>\n",
       "      <th>client_6</th>\n",
       "      <td>2.404235</td>\n",
       "      <td>2.767851</td>\n",
       "      <td>-0.495307</td>\n",
       "      <td>1.393604</td>\n",
       "      <td>2.000233</td>\n",
       "      <td>True</td>\n",
       "    </tr>\n",
       "    <tr>\n",
       "      <th>client_6</th>\n",
       "      <td>2.030459</td>\n",
       "      <td>3.090660</td>\n",
       "      <td>-0.428540</td>\n",
       "      <td>0.296060</td>\n",
       "      <td>4.923780</td>\n",
       "      <td>True</td>\n",
       "    </tr>\n",
       "    <tr>\n",
       "      <th>client_7</th>\n",
       "      <td>3.899339</td>\n",
       "      <td>0.185379</td>\n",
       "      <td>0.000000</td>\n",
       "      <td>0.000000</td>\n",
       "      <td>2.531787</td>\n",
       "      <td>True</td>\n",
       "    </tr>\n",
       "    <tr>\n",
       "      <th>client_7</th>\n",
       "      <td>5.020668</td>\n",
       "      <td>-0.460239</td>\n",
       "      <td>0.000000</td>\n",
       "      <td>0.000000</td>\n",
       "      <td>2.531787</td>\n",
       "      <td>True</td>\n",
       "    </tr>\n",
       "  </tbody>\n",
       "</table>\n",
       "</div>"
      ],
      "text/plain": [
       "          aggression     elope  non-compliance  protesting       sib  \\\n",
       "Client                                                                 \n",
       "client_0   -0.585974  4.704705        0.105600   -0.050533  5.455334   \n",
       "client_1   -0.212198  8.578412        0.000000    2.317852  0.000000   \n",
       "client_1    3.899339  1.799424        0.000000    4.224113  0.000000   \n",
       "client_1   -0.585974  8.578412        0.000000    3.761989  0.000000   \n",
       "client_1   -0.585974  7.287176        0.000000    0.584888  0.000000   \n",
       "client_2   -0.585974  6.964367        0.105600    0.000000  0.000000   \n",
       "client_5    2.217347  2.445042        4.378720    0.000000  0.000000   \n",
       "client_5    2.030459  4.381896        2.442462    0.000000  0.000000   \n",
       "client_5    1.656682  2.767851        5.380232    0.000000  0.000000   \n",
       "client_6    3.712451  2.767851       -0.495307    0.700419  2.266010   \n",
       "client_6    0.348466  0.508188       -0.495307    0.411591  9.176212   \n",
       "client_6    2.404235  2.767851       -0.495307    1.393604  2.000233   \n",
       "client_6    2.030459  3.090660       -0.428540    0.296060  4.923780   \n",
       "client_7    3.899339  0.185379        0.000000    0.000000  2.531787   \n",
       "client_7    5.020668 -0.460239        0.000000    0.000000  2.531787   \n",
       "\n",
       "          outliersTrue  \n",
       "Client                  \n",
       "client_0          True  \n",
       "client_1          True  \n",
       "client_1          True  \n",
       "client_1          True  \n",
       "client_1          True  \n",
       "client_2          True  \n",
       "client_5          True  \n",
       "client_5          True  \n",
       "client_5          True  \n",
       "client_6          True  \n",
       "client_6          True  \n",
       "client_6          True  \n",
       "client_6          True  \n",
       "client_7          True  \n",
       "client_7          True  "
      ]
     },
     "execution_count": 69,
     "metadata": {},
     "output_type": "execute_result"
    }
   ],
   "source": [
    "outliers[:]"
   ]
  },
  {
   "cell_type": "code",
   "execution_count": 27,
   "id": "creative-thousand",
   "metadata": {
    "scrolled": true
   },
   "outputs": [
    {
     "name": "stdout",
     "output_type": "stream",
     "text": [
      "15           aggression     elope  non-compliance  protesting       sib\n",
      "Client                                                              \n",
      "client_0   -0.585974  4.704705          0.1056   -0.050533  5.455334\n",
      "client_1   -0.212198  8.578412          0.0000    2.317852  0.000000\n",
      "client_1    3.899339  1.799424          0.0000    4.224113  0.000000\n",
      "\n",
      "Number DBSCAN found True:  4\n"
     ]
    }
   ],
   "source": [
    "#outliers = data[model.labels_ == -1]#.drop_duplicates()\n",
    "\n",
    "outliers = outliers.drop_duplicates()\n",
    "print(len(outliers), outliers.head(3))\n",
    "print('\\nNumber DBSCAN found True: ',len(in_both))\n",
    "\n",
    "\n"
   ]
  },
  {
   "cell_type": "code",
   "execution_count": 28,
   "id": "ancient-wireless",
   "metadata": {
    "scrolled": true
   },
   "outputs": [
    {
     "data": {
      "text/plain": [
       "[<matplotlib.lines.Line2D at 0x7fb1bd2bf940>]"
      ]
     },
     "execution_count": 28,
     "metadata": {},
     "output_type": "execute_result"
    },
    {
     "data": {
      "image/png": "[encoded data removed]",
      "text/plain": [
       "<Figure size 720x720 with 1 Axes>"
      ]
     },
     "metadata": {
      "needs_background": "light"
     },
     "output_type": "display_data"
    }
   ],
   "source": [
    "from sklearn.neighbors import NearestNeighbors\n",
    "\n",
    "eo = extreme_obs.fillna(extreme_obs[bx_list].mean())\n",
    "\n",
    "data = eo[bx_list]\n",
    "\n",
    "neighbors = NearestNeighbors(n_neighbors=20)\n",
    "neighbors_fit = neighbors.fit(data)\n",
    "distances, indices = neighbors_fit.kneighbors(data)\n",
    "\n",
    "distances = np.sort(distances, axis=0)\n",
    "distances = distances[:,1]\n",
    "plt.plot(distances)"
   ]
  },
  {
   "cell_type": "code",
   "execution_count": 29,
   "id": "embedded-source",
   "metadata": {
    "scrolled": false
   },
   "outputs": [],
   "source": [
    "#data = merged_db[bx_list].fillna(merged_db[bx_list].mean())\n"
   ]
  },
  {
   "cell_type": "code",
   "execution_count": 30,
   "id": "mineral-hydrogen",
   "metadata": {
    "scrolled": false
   },
   "outputs": [
    {
     "name": "stderr",
     "output_type": "stream",
     "text": [
      "/home/eyesforcomputers/anaconda3/envs/data_env/lib/python3.8/site-packages/seaborn/_decorators.py:36: FutureWarning: Pass the following variables as keyword args: x, y. From version 0.12, the only valid positional argument will be `data`, and passing other arguments without an explicit keyword will result in an error or misinterpretation.\n",
      "  warnings.warn(\n",
      "/home/eyesforcomputers/anaconda3/envs/data_env/lib/python3.8/site-packages/seaborn/_decorators.py:36: FutureWarning: Pass the following variables as keyword args: x, y. From version 0.12, the only valid positional argument will be `data`, and passing other arguments without an explicit keyword will result in an error or misinterpretation.\n",
      "  warnings.warn(\n"
     ]
    },
    {
     "name": "stdout",
     "output_type": "stream",
     "text": [
      "input length: 405\n",
      "Estimated number of clusters: 2\n",
      "Estimated number of noise points: 56\n",
      "Same found in each frame: 8\n",
      "Silhouette Score(n=2): 0.4833183058406453\n"
     ]
    },
    {
     "data": {
      "image/png": "[encoded data removed]",
      "text/plain": [
       "<Figure size 720x720 with 1 Axes>"
      ]
     },
     "metadata": {
      "needs_background": "light"
     },
     "output_type": "display_data"
    }
   ],
   "source": [
    "###############################################################################################\n",
    "# Purpose: Examine clusters produced by kmeans model. Two clustrs were chosen to seperate     #\n",
    "#          extreme from non-extreme observations                                              #\n",
    "#                                                                                             #\n",
    "# Generates details on kmeans clustering and compares the model to the extreme_obs df         #\n",
    "# Also, outputs example plot for clustered df elope/protesting                                #\n",
    "###############################################################################################\n",
    "\n",
    "from sklearn.cluster import KMeans\n",
    "\n",
    "kmdata = []\n",
    "kmlabels = []\n",
    "\n",
    "kmdata = merged_db[bx_list].fillna(merged_db[bx_list].mean())\n",
    "kmdata = kmdata.drop_duplicates()\n",
    "\n",
    "km = KMeans(2)\n",
    "km.fit(kmdata)\n",
    "kmlabels=km.predict(kmdata)\n",
    "\n",
    "# Find the extreme outliers\n",
    "kmoutliers = kmdata[km.labels_ == 0]\n",
    "\n",
    "\n",
    "sns.scatterplot(kmdata.elope,kmdata.protesting,hue=kmlabels, color='blue')\n",
    "\n",
    "# Data from the manual extreme df\n",
    "sns.scatterplot(extreme_obs.elope,extreme_obs.protesting, color='black')\n",
    "\n",
    "\n",
    "\n",
    "print('input length: ' + str(len(kmdata)))\n",
    "n_clusters_ = len(set(kmlabels)) - (1 if -1 in kmlabels else 0)\n",
    "n_noise_ = len(kmoutliers)\n",
    "print('Estimated number of clusters: %d' % n_clusters_)\n",
    "print('Estimated number of noise points: %d' % n_noise_)\n",
    "\n",
    "in_both = extreme_obs.merge(kmoutliers, how = 'inner' ,indicator=False)\n",
    "print('Same found in each frame: ' + str(len(in_both)))\n",
    "print(f'Silhouette Score(n=2): {silhouette_score(kmdata.drop_duplicates(), kmlabels)}')\n"
   ]
  },
  {
   "cell_type": "code",
   "execution_count": 31,
   "id": "blessed-single",
   "metadata": {
    "scrolled": true
   },
   "outputs": [
    {
     "data": {
      "image/png": "[encoded data removed]",
      "text/plain": [
       "<Figure size 720x720 with 1 Axes>"
      ]
     },
     "metadata": {
      "needs_background": "light"
     },
     "output_type": "display_data"
    }
   ],
   "source": [
    "client_elope = plt.scatter(extreme_obs['client'],extreme_obs['elope'])\n",
    "plt.title('Distribution of observed instances of elope by client')\n",
    "plt.ylabel('BX: elope')\n",
    "plt.show()"
   ]
  },
  {
   "cell_type": "code",
   "execution_count": 32,
   "id": "binding-nursing",
   "metadata": {
    "scrolled": true
   },
   "outputs": [
    {
     "data": {
      "image/png": "[encoded data removed]",
      "text/plain": [
       "<Figure size 720x720 with 1 Axes>"
      ]
     },
     "metadata": {
      "needs_background": "light"
     },
     "output_type": "display_data"
    }
   ],
   "source": [
    "client_elope = plt.scatter(extreme_obs['Staff Member'],extreme_obs['elope'])\n",
    "\n",
    "#client_elope = client_elope['elope'] > .4\n",
    "plt.title('Distribution of observed instances of elope by Staff Member')\n",
    "plt.ylabel('BX: elope')\n",
    "plt.show()"
   ]
  }
 ],
 "metadata": {
  "kernelspec": {
   "display_name": "data_env",
   "language": "python",
   "name": "data_env"
  },
  "language_info": {
   "codemirror_mode": {
    "name": "ipython",
    "version": 3
   },
   "file_extension": ".py",
   "mimetype": "text/x-python",
   "name": "python",
   "nbconvert_exporter": "python",
   "pygments_lexer": "ipython3",
   "version": "3.8.5"
  }
 },
 "nbformat": 4,
 "nbformat_minor": 5
}
