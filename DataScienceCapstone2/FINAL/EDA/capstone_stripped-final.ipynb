{
 "cells": [
  {
   "cell_type": "code",
   "execution_count": 1,
   "id": "precise-census",
   "metadata": {},
   "outputs": [],
   "source": [
    "# Merging columns in many excel files to a standar format\n",
    "\n",
    "# Many staff have created their own excel sheets to show similiar\n",
    "# information. This script will find the standar name targets in\n",
    "# each sheet and put them into a single standard format.\n"
   ]
  },
  {
   "cell_type": "code",
   "execution_count": 3,
   "id": "offshore-airplane",
   "metadata": {},
   "outputs": [],
   "source": [
    "import matplotlib.pyplot as plt\n",
    "import requests\n",
    "import pandas as pd\n",
    "from fuzzywuzzy import fuzz, process\n",
    "import Levenshtein\n",
    "import os\n",
    "import glob\n",
    "\n",
    "import pandas_profiling\n",
    "from pandas_profiling.utils.cache import cache_file"
   ]
  },
  {
   "cell_type": "code",
   "execution_count": 7,
   "id": "revolutionary-playing",
   "metadata": {},
   "outputs": [
    {
     "name": "stdout",
     "output_type": "stream",
     "text": [
      "['/home/eyesforcomputers/Scripts/git/DataScienceCapstone2/EDA/Dirty_SBA_AppointmentList.xlsx', '/home/eyesforcomputers/Scripts/git/DataScienceCapstone2/EDA/SBA_AppointmentList.original.xlsx', '/home/eyesforcomputers/Scripts/git/DataScienceCapstone2/EDA/111Clean_SBA_AppointmentList.xlsx', '/home/eyesforcomputers/Scripts/git/DataScienceCapstone2/EDA/Clean_SBA_AppointmentList.xlsx']\n",
      "4\n",
      "finished  1  files\n",
      "Index(['Unnamed: 0', 'Date', 'Day', 'Time', 'Client', 'Staff Member',\n",
      "       'Duration'],\n",
      "      dtype='object')\n",
      "4\n",
      "finished  2  files\n",
      "Index(['Unnamed: 0', 'Unnamed: 1', 'Unnamed: 2', 'Unnamed: 3', 'Unnamed: 4',\n",
      "       'Unnamed: 5', 'Unnamed: 6', 'Unnamed: 7', 'Unnamed: 8', 'Unnamed: 9',\n",
      "       'Unnamed: 10', 'Unnamed: 11', 'Unnamed: 12', 'Unnamed: 13',\n",
      "       'Unnamed: 14', 'Unnamed: 15', 'Unnamed: 16', 'Unnamed: 17',\n",
      "       'Unnamed: 18', 'Unnamed: 19', 'Unnamed: 20', 'Unnamed: 21',\n",
      "       'Unnamed: 22'],\n",
      "      dtype='object')\n",
      "4\n",
      "finished  3  files\n",
      "Index(['Date', 'Day', 'Client', 'Staff Member', 'Duration'], dtype='object')\n",
      "4\n",
      "finished  4  files\n",
      "Index(['Date', 'Day', 'Client', 'Staff Member', 'Duration'], dtype='object')\n"
     ]
    },
    {
     "ename": "TypeError",
     "evalue": "bad operand type for unary ~: 'str'",
     "output_type": "error",
     "traceback": [
      "\u001b[0;31m---------------------------------------------------------------------\u001b[0m",
      "\u001b[0;31mTypeError\u001b[0m                           Traceback (most recent call last)",
      "\u001b[0;32m<ipython-input-7-3bf79a0ba066>\u001b[0m in \u001b[0;36m<module>\u001b[0;34m\u001b[0m\n\u001b[1;32m     16\u001b[0m     \u001b[0mextracted_df\u001b[0m \u001b[0;34m=\u001b[0m \u001b[0mextracted_df\u001b[0m\u001b[0;34m.\u001b[0m\u001b[0mappend\u001b[0m\u001b[0;34m(\u001b[0m\u001b[0mdf\u001b[0m\u001b[0;34m)\u001b[0m\u001b[0;34m\u001b[0m\u001b[0;34m\u001b[0m\u001b[0m\n\u001b[1;32m     17\u001b[0m \u001b[0;34m\u001b[0m\u001b[0m\n\u001b[0;32m---> 18\u001b[0;31m \u001b[0mextracted_df\u001b[0m\u001b[0;34m.\u001b[0m\u001b[0mcolumns\u001b[0m \u001b[0;34m=\u001b[0m \u001b[0mmap\u001b[0m\u001b[0;34m(\u001b[0m\u001b[0mstr\u001b[0m\u001b[0;34m.\u001b[0m\u001b[0mlower\u001b[0m\u001b[0;34m,\u001b[0m \u001b[0mextracted_df\u001b[0m\u001b[0;34m.\u001b[0m\u001b[0mcolumns\u001b[0m\u001b[0;34m[\u001b[0m\u001b[0;34m~\u001b[0m\u001b[0;34m'Date'\u001b[0m\u001b[0;34m]\u001b[0m\u001b[0;34m)\u001b[0m\u001b[0;34m\u001b[0m\u001b[0;34m\u001b[0m\u001b[0m\n\u001b[0m\u001b[1;32m     19\u001b[0m \u001b[0mextracted_cols\u001b[0m \u001b[0;34m=\u001b[0m \u001b[0mextracted_df\u001b[0m\u001b[0;34m.\u001b[0m\u001b[0mcolumns\u001b[0m\u001b[0;34m\u001b[0m\u001b[0;34m\u001b[0m\u001b[0m\n\u001b[1;32m     20\u001b[0m \u001b[0mextracted_df\u001b[0m \u001b[0;34m=\u001b[0m \u001b[0mextracted_df\u001b[0m\u001b[0;34m.\u001b[0m\u001b[0mset_index\u001b[0m\u001b[0;34m(\u001b[0m\u001b[0;34m'date'\u001b[0m\u001b[0;34m)\u001b[0m\u001b[0;34m\u001b[0m\u001b[0;34m\u001b[0m\u001b[0m\n",
      "\u001b[0;31mTypeError\u001b[0m: bad operand type for unary ~: 'str'"
     ]
    }
   ],
   "source": [
    "    extracted_df = pd.DataFrame()\n",
    "    test = pd.DataFrame()\n",
    "    x=0\n",
    "    test = pd.concat([extracted_df, test])\n",
    "\n",
    "    path = os.getcwd()\n",
    "    excel_files = glob.glob(os.path.join(path, \"*.xlsx\"))\n",
    "    print(excel_files)\n",
    "    \n",
    "    for file in excel_files:\n",
    "        print(len(excel_files))\n",
    "        x += 1\n",
    "        print('finished ', x, ' files')\n",
    "        df = pd.concat(pd.read_excel(file, sheet_name=None), ignore_index=True)\n",
    "        print(df.keys())\n",
    "        extracted_df = extracted_df.append(df)\n",
    "\n",
    "    extracted_df.columns = map(str.lower, extracted_df.columns[~'Date'])\n",
    "    extracted_cols = extracted_df.columns \n",
    "    extracted_df = extracted_df.set_index('date')\n",
    "    \n",
    "    print('should be df next')"
   ]
  },
  {
   "cell_type": "code",
   "execution_count": 4,
   "id": "broadband-draft",
   "metadata": {},
   "outputs": [],
   "source": [
    "# Function to read in all excel files in a folder and creates a single dataframe\n",
    "# Output is the full df and the column names that have been extracted\n",
    "\n",
    "def read_all_excel_cwd():\n",
    "\n",
    "    extracted_df = pd.DataFrame()\n",
    "    test = pd.DataFrame()\n",
    "    x=0\n",
    "    test = pd.concat([extracted_df, test])\n",
    "\n",
    "    path = os.getcwd()\n",
    "    excel_files = glob.glob(os.path.join(path, \"*.xlsx\"))\n",
    "    print(excel_files)\n",
    "    \n",
    "    for file in excel_files:\n",
    "        print(len(excel_files))\n",
    "        x += 1\n",
    "        print('finished ', x, ' files')\n",
    "        df = pd.concat(pd.read_excel(file, sheet_name=None), ignore_index=True)\n",
    "        print(df.keys())\n",
    "        extracted_df = extracted_df.append(df)\n",
    "\n",
    "    extracted_df.columns = map(str.lower, extracted_df.columns[~'Date'])\n",
    "    extracted_cols = extracted_df.columns \n",
    "    extracted_df = extracted_df.set_index('date')\n",
    "    \n",
    "    print('should be df next')\n",
    "      \n",
    "    return extracted_df, extracted_cols\n",
    "\n",
    "# An extention on this would have it read in each file one by one to a dictionary "
   ]
  },
  {
   "cell_type": "code",
   "execution_count": 5,
   "id": "finite-admission",
   "metadata": {
    "scrolled": false
   },
   "outputs": [
    {
     "name": "stdout",
     "output_type": "stream",
     "text": [
      "['/home/eyesforcomputers/Scripts/git/DataScienceCapstone2/EDA/Dirty_SBA_AppointmentList.xlsx', '/home/eyesforcomputers/Scripts/git/DataScienceCapstone2/EDA/SBA_AppointmentList.original.xlsx', '/home/eyesforcomputers/Scripts/git/DataScienceCapstone2/EDA/111Clean_SBA_AppointmentList.xlsx', '/home/eyesforcomputers/Scripts/git/DataScienceCapstone2/EDA/Clean_SBA_AppointmentList.xlsx']\n",
      "4\n",
      "finished  1  files\n",
      "Index(['Unnamed: 0', 'Date', 'Day', 'Time', 'Client', 'Staff Member',\n",
      "       'Duration'],\n",
      "      dtype='object')\n",
      "4\n",
      "finished  2  files\n",
      "Index(['Unnamed: 0', 'Unnamed: 1', 'Unnamed: 2', 'Unnamed: 3', 'Unnamed: 4',\n",
      "       'Unnamed: 5', 'Unnamed: 6', 'Unnamed: 7', 'Unnamed: 8', 'Unnamed: 9',\n",
      "       'Unnamed: 10', 'Unnamed: 11', 'Unnamed: 12', 'Unnamed: 13',\n",
      "       'Unnamed: 14', 'Unnamed: 15', 'Unnamed: 16', 'Unnamed: 17',\n",
      "       'Unnamed: 18', 'Unnamed: 19', 'Unnamed: 20', 'Unnamed: 21',\n",
      "       'Unnamed: 22'],\n",
      "      dtype='object')\n",
      "4\n",
      "finished  3  files\n",
      "Index(['Date', 'Day', 'Client', 'Staff Member', 'Duration'], dtype='object')\n",
      "4\n",
      "finished  4  files\n",
      "Index(['Date', 'Day', 'Client', 'Staff Member', 'Duration'], dtype='object')\n"
     ]
    },
    {
     "ename": "TypeError",
     "evalue": "bad operand type for unary ~: 'str'",
     "output_type": "error",
     "traceback": [
      "\u001b[0;31m---------------------------------------------------------------------\u001b[0m",
      "\u001b[0;31mTypeError\u001b[0m                           Traceback (most recent call last)",
      "\u001b[0;32m<ipython-input-5-30d14966aa58>\u001b[0m in \u001b[0;36m<module>\u001b[0;34m\u001b[0m\n\u001b[0;32m----> 1\u001b[0;31m \u001b[0mextracted_df\u001b[0m\u001b[0;34m,\u001b[0m \u001b[0mextracted_cols\u001b[0m \u001b[0;34m=\u001b[0m \u001b[0mread_all_excel_cwd\u001b[0m\u001b[0;34m(\u001b[0m\u001b[0;34m)\u001b[0m\u001b[0;34m\u001b[0m\u001b[0;34m\u001b[0m\u001b[0m\n\u001b[0m",
      "\u001b[0;32m<ipython-input-4-4d6b31443d4c>\u001b[0m in \u001b[0;36mread_all_excel_cwd\u001b[0;34m()\u001b[0m\n\u001b[1;32m     21\u001b[0m         \u001b[0mextracted_df\u001b[0m \u001b[0;34m=\u001b[0m \u001b[0mextracted_df\u001b[0m\u001b[0;34m.\u001b[0m\u001b[0mappend\u001b[0m\u001b[0;34m(\u001b[0m\u001b[0mdf\u001b[0m\u001b[0;34m)\u001b[0m\u001b[0;34m\u001b[0m\u001b[0;34m\u001b[0m\u001b[0m\n\u001b[1;32m     22\u001b[0m \u001b[0;34m\u001b[0m\u001b[0m\n\u001b[0;32m---> 23\u001b[0;31m     \u001b[0mextracted_df\u001b[0m\u001b[0;34m.\u001b[0m\u001b[0mcolumns\u001b[0m \u001b[0;34m=\u001b[0m \u001b[0mmap\u001b[0m\u001b[0;34m(\u001b[0m\u001b[0mstr\u001b[0m\u001b[0;34m.\u001b[0m\u001b[0mlower\u001b[0m\u001b[0;34m,\u001b[0m \u001b[0mextracted_df\u001b[0m\u001b[0;34m.\u001b[0m\u001b[0mcolumns\u001b[0m\u001b[0;34m[\u001b[0m\u001b[0;34m~\u001b[0m\u001b[0;34m'Date'\u001b[0m\u001b[0;34m]\u001b[0m\u001b[0;34m)\u001b[0m\u001b[0;34m\u001b[0m\u001b[0;34m\u001b[0m\u001b[0m\n\u001b[0m\u001b[1;32m     24\u001b[0m     \u001b[0mextracted_cols\u001b[0m \u001b[0;34m=\u001b[0m \u001b[0mextracted_df\u001b[0m\u001b[0;34m.\u001b[0m\u001b[0mcolumns\u001b[0m\u001b[0;34m\u001b[0m\u001b[0;34m\u001b[0m\u001b[0m\n\u001b[1;32m     25\u001b[0m     \u001b[0mextracted_df\u001b[0m \u001b[0;34m=\u001b[0m \u001b[0mextracted_df\u001b[0m\u001b[0;34m.\u001b[0m\u001b[0mset_index\u001b[0m\u001b[0;34m(\u001b[0m\u001b[0;34m'date'\u001b[0m\u001b[0;34m)\u001b[0m\u001b[0;34m\u001b[0m\u001b[0;34m\u001b[0m\u001b[0m\n",
      "\u001b[0;31mTypeError\u001b[0m: bad operand type for unary ~: 'str'"
     ]
    }
   ],
   "source": [
    "extracted_df, extracted_cols = read_all_excel_cwd()"
   ]
  },
  {
   "cell_type": "code",
   "execution_count": 6,
   "id": "relevant-clothing",
   "metadata": {},
   "outputs": [
    {
     "ename": "NameError",
     "evalue": "name 'extracted_df' is not defined",
     "output_type": "error",
     "traceback": [
      "\u001b[0;31m---------------------------------------------------------------------\u001b[0m",
      "\u001b[0;31mNameError\u001b[0m                           Traceback (most recent call last)",
      "\u001b[0;32m<ipython-input-6-a215b373c1a1>\u001b[0m in \u001b[0;36m<module>\u001b[0;34m\u001b[0m\n\u001b[0;32m----> 1\u001b[0;31m \u001b[0mextracted_df\u001b[0m\u001b[0;34m.\u001b[0m\u001b[0mhead\u001b[0m\u001b[0;34m(\u001b[0m\u001b[0;34m)\u001b[0m\u001b[0;34m\u001b[0m\u001b[0;34m\u001b[0m\u001b[0m\n\u001b[0m",
      "\u001b[0;31mNameError\u001b[0m: name 'extracted_df' is not defined"
     ]
    }
   ],
   "source": [
    "extracted_df.head()"
   ]
  },
  {
   "cell_type": "code",
   "execution_count": null,
   "id": "analyzed-apparatus",
   "metadata": {},
   "outputs": [],
   "source": [
    "# Creating a list of target behaviors that are being searched for\n",
    "\n",
    "bx_list = ['aggression', 'elope', 'non-compliance', 'sib', 'protesting'  ] #'agg','repeated' #'date'"
   ]
  },
  {
   "cell_type": "code",
   "execution_count": null,
   "id": "listed-proposition",
   "metadata": {
    "scrolled": true
   },
   "outputs": [],
   "source": [
    "# Function takes in the target bx list and the column names that have been extracted\n",
    "# and returns  match_df of the target bx, the matched column from the extracted_df and\n",
    "# the fuzz.partial_ratio of the match\n",
    "\n",
    "def fuzz_match(bx_list,extracted_cols):\n",
    "\n",
    "    matches = []\n",
    "    match_df = pd.DataFrame()\n",
    "\n",
    "    \n",
    "    for bx in bx_list:\n",
    "        print('working on: ', bx)\n",
    "    \n",
    "        for item in extracted_cols:\n",
    "           \n",
    "            fuzz_pr = fuzz.partial_ratio(item, bx)\n",
    "        \n",
    "            df_res = pd.DataFrame(data={'bx': bx, 'original_col_name' : item, 'fuzz_pr':fuzz_pr}, index=[i for i in range(len(extracted_df))] )\n",
    "            match_df = match_df.append(df_res)\n",
    "\n",
    "    return match_df\n",
    "\n",
    "match_df = fuzz_match(bx_list,extracted_cols)\n",
    "print('done')\n",
    "\n"
   ]
  },
  {
   "cell_type": "code",
   "execution_count": null,
   "id": "piano-audience",
   "metadata": {},
   "outputs": [],
   "source": [
    "# Create df for each target bx match against the extracted_cols and joins them together in all_matches\n",
    "\n",
    "agg_matches = match_df.loc[(match_df.bx.str.contains('aggression')) & (match_df.fuzz_pr > 80)].drop_duplicates(subset =\"original_col_name\", keep ='first', inplace = False)\n",
    "\n",
    "elope_matches = match_df.loc[(match_df.bx.str.contains('elope')) & (match_df.fuzz_pr > 65)].drop_duplicates(subset =\"original_col_name\", keep ='first', inplace = False)\n",
    "\n",
    "noncomp_matches = match_df.loc[(match_df.bx.str.contains('non-compliance')) & (match_df.fuzz_pr > 90)].drop_duplicates(subset =\"original_col_name\", keep ='first', inplace = False)\n",
    "\n",
    "protest_matches = match_df.loc[(match_df.bx.str.contains('protest')) & (match_df.fuzz_pr > 70)].drop_duplicates(subset =\"original_col_name\", keep ='first', inplace = False)\n",
    "\n",
    "sib_matches = match_df.loc[(match_df.bx.str.contains('sib')) & (match_df.fuzz_pr > 80)].drop_duplicates(subset =\"original_col_name\", keep ='first', inplace = False)\n",
    "\n",
    "#date_matches = match_df.loc[(match_df.bx.str.contains('date')) & (match_df.fuzz_pr > 85)].drop_duplicates(subset =\"original_col_name\", keep ='first', inplace = False)\n",
    "\n",
    "\n",
    "all_matches = pd.concat([agg_matches, elope_matches, noncomp_matches, protest_matches, sib_matches])\n",
    "\n",
    "print('done')\n",
    "\n",
    "\n",
    "\n",
    "\n",
    "# Visually inspecting samples of the match_df by bx and fuzz_pr to determine a better match threshold\n",
    "\n",
    "\n",
    "#thresh 80\n",
    "#agg_matches_styled = match_df.loc[(match_df.bx.str.contains('aggression')) & (match_df.fuzz_pr > 50) & (match_df.fuzz_pr <= 100) ].groupby('fuzz_pr', sort=True).sample(10).style.background_gradient(subset='fuzz_pr',cmap='summer_r')\n",
    "\n",
    "#thresh 65\n",
    "#elope_matches_styled = match_df.loc[(match_df.bx.str.contains('elope')) & (match_df.fuzz_pr > 50) & (match_df.fuzz_pr <= 100) ].groupby('fuzz_pr', sort=True).sample(10).style.background_gradient(subset='fuzz_pr',cmap='summer_r')\n",
    "\n",
    "#thresh 90\n",
    "#noncomp_matches_styled = match_df.loc[(match_df.bx.str.contains('nc')) & (match_df.fuzz_pr > 50) & (match_df.fuzz_pr <= 100) ].groupby('fuzz_pr', sort=True).sample(10).style.background_gradient(subset='fuzz_pr',cmap='summer_r')\n",
    "\n",
    "# thresh = 80\n",
    "#date_matches_styled = match_df.loc[(match_df.bx.str.contains('date')) & (match_df.fuzz_pr > 50) & (match_df.fuzz_pr <= 100) ].groupby('fuzz_pr', sort=True).sample(10).style.background_gradient(subset='fuzz_pr',cmap='summer_r')\n",
    "\n",
    "# thresh=70\n",
    "#protest_matches_styled = match_df.loc[(match_df.bx.str.contains('protest')) & (match_df.fuzz_pr > 50) & (match_df.fuzz_pr <= 100) ].groupby('fuzz_pr', sort=True).sample(10).style.background_gradient(subset='fuzz_pr',cmap='summer_r')\n",
    "\n",
    "#profile_report = match_df.profile_report(explorative=True, html={'style': {'full_width': True}})\n",
    "#profile_report\n",
    "\n",
    "#put the thresholds in a dictionary to access later\n",
    "fuzz_thresh = { 'date_matches' : 80, 'agg_matches' : 70, 'elope_matches': 65, 'noncomp_matches' : 90, 'sib_matches' : 80} #'date_matches' : 80,\n",
    "\n"
   ]
  },
  {
   "cell_type": "code",
   "execution_count": null,
   "id": "english-lemon",
   "metadata": {},
   "outputs": [],
   "source": [
    "all_matches"
   ]
  },
  {
   "cell_type": "code",
   "execution_count": null,
   "id": "deluxe-karaoke",
   "metadata": {},
   "outputs": [],
   "source": [
    "# Function takes in df of all matching bx and column names and returns the master_df\n",
    "# containing of the extracted columns data put into the target column names \n",
    "\n",
    "\n",
    "#make dictionary using extracted_df[old col name].to_dict()\n",
    "def add_to_master_df(all_matches):\n",
    "    \n",
    "    master_df = pd.DataFrame()\n",
    "    \n",
    "    master_df = extracted_df[all_matches['original_col_name'].tolist()]\n",
    "    master_df.columns = all_matches.bx.tolist()\n",
    "    master_df.head()\n",
    "    \n",
    "    return master_df"
   ]
  },
  {
   "cell_type": "code",
   "execution_count": null,
   "id": "selected-breathing",
   "metadata": {},
   "outputs": [],
   "source": [
    "master_df = add_to_master_df(all_matches)"
   ]
  },
  {
   "cell_type": "code",
   "execution_count": null,
   "id": "loved-stevens",
   "metadata": {
    "scrolled": true
   },
   "outputs": [],
   "source": [
    "master_df.to_excel('master_df.xlsx')"
   ]
  },
  {
   "cell_type": "code",
   "execution_count": null,
   "id": "productive-globe",
   "metadata": {},
   "outputs": [],
   "source": []
  },
  {
   "cell_type": "code",
   "execution_count": null,
   "id": "civilian-leisure",
   "metadata": {},
   "outputs": [],
   "source": []
  }
 ],
 "metadata": {
  "kernelspec": {
   "display_name": "data_env",
   "language": "python",
   "name": "data_env"
  },
  "language_info": {
   "codemirror_mode": {
    "name": "ipython",
    "version": 3
   },
   "file_extension": ".py",
   "mimetype": "text/x-python",
   "name": "python",
   "nbconvert_exporter": "python",
   "pygments_lexer": "ipython3",
   "version": "3.8.5"
  }
 },
 "nbformat": 4,
 "nbformat_minor": 5
}
