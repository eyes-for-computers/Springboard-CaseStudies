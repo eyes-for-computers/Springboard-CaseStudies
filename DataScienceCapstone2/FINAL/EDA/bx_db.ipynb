{
 "cells": [
  {
   "cell_type": "code",
   "execution_count": 1,
   "id": "young-albania",
   "metadata": {},
   "outputs": [],
   "source": [
    "# MAIN QUESTION: Is there a difference between observed behaviors among different staff?\n",
    "\n",
    "import matplotlib.pyplot as plt\n",
    "import requests\n",
    "import pandas as pd\n",
    "import seaborn as sns\n",
    "import Levenshtein\n",
    "import os\n",
    "import glob\n",
    "\n",
    "import pandas_profiling\n",
    "from pandas_profiling.utils.cache import cache_file"
   ]
  },
  {
   "cell_type": "code",
   "execution_count": 2,
   "id": "durable-interim",
   "metadata": {
    "scrolled": true
   },
   "outputs": [
    {
     "name": "stdout",
     "output_type": "stream",
     "text": [
      "Appt list length: 6139\n",
      "Bx list length: 693\n",
      "datetime64[ns] datetime64[ns]\n",
      "Result length: (608, 9)\n",
      "\n",
      "Unique clients: 9\n",
      "Unique staff: 32\n"
     ]
    }
   ],
   "source": [
    "# a bit of preprocessing  and the merging the bx data to the appointments  \n",
    "\n",
    "appointment_list = pd.read_excel('Clean_SBA_AppointmentList.xlsx')\n",
    "bx_list = pd.read_excel('bx_sheets_merged.xlsx')\n",
    "\n",
    "\n",
    "bx_cols = ['aggression', 'elope', 'non-compliance', 'protesting', 'sib']\n",
    "\n",
    "bx_list['Date'] = pd.to_datetime(bx_list['Date'])\n",
    "appointment_list['Date'] = pd.to_datetime(appointment_list['Date'])\n",
    "\n",
    "result = pd.merge(appointment_list,bx_list,on=['Client','Date'], how='inner').set_index('Client')\n",
    "\n",
    "print('Appt list length: ' + str(len(appointment_list)))\n",
    "print('Bx list length: ' + str(len(bx_list)))\n",
    "print(bx_list['Date'].dtype,appointment_list['Date'].dtype)\n",
    "print('Result length: ' + str(result.shape))\n",
    "print('\\nUnique clients: ' + str(len(result.index.unique())))\n",
    "print('Unique staff: ' + str(len(result['Staff Member'].unique())))"
   ]
  },
  {
   "cell_type": "code",
   "execution_count": 3,
   "id": "french-diversity",
   "metadata": {},
   "outputs": [],
   "source": [
    "a= result.index.unique()"
   ]
  },
  {
   "cell_type": "code",
   "execution_count": 4,
   "id": "present-bryan",
   "metadata": {},
   "outputs": [
    {
     "data": {
      "text/plain": [
       "FrozenList(['Client'])"
      ]
     },
     "execution_count": 4,
     "metadata": {},
     "output_type": "execute_result"
    }
   ],
   "source": [
    "a.names"
   ]
  },
  {
   "cell_type": "code",
   "execution_count": 5,
   "id": "republican-blast",
   "metadata": {},
   "outputs": [],
   "source": [
    "#for i in result.index.unique():\n",
    "#    print(i)\n",
    "#    result.index['Staff Member'] = appointment_list['Staff Member'].str.replace(i,'staff_' + str(staff_number), regex=True)\n",
    "#    staff_number += 1"
   ]
  },
  {
   "cell_type": "code",
   "execution_count": 6,
   "id": "competent-wrong",
   "metadata": {},
   "outputs": [
    {
     "data": {
      "text/html": [
       "<div>\n",
       "<style scoped>\n",
       "    .dataframe tbody tr th:only-of-type {\n",
       "        vertical-align: middle;\n",
       "    }\n",
       "\n",
       "    .dataframe tbody tr th {\n",
       "        vertical-align: top;\n",
       "    }\n",
       "\n",
       "    .dataframe thead th {\n",
       "        text-align: right;\n",
       "    }\n",
       "</style>\n",
       "<table border=\"1\" class=\"dataframe\">\n",
       "  <thead>\n",
       "    <tr style=\"text-align: right;\">\n",
       "      <th></th>\n",
       "      <th>Date</th>\n",
       "      <th>Day</th>\n",
       "      <th>Staff Member</th>\n",
       "      <th>Duration</th>\n",
       "      <th>aggression</th>\n",
       "      <th>elope</th>\n",
       "      <th>non-compliance</th>\n",
       "      <th>protesting</th>\n",
       "      <th>sib</th>\n",
       "    </tr>\n",
       "    <tr>\n",
       "      <th>Client</th>\n",
       "      <th></th>\n",
       "      <th></th>\n",
       "      <th></th>\n",
       "      <th></th>\n",
       "      <th></th>\n",
       "      <th></th>\n",
       "      <th></th>\n",
       "      <th></th>\n",
       "      <th></th>\n",
       "    </tr>\n",
       "  </thead>\n",
       "  <tbody>\n",
       "    <tr>\n",
       "      <th>client_6</th>\n",
       "      <td>2021-01-19</td>\n",
       "      <td>Tue</td>\n",
       "      <td>staff_11</td>\n",
       "      <td>2.25</td>\n",
       "      <td>7.0</td>\n",
       "      <td>3.0</td>\n",
       "      <td>18.0</td>\n",
       "      <td>NaN</td>\n",
       "      <td>NaN</td>\n",
       "    </tr>\n",
       "    <tr>\n",
       "      <th>client_7</th>\n",
       "      <td>2021-01-19</td>\n",
       "      <td>Tue</td>\n",
       "      <td>staff_39</td>\n",
       "      <td>1.00</td>\n",
       "      <td>0.0</td>\n",
       "      <td>0.0</td>\n",
       "      <td>0.0</td>\n",
       "      <td>NaN</td>\n",
       "      <td>0.0</td>\n",
       "    </tr>\n",
       "    <tr>\n",
       "      <th>client_6</th>\n",
       "      <td>2021-05-20</td>\n",
       "      <td>Thu</td>\n",
       "      <td>staff_31</td>\n",
       "      <td>2.00</td>\n",
       "      <td>0.0</td>\n",
       "      <td>6.0</td>\n",
       "      <td>2.0</td>\n",
       "      <td>NaN</td>\n",
       "      <td>NaN</td>\n",
       "    </tr>\n",
       "    <tr>\n",
       "      <th>client_9</th>\n",
       "      <td>2021-04-30</td>\n",
       "      <td>Fri</td>\n",
       "      <td>staff_9</td>\n",
       "      <td>3.50</td>\n",
       "      <td>8.0</td>\n",
       "      <td>NaN</td>\n",
       "      <td>7.0</td>\n",
       "      <td>NaN</td>\n",
       "      <td>NaN</td>\n",
       "    </tr>\n",
       "    <tr>\n",
       "      <th>client_7</th>\n",
       "      <td>2021-03-17</td>\n",
       "      <td>Wed</td>\n",
       "      <td>staff_4</td>\n",
       "      <td>1.25</td>\n",
       "      <td>0.0</td>\n",
       "      <td>0.0</td>\n",
       "      <td>3.0</td>\n",
       "      <td>NaN</td>\n",
       "      <td>3.0</td>\n",
       "    </tr>\n",
       "  </tbody>\n",
       "</table>\n",
       "</div>"
      ],
      "text/plain": [
       "               Date  Day Staff Member  Duration  aggression  elope  \\\n",
       "Client                                                               \n",
       "client_6 2021-01-19  Tue     staff_11      2.25         7.0    3.0   \n",
       "client_7 2021-01-19  Tue     staff_39      1.00         0.0    0.0   \n",
       "client_6 2021-05-20  Thu     staff_31      2.00         0.0    6.0   \n",
       "client_9 2021-04-30  Fri      staff_9      3.50         8.0    NaN   \n",
       "client_7 2021-03-17  Wed      staff_4      1.25         0.0    0.0   \n",
       "\n",
       "          non-compliance  protesting  sib  \n",
       "Client                                     \n",
       "client_6            18.0         NaN  NaN  \n",
       "client_7             0.0         NaN  0.0  \n",
       "client_6             2.0         NaN  NaN  \n",
       "client_9             7.0         NaN  NaN  \n",
       "client_7             3.0         NaN  3.0  "
      ]
     },
     "execution_count": 6,
     "metadata": {},
     "output_type": "execute_result"
    }
   ],
   "source": [
    "result.sample(5)"
   ]
  },
  {
   "cell_type": "code",
   "execution_count": 7,
   "id": "recent-musician",
   "metadata": {},
   "outputs": [
    {
     "name": "stdout",
     "output_type": "stream",
     "text": [
      "<class 'pandas.core.frame.DataFrame'>\n",
      "Index: 608 entries, client_1 to client_4\n",
      "Data columns (total 9 columns):\n",
      " #   Column          Non-Null Count  Dtype         \n",
      "---  ------          --------------  -----         \n",
      " 0   Date            608 non-null    datetime64[ns]\n",
      " 1   Day             608 non-null    object        \n",
      " 2   Staff Member    608 non-null    object        \n",
      " 3   Duration        608 non-null    float64       \n",
      " 4   aggression      608 non-null    float64       \n",
      " 5   elope           568 non-null    float64       \n",
      " 6   non-compliance  520 non-null    float64       \n",
      " 7   protesting      144 non-null    float64       \n",
      " 8   sib             282 non-null    float64       \n",
      "dtypes: datetime64[ns](1), float64(6), object(2)\n",
      "memory usage: 63.7+ KB\n"
     ]
    }
   ],
   "source": [
    "result.info()"
   ]
  },
  {
   "cell_type": "code",
   "execution_count": 8,
   "id": "pleased-frontier",
   "metadata": {},
   "outputs": [],
   "source": [
    "grid = bx_cols#['aggression','elope','non-compliance']"
   ]
  },
  {
   "cell_type": "code",
   "execution_count": 9,
   "id": "curious-concentrate",
   "metadata": {},
   "outputs": [
    {
     "data": {
      "text/plain": [
       "(array([1., 0., 1., 0., 0., 1., 0., 1., 0., 1.]),\n",
       " array([0. , 0.4, 0.8, 1.2, 1.6, 2. , 2.4, 2.8, 3.2, 3.6, 4. ]),\n",
       " <BarContainer object of 10 artists>)"
      ]
     },
     "execution_count": 9,
     "metadata": {},
     "output_type": "execute_result"
    },
    {
     "data": {
      "image/png": "[encoded data removed]",
      "text/plain": [
       "<Figure size 432x288 with 1 Axes>"
      ]
     },
     "metadata": {
      "needs_background": "light"
     },
     "output_type": "display_data"
    }
   ],
   "source": [
    "plt.hist(bx_cols, data=result) "
   ]
  },
  {
   "cell_type": "code",
   "execution_count": 10,
   "id": "exceptional-maria",
   "metadata": {},
   "outputs": [
    {
     "data": {
      "text/plain": [
       "1    176\n",
       "2    125\n",
       "0    103\n",
       "3    103\n",
       "4    101\n",
       "Name: Day, dtype: int64"
      ]
     },
     "execution_count": 10,
     "metadata": {},
     "output_type": "execute_result"
    }
   ],
   "source": [
    "# Make column with day of week 0-6 sun-sat\n",
    "result['Day'] = result['Date'].dt.dayofweek\n",
    "result.head()\n",
    "result['Day'].value_counts()"
   ]
  },
  {
   "cell_type": "code",
   "execution_count": 11,
   "id": "specialized-blink",
   "metadata": {},
   "outputs": [],
   "source": [
    "def client_appts(df, client):\n",
    "    group = df.groupby(df.index)\n",
    "    client_df = group.get_group(client)\n",
    "    length = 0\n",
    "    return client_df"
   ]
  },
  {
   "cell_type": "code",
   "execution_count": 12,
   "id": "exclusive-supplement",
   "metadata": {},
   "outputs": [],
   "source": [
    "# Takes a df and a colum and returns mean of the column\n",
    "def normalize(df,bx_col):\n",
    "\n",
    "# Which kind of normalizing? Ended up with minmax, but z-score, or?\n",
    "    bx_col_mean = (df[bx_col] - df[bx_col].min()) / (df[bx_col].max() - df[bx_col].min())\n",
    "\n",
    "    bx_col_mean = bx_col_mean.mean()\n",
    "    \n",
    "    return bx_col_mean"
   ]
  },
  {
   "cell_type": "code",
   "execution_count": 13,
   "id": "brief-balloon",
   "metadata": {},
   "outputs": [],
   "source": [
    "# Takes client_df and staff member choice and returns a df with all of clients appts with particular staff\n",
    "\n",
    "def staff_for_client(client_df, staff):\n",
    "    \n",
    "    staff_client_df = client_df[client_df['Staff Member'] == staff ]\n",
    "    \n",
    "    return staff_client_df # this is a full df for a single client with all their staff"
   ]
  },
  {
   "cell_type": "code",
   "execution_count": 14,
   "id": "sophisticated-watershed",
   "metadata": {},
   "outputs": [],
   "source": [
    "# Takes a df of a staff working with particular client and returns df with the staff bx observations \n",
    "# normalized totals of observations of bx \n",
    "\n",
    "def per_staff_bx_norm(staff_client_df):\n",
    "    \n",
    "    per_staff_obs = pd.DataFrame(index=[staff_client_df.index[0]])\n",
    "    \n",
    "    \n",
    "    for bx in bx_cols:\n",
    "        norm_bx = normalize(staff_client_df,bx)\n",
    "        \n",
    "        per_staff_obs[bx] = norm_bx\n",
    "        per_staff_obs['Staff Member'] = staff_client_df['Staff Member'].unique()\n",
    "        \n",
    "        \n",
    "    return per_staff_obs "
   ]
  },
  {
   "cell_type": "code",
   "execution_count": 15,
   "id": "pressed-flight",
   "metadata": {},
   "outputs": [],
   "source": [
    "# Takes in a appointment list df and returns a df of normlalized bx for each staff\n",
    "\n",
    "def full_client_obs_df(df):\n",
    "    \n",
    "    \n",
    "    full_client_for_staff = pd.DataFrame()\n",
    "    \n",
    "    for clients in df.index.unique():\n",
    "        \n",
    "        client_appts_df = client_appts(df,clients)\n",
    "        \n",
    "        for staff in client_appts_df['Staff Member'].unique(): \n",
    "            staff_client_df = staff_for_client(client_appts_df, staff)\n",
    "            per_staff_norm_df = per_staff_bx_norm(staff_client_df)\n",
    "    \n",
    "            full_client_for_staff = full_client_for_staff.append(per_staff_norm_df)\n",
    "        \n",
    "    return full_client_for_staff"
   ]
  },
  {
   "cell_type": "code",
   "execution_count": 16,
   "id": "durable-indianapolis",
   "metadata": {},
   "outputs": [],
   "source": [
    "final_df = full_client_obs_df(result)"
   ]
  },
  {
   "cell_type": "code",
   "execution_count": 17,
   "id": "significant-arrival",
   "metadata": {},
   "outputs": [
    {
     "data": {
      "text/html": [
       "<div>\n",
       "<style scoped>\n",
       "    .dataframe tbody tr th:only-of-type {\n",
       "        vertical-align: middle;\n",
       "    }\n",
       "\n",
       "    .dataframe tbody tr th {\n",
       "        vertical-align: top;\n",
       "    }\n",
       "\n",
       "    .dataframe thead th {\n",
       "        text-align: right;\n",
       "    }\n",
       "</style>\n",
       "<table border=\"1\" class=\"dataframe\">\n",
       "  <thead>\n",
       "    <tr style=\"text-align: right;\">\n",
       "      <th></th>\n",
       "      <th>aggression</th>\n",
       "      <th>Staff Member</th>\n",
       "      <th>elope</th>\n",
       "      <th>non-compliance</th>\n",
       "      <th>protesting</th>\n",
       "      <th>sib</th>\n",
       "    </tr>\n",
       "  </thead>\n",
       "  <tbody>\n",
       "    <tr>\n",
       "      <th>client_1</th>\n",
       "      <td>0.129032</td>\n",
       "      <td>staff_1</td>\n",
       "      <td>0.239631</td>\n",
       "      <td>0.096774</td>\n",
       "      <td>0.223118</td>\n",
       "      <td>0.156682</td>\n",
       "    </tr>\n",
       "    <tr>\n",
       "      <th>client_1</th>\n",
       "      <td>0.163265</td>\n",
       "      <td>staff_3</td>\n",
       "      <td>0.214286</td>\n",
       "      <td>0.168367</td>\n",
       "      <td>0.182540</td>\n",
       "      <td>0.194444</td>\n",
       "    </tr>\n",
       "    <tr>\n",
       "      <th>client_1</th>\n",
       "      <td>0.092437</td>\n",
       "      <td>staff_12</td>\n",
       "      <td>0.183824</td>\n",
       "      <td>0.152941</td>\n",
       "      <td>0.252941</td>\n",
       "      <td>0.153979</td>\n",
       "    </tr>\n",
       "    <tr>\n",
       "      <th>client_1</th>\n",
       "      <td>NaN</td>\n",
       "      <td>staff_48</td>\n",
       "      <td>NaN</td>\n",
       "      <td>NaN</td>\n",
       "      <td>NaN</td>\n",
       "      <td>NaN</td>\n",
       "    </tr>\n",
       "    <tr>\n",
       "      <th>client_5</th>\n",
       "      <td>0.219298</td>\n",
       "      <td>staff_5</td>\n",
       "      <td>0.332707</td>\n",
       "      <td>NaN</td>\n",
       "      <td>0.617148</td>\n",
       "      <td>NaN</td>\n",
       "    </tr>\n",
       "  </tbody>\n",
       "</table>\n",
       "</div>"
      ],
      "text/plain": [
       "          aggression Staff Member     elope  non-compliance  protesting  \\\n",
       "client_1    0.129032      staff_1  0.239631        0.096774    0.223118   \n",
       "client_1    0.163265      staff_3  0.214286        0.168367    0.182540   \n",
       "client_1    0.092437     staff_12  0.183824        0.152941    0.252941   \n",
       "client_1         NaN     staff_48       NaN             NaN         NaN   \n",
       "client_5    0.219298      staff_5  0.332707             NaN    0.617148   \n",
       "\n",
       "               sib  \n",
       "client_1  0.156682  \n",
       "client_1  0.194444  \n",
       "client_1  0.153979  \n",
       "client_1       NaN  \n",
       "client_5       NaN  "
      ]
     },
     "execution_count": 17,
     "metadata": {},
     "output_type": "execute_result"
    }
   ],
   "source": [
    "final_df.head()"
   ]
  },
  {
   "cell_type": "code",
   "execution_count": 27,
   "id": "equivalent-baking",
   "metadata": {},
   "outputs": [
    {
     "data": {
      "text/html": [
       "<div>\n",
       "<style scoped>\n",
       "    .dataframe tbody tr th:only-of-type {\n",
       "        vertical-align: middle;\n",
       "    }\n",
       "\n",
       "    .dataframe tbody tr th {\n",
       "        vertical-align: top;\n",
       "    }\n",
       "\n",
       "    .dataframe thead th {\n",
       "        text-align: right;\n",
       "    }\n",
       "</style>\n",
       "<table border=\"1\" class=\"dataframe\">\n",
       "  <thead>\n",
       "    <tr style=\"text-align: right;\">\n",
       "      <th></th>\n",
       "      <th>aggression</th>\n",
       "      <th>Staff Member</th>\n",
       "      <th>elope</th>\n",
       "      <th>non-compliance</th>\n",
       "      <th>protesting</th>\n",
       "      <th>sib</th>\n",
       "    </tr>\n",
       "  </thead>\n",
       "  <tbody>\n",
       "    <tr>\n",
       "      <th>client_1</th>\n",
       "      <td>0.129032</td>\n",
       "      <td>staff_1</td>\n",
       "      <td>0.239631</td>\n",
       "      <td>0.096774</td>\n",
       "      <td>0.223118</td>\n",
       "      <td>0.156682</td>\n",
       "    </tr>\n",
       "    <tr>\n",
       "      <th>client_1</th>\n",
       "      <td>0.163265</td>\n",
       "      <td>staff_3</td>\n",
       "      <td>0.214286</td>\n",
       "      <td>0.168367</td>\n",
       "      <td>0.182540</td>\n",
       "      <td>0.194444</td>\n",
       "    </tr>\n",
       "    <tr>\n",
       "      <th>client_1</th>\n",
       "      <td>0.092437</td>\n",
       "      <td>staff_12</td>\n",
       "      <td>0.183824</td>\n",
       "      <td>0.152941</td>\n",
       "      <td>0.252941</td>\n",
       "      <td>0.153979</td>\n",
       "    </tr>\n",
       "    <tr>\n",
       "      <th>client_1</th>\n",
       "      <td>NaN</td>\n",
       "      <td>staff_48</td>\n",
       "      <td>NaN</td>\n",
       "      <td>NaN</td>\n",
       "      <td>NaN</td>\n",
       "      <td>NaN</td>\n",
       "    </tr>\n",
       "  </tbody>\n",
       "</table>\n",
       "</div>"
      ],
      "text/plain": [
       "          aggression Staff Member     elope  non-compliance  protesting  \\\n",
       "client_1    0.129032      staff_1  0.239631        0.096774    0.223118   \n",
       "client_1    0.163265      staff_3  0.214286        0.168367    0.182540   \n",
       "client_1    0.092437     staff_12  0.183824        0.152941    0.252941   \n",
       "client_1         NaN     staff_48       NaN             NaN         NaN   \n",
       "\n",
       "               sib  \n",
       "client_1  0.156682  \n",
       "client_1  0.194444  \n",
       "client_1  0.153979  \n",
       "client_1       NaN  "
      ]
     },
     "execution_count": 27,
     "metadata": {},
     "output_type": "execute_result"
    }
   ],
   "source": [
    "\n",
    "final_df[final_df.index == 'client_1']"
   ]
  },
  {
   "cell_type": "code",
   "execution_count": 26,
   "id": "fiscal-trade",
   "metadata": {},
   "outputs": [
    {
     "data": {
      "text/plain": [
       "<seaborn.axisgrid.PairGrid at 0x7f4b6c183520>"
      ]
     },
     "execution_count": 26,
     "metadata": {},
     "output_type": "execute_result"
    },
    {
     "data": {
      "image/png": "[encoded data removed]",
      "text/plain": [
       "<Figure size 900x900 with 30 Axes>"
      ]
     },
     "metadata": {
      "needs_background": "light"
     },
     "output_type": "display_data"
    }
   ],
   "source": [
    "sns.pairplot(final_df[final_df.index == 'client_1'])\n"
   ]
  },
  {
   "cell_type": "code",
   "execution_count": 37,
   "id": "likely-remedy",
   "metadata": {},
   "outputs": [
    {
     "data": {
      "text/html": [
       "<div>\n",
       "<style scoped>\n",
       "    .dataframe tbody tr th:only-of-type {\n",
       "        vertical-align: middle;\n",
       "    }\n",
       "\n",
       "    .dataframe tbody tr th {\n",
       "        vertical-align: top;\n",
       "    }\n",
       "\n",
       "    .dataframe thead th {\n",
       "        text-align: right;\n",
       "    }\n",
       "</style>\n",
       "<table border=\"1\" class=\"dataframe\">\n",
       "  <thead>\n",
       "    <tr style=\"text-align: right;\">\n",
       "      <th></th>\n",
       "      <th>aggression</th>\n",
       "      <th>elope</th>\n",
       "      <th>non-compliance</th>\n",
       "      <th>protesting</th>\n",
       "      <th>sib</th>\n",
       "    </tr>\n",
       "  </thead>\n",
       "  <tbody>\n",
       "    <tr>\n",
       "      <th>aggression</th>\n",
       "      <td>1.000000</td>\n",
       "      <td>0.800491</td>\n",
       "      <td>0.530748</td>\n",
       "      <td>0.638361</td>\n",
       "      <td>0.790633</td>\n",
       "    </tr>\n",
       "    <tr>\n",
       "      <th>elope</th>\n",
       "      <td>0.800491</td>\n",
       "      <td>1.000000</td>\n",
       "      <td>0.611663</td>\n",
       "      <td>0.705772</td>\n",
       "      <td>0.821394</td>\n",
       "    </tr>\n",
       "    <tr>\n",
       "      <th>non-compliance</th>\n",
       "      <td>0.530748</td>\n",
       "      <td>0.611663</td>\n",
       "      <td>1.000000</td>\n",
       "      <td>0.791530</td>\n",
       "      <td>0.815029</td>\n",
       "    </tr>\n",
       "    <tr>\n",
       "      <th>protesting</th>\n",
       "      <td>0.638361</td>\n",
       "      <td>0.705772</td>\n",
       "      <td>0.791530</td>\n",
       "      <td>1.000000</td>\n",
       "      <td>0.913927</td>\n",
       "    </tr>\n",
       "    <tr>\n",
       "      <th>sib</th>\n",
       "      <td>0.790633</td>\n",
       "      <td>0.821394</td>\n",
       "      <td>0.815029</td>\n",
       "      <td>0.913927</td>\n",
       "      <td>1.000000</td>\n",
       "    </tr>\n",
       "  </tbody>\n",
       "</table>\n",
       "</div>"
      ],
      "text/plain": [
       "                aggression     elope  non-compliance  protesting       sib\n",
       "aggression        1.000000  0.800491        0.530748    0.638361  0.790633\n",
       "elope             0.800491  1.000000        0.611663    0.705772  0.821394\n",
       "non-compliance    0.530748  0.611663        1.000000    0.791530  0.815029\n",
       "protesting        0.638361  0.705772        0.791530    1.000000  0.913927\n",
       "sib               0.790633  0.821394        0.815029    0.913927  1.000000"
      ]
     },
     "execution_count": 37,
     "metadata": {},
     "output_type": "execute_result"
    }
   ],
   "source": [
    "final_df.corr()"
   ]
  },
  {
   "cell_type": "code",
   "execution_count": 33,
   "id": "stopped-knife",
   "metadata": {},
   "outputs": [
    {
     "data": {
      "text/plain": [
       "<AxesSubplot:>"
      ]
     },
     "execution_count": 33,
     "metadata": {},
     "output_type": "execute_result"
    },
    {
     "data": {
      "image/png": "[encoded data removed]",
      "text/plain": [
       "<Figure size 432x288 with 2 Axes>"
      ]
     },
     "metadata": {
      "needs_background": "light"
     },
     "output_type": "display_data"
    }
   ],
   "source": [
    "gv_corr = final_df[final_df['Staff Member'] == 'staff_1'].corr()\n",
    "sns.heatmap(gv_corr)"
   ]
  },
  {
   "cell_type": "code",
   "execution_count": 36,
   "id": "current-grill",
   "metadata": {},
   "outputs": [
    {
     "data": {
      "text/plain": [
       "<AxesSubplot:xlabel='aggression', ylabel='non-compliance'>"
      ]
     },
     "execution_count": 36,
     "metadata": {},
     "output_type": "execute_result"
    },
    {
     "data": {
      "image/png": "[encoded data removed]",
      "text/plain": [
       "<Figure size 432x288 with 1 Axes>"
      ]
     },
     "metadata": {
      "needs_background": "light"
     },
     "output_type": "display_data"
    }
   ],
   "source": [
    "sns.scatterplot(x='aggression', y='non-compliance', data=final_df)"
   ]
  },
  {
   "cell_type": "code",
   "execution_count": 23,
   "id": "specialized-refrigerator",
   "metadata": {},
   "outputs": [],
   "source": [
    "# MAIN QUESTION ANSEWR: Yes, there is a wide range of differences in staff observed bahavior with client\n",
    "# \n",
    "# The result is an easy to work with df that correlations can be found\n",
    "#\n",
    "# Possible relationships to explore include differences in observed aggression over all of a particular staff appts,\n",
    "# as well as including .datofweek, weather at appointment location, time of day and others\n",
    "#\n",
    "# actually found difference in correlations with vars, not significantly different observations of bx over staff\n",
    "\n",
    "result.to_excel('bx_appointments.xlsx')"
   ]
  }
 ],
 "metadata": {
  "kernelspec": {
   "display_name": "data_env",
   "language": "python",
   "name": "data_env"
  },
  "language_info": {
   "codemirror_mode": {
    "name": "ipython",
    "version": 3
   },
   "file_extension": ".py",
   "mimetype": "text/x-python",
   "name": "python",
   "nbconvert_exporter": "python",
   "pygments_lexer": "ipython3",
   "version": "3.8.5"
  }
 },
 "nbformat": 4,
 "nbformat_minor": 5
}
