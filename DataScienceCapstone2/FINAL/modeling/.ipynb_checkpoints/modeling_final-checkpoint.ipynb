{
 "cells": [
  {
   "cell_type": "code",
   "execution_count": 1,
   "id": "mighty-breeding",
   "metadata": {},
   "outputs": [],
   "source": [
    "####################################################################################################\n",
    "#################################__#########################################_ ######################               \n",
    "###############################/ _|########################################| |######################               \n",
    "#######  ___ _   _  ___  ___  | |##########################################| |_ ___ _ __ ___ #######\n",
    "####### / _ \\ | | |/ _ \\/ __| |  _/ _ \\| '__/ __/ _ \\| '_ ` _ \\| '_ \\| | | | __/ _ \\ '__/ __|#######\n",
    "### ###|  __/ |_| |  __/\\__ \\_| || (_) | |_| (_| (_) | | | | | | |_) | |_| | ||  __/ |  \\__ \\#######\n",
    "###### \\___|\\__, |\\___||___(_)_| \\___/|_(_)\\___\\___/|_| |_| |_| .__/ \\__,_|\\__\\___|_|  |___/#######\n",
    "#############__/ |############################################| |###################################                           \n",
    "############|___/ ############################################|_|###################################                           \n",
    "####################################################################################################\n",
    "#\n",
    "# Purpose: Detect anomalies between a particular staff/client in a dataset of more extreme behaviors\n",
    "#\n",
    "#          Questions answered: \n",
    "#\n",
    "#          Does any client exhibit more of any particulr behavior with a specific staff?\n",
    "#          Does any staff member observe more of any particulr behavior across their clients?\n",
    "#          \n",
    "#          \n",
    "#                             \n",
    "#\n",
    "# This notebook completes the Staff/Client behavior interaction anomaly detection project\n",
    "# After loading the data, adding in support for the categorical variables, standardizing the data,\n",
    "# subsetting on the outliers, producing a heatmap and exploratory plots, a DBSCAN model was generated\n",
    "# to find extreme values. Iteration was used to find the optimal value for parameters. The manual \n",
    "# process identified about twice as many outliers as the DBSCAN model. The manual model is more flexible\n",
    "# and allows more domain knowledge control. Future work would start with the manual model.\n",
    "# \n",
    "# Future work: Extend detection to include skill program targets in addition to behaviors.\n",
    "#              Collect information on gender, observation location and time of session.\n",
    "#              Define more relationships between independent variables."
   ]
  },
  {
   "cell_type": "code",
   "execution_count": 2,
   "id": "blocked-helping",
   "metadata": {
    "scrolled": true
   },
   "outputs": [],
   "source": [
    "import pandas as pd\n",
    "from sklearn.preprocessing import StandardScaler\n",
    "from sklearn.ensemble import IsolationForest\n",
    "import matplotlib.pyplot as plt\n",
    "import numpy as np\n",
    "import seaborn as sns\n"
   ]
  },
  {
   "cell_type": "code",
   "execution_count": 3,
   "id": "liked-server",
   "metadata": {},
   "outputs": [
    {
     "data": {
      "text/plain": [
       "(1000, 9)"
      ]
     },
     "execution_count": 3,
     "metadata": {},
     "output_type": "execute_result"
    }
   ],
   "source": [
    "df = pd.read_excel('bx_appointments.xlsx', index_col='Client')\n",
    "\n",
    "df.dtypes\n",
    "df.shape"
   ]
  },
  {
   "cell_type": "code",
   "execution_count": 4,
   "id": "brave-speed",
   "metadata": {},
   "outputs": [
    {
     "data": {
      "text/plain": [
       "CategoricalDtype(categories=['client_0', 'client_1', 'client_2', 'client_3', 'client_4',\n",
       "                  'client_5', 'client_6', 'client_7', 'client_8'],\n",
       ", ordered=False)"
      ]
     },
     "execution_count": 4,
     "metadata": {},
     "output_type": "execute_result"
    }
   ],
   "source": [
    "df.Day = df.Day.astype('category')\n",
    "df['client'] = df.index\n",
    "\n",
    "df['Staff Member'] = df['Staff Member'].astype('category')\n",
    "df['Staff Member'].dtype\n",
    "\n",
    "df['client'] = df['client'].astype('category')\n",
    "df['client'].dtype"
   ]
  },
  {
   "cell_type": "code",
   "execution_count": 5,
   "id": "fifteen-animal",
   "metadata": {},
   "outputs": [],
   "source": [
    "# adding the sparse flag removed the 34GB memory error\n",
    "\n",
    "dummies = pd.get_dummies(df['Staff Member'],df.client,df.Day, sparse=True)\n"
   ]
  },
  {
   "cell_type": "code",
   "execution_count": 6,
   "id": "reliable-infrared",
   "metadata": {},
   "outputs": [
    {
     "data": {
      "text/plain": [
       "(1000, 39)"
      ]
     },
     "execution_count": 6,
     "metadata": {},
     "output_type": "execute_result"
    }
   ],
   "source": [
    "dummies.shape"
   ]
  },
  {
   "cell_type": "code",
   "execution_count": 7,
   "id": "frequent-islam",
   "metadata": {},
   "outputs": [
    {
     "name": "stdout",
     "output_type": "stream",
     "text": [
      "(137392, 49)\n"
     ]
    },
    {
     "data": {
      "text/html": [
       "<div>\n",
       "<style scoped>\n",
       "    .dataframe tbody tr th:only-of-type {\n",
       "        vertical-align: middle;\n",
       "    }\n",
       "\n",
       "    .dataframe tbody tr th {\n",
       "        vertical-align: top;\n",
       "    }\n",
       "\n",
       "    .dataframe thead th {\n",
       "        text-align: right;\n",
       "    }\n",
       "</style>\n",
       "<table border=\"1\" class=\"dataframe\">\n",
       "  <thead>\n",
       "    <tr style=\"text-align: right;\">\n",
       "      <th></th>\n",
       "      <th>Date</th>\n",
       "      <th>Day</th>\n",
       "      <th>Staff Member</th>\n",
       "      <th>Duration</th>\n",
       "      <th>aggression</th>\n",
       "      <th>elope</th>\n",
       "      <th>non-compliance</th>\n",
       "      <th>protesting</th>\n",
       "      <th>sib</th>\n",
       "      <th>client</th>\n",
       "      <th>...</th>\n",
       "      <th>Client\\nclient_0    client_0\\nclient_1    client_1\\nclient_1    client_1\\nclient_1    client_1\\nclient_1    client_1\\n              ...   \\nclient_6    client_6\\nclient_8    client_8\\nclient_0    client_0\\nclient_7    client_7\\nclient_6    client_6\\nName: client, Length: 1000, dtype: category\\nCategories (9, object): ['client_0', 'client_1', 'client_2', 'client_3', ..., 'client_5', 'client_6', 'client_7', 'client_8']Client\\nclient_0    4\\nclient_1    3\\nclient_1    2\\nclient_1    1\\nclient_1    1\\n           ..\\nclient_6    1\\nclient_8    0\\nclient_0    0\\nclient_7    0\\nclient_6    0\\nName: Day, Length: 1000, dtype: category\\nCategories (5, int64): [0, 1, 2, 3, 4]staff_42</th>\n",
       "      <th>Client\\nclient_0    client_0\\nclient_1    client_1\\nclient_1    client_1\\nclient_1    client_1\\nclient_1    client_1\\n              ...   \\nclient_6    client_6\\nclient_8    client_8\\nclient_0    client_0\\nclient_7    client_7\\nclient_6    client_6\\nName: client, Length: 1000, dtype: category\\nCategories (9, object): ['client_0', 'client_1', 'client_2', 'client_3', ..., 'client_5', 'client_6', 'client_7', 'client_8']Client\\nclient_0    4\\nclient_1    3\\nclient_1    2\\nclient_1    1\\nclient_1    1\\n           ..\\nclient_6    1\\nclient_8    0\\nclient_0    0\\nclient_7    0\\nclient_6    0\\nName: Day, Length: 1000, dtype: category\\nCategories (5, int64): [0, 1, 2, 3, 4]staff_44</th>\n",
       "      <th>Client\\nclient_0    client_0\\nclient_1    client_1\\nclient_1    client_1\\nclient_1    client_1\\nclient_1    client_1\\n              ...   \\nclient_6    client_6\\nclient_8    client_8\\nclient_0    client_0\\nclient_7    client_7\\nclient_6    client_6\\nName: client, Length: 1000, dtype: category\\nCategories (9, object): ['client_0', 'client_1', 'client_2', 'client_3', ..., 'client_5', 'client_6', 'client_7', 'client_8']Client\\nclient_0    4\\nclient_1    3\\nclient_1    2\\nclient_1    1\\nclient_1    1\\n           ..\\nclient_6    1\\nclient_8    0\\nclient_0    0\\nclient_7    0\\nclient_6    0\\nName: Day, Length: 1000, dtype: category\\nCategories (5, int64): [0, 1, 2, 3, 4]staff_46</th>\n",
       "      <th>Client\\nclient_0    client_0\\nclient_1    client_1\\nclient_1    client_1\\nclient_1    client_1\\nclient_1    client_1\\n              ...   \\nclient_6    client_6\\nclient_8    client_8\\nclient_0    client_0\\nclient_7    client_7\\nclient_6    client_6\\nName: client, Length: 1000, dtype: category\\nCategories (9, object): ['client_0', 'client_1', 'client_2', 'client_3', ..., 'client_5', 'client_6', 'client_7', 'client_8']Client\\nclient_0    4\\nclient_1    3\\nclient_1    2\\nclient_1    1\\nclient_1    1\\n           ..\\nclient_6    1\\nclient_8    0\\nclient_0    0\\nclient_7    0\\nclient_6    0\\nName: Day, Length: 1000, dtype: category\\nCategories (5, int64): [0, 1, 2, 3, 4]staff_47</th>\n",
       "      <th>Client\\nclient_0    client_0\\nclient_1    client_1\\nclient_1    client_1\\nclient_1    client_1\\nclient_1    client_1\\n              ...   \\nclient_6    client_6\\nclient_8    client_8\\nclient_0    client_0\\nclient_7    client_7\\nclient_6    client_6\\nName: client, Length: 1000, dtype: category\\nCategories (9, object): ['client_0', 'client_1', 'client_2', 'client_3', ..., 'client_5', 'client_6', 'client_7', 'client_8']Client\\nclient_0    4\\nclient_1    3\\nclient_1    2\\nclient_1    1\\nclient_1    1\\n           ..\\nclient_6    1\\nclient_8    0\\nclient_0    0\\nclient_7    0\\nclient_6    0\\nName: Day, Length: 1000, dtype: category\\nCategories (5, int64): [0, 1, 2, 3, 4]staff_5</th>\n",
       "      <th>Client\\nclient_0    client_0\\nclient_1    client_1\\nclient_1    client_1\\nclient_1    client_1\\nclient_1    client_1\\n              ...   \\nclient_6    client_6\\nclient_8    client_8\\nclient_0    client_0\\nclient_7    client_7\\nclient_6    client_6\\nName: client, Length: 1000, dtype: category\\nCategories (9, object): ['client_0', 'client_1', 'client_2', 'client_3', ..., 'client_5', 'client_6', 'client_7', 'client_8']Client\\nclient_0    4\\nclient_1    3\\nclient_1    2\\nclient_1    1\\nclient_1    1\\n           ..\\nclient_6    1\\nclient_8    0\\nclient_0    0\\nclient_7    0\\nclient_6    0\\nName: Day, Length: 1000, dtype: category\\nCategories (5, int64): [0, 1, 2, 3, 4]staff_51</th>\n",
       "      <th>Client\\nclient_0    client_0\\nclient_1    client_1\\nclient_1    client_1\\nclient_1    client_1\\nclient_1    client_1\\n              ...   \\nclient_6    client_6\\nclient_8    client_8\\nclient_0    client_0\\nclient_7    client_7\\nclient_6    client_6\\nName: client, Length: 1000, dtype: category\\nCategories (9, object): ['client_0', 'client_1', 'client_2', 'client_3', ..., 'client_5', 'client_6', 'client_7', 'client_8']Client\\nclient_0    4\\nclient_1    3\\nclient_1    2\\nclient_1    1\\nclient_1    1\\n           ..\\nclient_6    1\\nclient_8    0\\nclient_0    0\\nclient_7    0\\nclient_6    0\\nName: Day, Length: 1000, dtype: category\\nCategories (5, int64): [0, 1, 2, 3, 4]staff_6</th>\n",
       "      <th>Client\\nclient_0    client_0\\nclient_1    client_1\\nclient_1    client_1\\nclient_1    client_1\\nclient_1    client_1\\n              ...   \\nclient_6    client_6\\nclient_8    client_8\\nclient_0    client_0\\nclient_7    client_7\\nclient_6    client_6\\nName: client, Length: 1000, dtype: category\\nCategories (9, object): ['client_0', 'client_1', 'client_2', 'client_3', ..., 'client_5', 'client_6', 'client_7', 'client_8']Client\\nclient_0    4\\nclient_1    3\\nclient_1    2\\nclient_1    1\\nclient_1    1\\n           ..\\nclient_6    1\\nclient_8    0\\nclient_0    0\\nclient_7    0\\nclient_6    0\\nName: Day, Length: 1000, dtype: category\\nCategories (5, int64): [0, 1, 2, 3, 4]staff_7</th>\n",
       "      <th>Client\\nclient_0    client_0\\nclient_1    client_1\\nclient_1    client_1\\nclient_1    client_1\\nclient_1    client_1\\n              ...   \\nclient_6    client_6\\nclient_8    client_8\\nclient_0    client_0\\nclient_7    client_7\\nclient_6    client_6\\nName: client, Length: 1000, dtype: category\\nCategories (9, object): ['client_0', 'client_1', 'client_2', 'client_3', ..., 'client_5', 'client_6', 'client_7', 'client_8']Client\\nclient_0    4\\nclient_1    3\\nclient_1    2\\nclient_1    1\\nclient_1    1\\n           ..\\nclient_6    1\\nclient_8    0\\nclient_0    0\\nclient_7    0\\nclient_6    0\\nName: Day, Length: 1000, dtype: category\\nCategories (5, int64): [0, 1, 2, 3, 4]staff_8</th>\n",
       "      <th>Client\\nclient_0    client_0\\nclient_1    client_1\\nclient_1    client_1\\nclient_1    client_1\\nclient_1    client_1\\n              ...   \\nclient_6    client_6\\nclient_8    client_8\\nclient_0    client_0\\nclient_7    client_7\\nclient_6    client_6\\nName: client, Length: 1000, dtype: category\\nCategories (9, object): ['client_0', 'client_1', 'client_2', 'client_3', ..., 'client_5', 'client_6', 'client_7', 'client_8']Client\\nclient_0    4\\nclient_1    3\\nclient_1    2\\nclient_1    1\\nclient_1    1\\n           ..\\nclient_6    1\\nclient_8    0\\nclient_0    0\\nclient_7    0\\nclient_6    0\\nName: Day, Length: 1000, dtype: category\\nCategories (5, int64): [0, 1, 2, 3, 4]staff_9</th>\n",
       "    </tr>\n",
       "    <tr>\n",
       "      <th>Client</th>\n",
       "      <th></th>\n",
       "      <th></th>\n",
       "      <th></th>\n",
       "      <th></th>\n",
       "      <th></th>\n",
       "      <th></th>\n",
       "      <th></th>\n",
       "      <th></th>\n",
       "      <th></th>\n",
       "      <th></th>\n",
       "      <th></th>\n",
       "      <th></th>\n",
       "      <th></th>\n",
       "      <th></th>\n",
       "      <th></th>\n",
       "      <th></th>\n",
       "      <th></th>\n",
       "      <th></th>\n",
       "      <th></th>\n",
       "      <th></th>\n",
       "      <th></th>\n",
       "    </tr>\n",
       "  </thead>\n",
       "  <tbody>\n",
       "    <tr>\n",
       "      <th>client_0</th>\n",
       "      <td>2021-07-16</td>\n",
       "      <td>4</td>\n",
       "      <td>staff_8</td>\n",
       "      <td>4.0</td>\n",
       "      <td>1</td>\n",
       "      <td>0</td>\n",
       "      <td>6.0</td>\n",
       "      <td>0.0</td>\n",
       "      <td>9.0</td>\n",
       "      <td>client_0</td>\n",
       "      <td>...</td>\n",
       "      <td>0</td>\n",
       "      <td>0</td>\n",
       "      <td>0</td>\n",
       "      <td>0</td>\n",
       "      <td>0</td>\n",
       "      <td>0</td>\n",
       "      <td>0</td>\n",
       "      <td>0</td>\n",
       "      <td>1</td>\n",
       "      <td>0</td>\n",
       "    </tr>\n",
       "    <tr>\n",
       "      <th>client_0</th>\n",
       "      <td>2021-07-16</td>\n",
       "      <td>4</td>\n",
       "      <td>staff_8</td>\n",
       "      <td>4.0</td>\n",
       "      <td>1</td>\n",
       "      <td>0</td>\n",
       "      <td>6.0</td>\n",
       "      <td>0.0</td>\n",
       "      <td>9.0</td>\n",
       "      <td>client_0</td>\n",
       "      <td>...</td>\n",
       "      <td>0</td>\n",
       "      <td>0</td>\n",
       "      <td>0</td>\n",
       "      <td>0</td>\n",
       "      <td>0</td>\n",
       "      <td>0</td>\n",
       "      <td>0</td>\n",
       "      <td>0</td>\n",
       "      <td>0</td>\n",
       "      <td>0</td>\n",
       "    </tr>\n",
       "    <tr>\n",
       "      <th>client_0</th>\n",
       "      <td>2021-07-16</td>\n",
       "      <td>4</td>\n",
       "      <td>staff_8</td>\n",
       "      <td>4.0</td>\n",
       "      <td>1</td>\n",
       "      <td>0</td>\n",
       "      <td>6.0</td>\n",
       "      <td>0.0</td>\n",
       "      <td>9.0</td>\n",
       "      <td>client_0</td>\n",
       "      <td>...</td>\n",
       "      <td>0</td>\n",
       "      <td>0</td>\n",
       "      <td>0</td>\n",
       "      <td>0</td>\n",
       "      <td>0</td>\n",
       "      <td>0</td>\n",
       "      <td>0</td>\n",
       "      <td>0</td>\n",
       "      <td>1</td>\n",
       "      <td>0</td>\n",
       "    </tr>\n",
       "  </tbody>\n",
       "</table>\n",
       "<p>3 rows × 49 columns</p>\n",
       "</div>"
      ],
      "text/plain": [
       "               Date Day Staff Member  Duration  aggression  elope  \\\n",
       "Client                                                              \n",
       "client_0 2021-07-16   4      staff_8       4.0           1      0   \n",
       "client_0 2021-07-16   4      staff_8       4.0           1      0   \n",
       "client_0 2021-07-16   4      staff_8       4.0           1      0   \n",
       "\n",
       "          non-compliance  protesting  sib    client  ...  \\\n",
       "Client                                               ...   \n",
       "client_0             6.0         0.0  9.0  client_0  ...   \n",
       "client_0             6.0         0.0  9.0  client_0  ...   \n",
       "client_0             6.0         0.0  9.0  client_0  ...   \n",
       "\n",
       "          Client\\nclient_0    client_0\\nclient_1    client_1\\nclient_1    client_1\\nclient_1    client_1\\nclient_1    client_1\\n              ...   \\nclient_6    client_6\\nclient_8    client_8\\nclient_0    client_0\\nclient_7    client_7\\nclient_6    client_6\\nName: client, Length: 1000, dtype: category\\nCategories (9, object): ['client_0', 'client_1', 'client_2', 'client_3', ..., 'client_5', 'client_6', 'client_7', 'client_8']Client\\nclient_0    4\\nclient_1    3\\nclient_1    2\\nclient_1    1\\nclient_1    1\\n           ..\\nclient_6    1\\nclient_8    0\\nclient_0    0\\nclient_7    0\\nclient_6    0\\nName: Day, Length: 1000, dtype: category\\nCategories (5, int64): [0, 1, 2, 3, 4]staff_42  \\\n",
       "Client                                                                                                                                                                                                                                                                                                                                                                                                                                                                                                                                                                                                                                                                                                                \n",
       "client_0                                                  0                                                                                                                                                                                                                                                                                                                                                                                                                                                                                                                                                                                                                                                           \n",
       "client_0                                                  0                                                                                                                                                                                                                                                                                                                                                                                                                                                                                                                                                                                                                                                           \n",
       "client_0                                                  0                                                                                                                                                                                                                                                                                                                                                                                                                                                                                                                                                                                                                                                           \n",
       "\n",
       "          Client\\nclient_0    client_0\\nclient_1    client_1\\nclient_1    client_1\\nclient_1    client_1\\nclient_1    client_1\\n              ...   \\nclient_6    client_6\\nclient_8    client_8\\nclient_0    client_0\\nclient_7    client_7\\nclient_6    client_6\\nName: client, Length: 1000, dtype: category\\nCategories (9, object): ['client_0', 'client_1', 'client_2', 'client_3', ..., 'client_5', 'client_6', 'client_7', 'client_8']Client\\nclient_0    4\\nclient_1    3\\nclient_1    2\\nclient_1    1\\nclient_1    1\\n           ..\\nclient_6    1\\nclient_8    0\\nclient_0    0\\nclient_7    0\\nclient_6    0\\nName: Day, Length: 1000, dtype: category\\nCategories (5, int64): [0, 1, 2, 3, 4]staff_44  \\\n",
       "Client                                                                                                                                                                                                                                                                                                                                                                                                                                                                                                                                                                                                                                                                                                                \n",
       "client_0                                                  0                                                                                                                                                                                                                                                                                                                                                                                                                                                                                                                                                                                                                                                           \n",
       "client_0                                                  0                                                                                                                                                                                                                                                                                                                                                                                                                                                                                                                                                                                                                                                           \n",
       "client_0                                                  0                                                                                                                                                                                                                                                                                                                                                                                                                                                                                                                                                                                                                                                           \n",
       "\n",
       "          Client\\nclient_0    client_0\\nclient_1    client_1\\nclient_1    client_1\\nclient_1    client_1\\nclient_1    client_1\\n              ...   \\nclient_6    client_6\\nclient_8    client_8\\nclient_0    client_0\\nclient_7    client_7\\nclient_6    client_6\\nName: client, Length: 1000, dtype: category\\nCategories (9, object): ['client_0', 'client_1', 'client_2', 'client_3', ..., 'client_5', 'client_6', 'client_7', 'client_8']Client\\nclient_0    4\\nclient_1    3\\nclient_1    2\\nclient_1    1\\nclient_1    1\\n           ..\\nclient_6    1\\nclient_8    0\\nclient_0    0\\nclient_7    0\\nclient_6    0\\nName: Day, Length: 1000, dtype: category\\nCategories (5, int64): [0, 1, 2, 3, 4]staff_46  \\\n",
       "Client                                                                                                                                                                                                                                                                                                                                                                                                                                                                                                                                                                                                                                                                                                                \n",
       "client_0                                                  0                                                                                                                                                                                                                                                                                                                                                                                                                                                                                                                                                                                                                                                           \n",
       "client_0                                                  0                                                                                                                                                                                                                                                                                                                                                                                                                                                                                                                                                                                                                                                           \n",
       "client_0                                                  0                                                                                                                                                                                                                                                                                                                                                                                                                                                                                                                                                                                                                                                           \n",
       "\n",
       "          Client\\nclient_0    client_0\\nclient_1    client_1\\nclient_1    client_1\\nclient_1    client_1\\nclient_1    client_1\\n              ...   \\nclient_6    client_6\\nclient_8    client_8\\nclient_0    client_0\\nclient_7    client_7\\nclient_6    client_6\\nName: client, Length: 1000, dtype: category\\nCategories (9, object): ['client_0', 'client_1', 'client_2', 'client_3', ..., 'client_5', 'client_6', 'client_7', 'client_8']Client\\nclient_0    4\\nclient_1    3\\nclient_1    2\\nclient_1    1\\nclient_1    1\\n           ..\\nclient_6    1\\nclient_8    0\\nclient_0    0\\nclient_7    0\\nclient_6    0\\nName: Day, Length: 1000, dtype: category\\nCategories (5, int64): [0, 1, 2, 3, 4]staff_47  \\\n",
       "Client                                                                                                                                                                                                                                                                                                                                                                                                                                                                                                                                                                                                                                                                                                                \n",
       "client_0                                                  0                                                                                                                                                                                                                                                                                                                                                                                                                                                                                                                                                                                                                                                           \n",
       "client_0                                                  0                                                                                                                                                                                                                                                                                                                                                                                                                                                                                                                                                                                                                                                           \n",
       "client_0                                                  0                                                                                                                                                                                                                                                                                                                                                                                                                                                                                                                                                                                                                                                           \n",
       "\n",
       "          Client\\nclient_0    client_0\\nclient_1    client_1\\nclient_1    client_1\\nclient_1    client_1\\nclient_1    client_1\\n              ...   \\nclient_6    client_6\\nclient_8    client_8\\nclient_0    client_0\\nclient_7    client_7\\nclient_6    client_6\\nName: client, Length: 1000, dtype: category\\nCategories (9, object): ['client_0', 'client_1', 'client_2', 'client_3', ..., 'client_5', 'client_6', 'client_7', 'client_8']Client\\nclient_0    4\\nclient_1    3\\nclient_1    2\\nclient_1    1\\nclient_1    1\\n           ..\\nclient_6    1\\nclient_8    0\\nclient_0    0\\nclient_7    0\\nclient_6    0\\nName: Day, Length: 1000, dtype: category\\nCategories (5, int64): [0, 1, 2, 3, 4]staff_5  \\\n",
       "Client                                                                                                                                                                                                                                                                                                                                                                                                                                                                                                                                                                                                                                                                                                               \n",
       "client_0                                                  0                                                                                                                                                                                                                                                                                                                                                                                                                                                                                                                                                                                                                                                          \n",
       "client_0                                                  0                                                                                                                                                                                                                                                                                                                                                                                                                                                                                                                                                                                                                                                          \n",
       "client_0                                                  0                                                                                                                                                                                                                                                                                                                                                                                                                                                                                                                                                                                                                                                          \n",
       "\n",
       "          Client\\nclient_0    client_0\\nclient_1    client_1\\nclient_1    client_1\\nclient_1    client_1\\nclient_1    client_1\\n              ...   \\nclient_6    client_6\\nclient_8    client_8\\nclient_0    client_0\\nclient_7    client_7\\nclient_6    client_6\\nName: client, Length: 1000, dtype: category\\nCategories (9, object): ['client_0', 'client_1', 'client_2', 'client_3', ..., 'client_5', 'client_6', 'client_7', 'client_8']Client\\nclient_0    4\\nclient_1    3\\nclient_1    2\\nclient_1    1\\nclient_1    1\\n           ..\\nclient_6    1\\nclient_8    0\\nclient_0    0\\nclient_7    0\\nclient_6    0\\nName: Day, Length: 1000, dtype: category\\nCategories (5, int64): [0, 1, 2, 3, 4]staff_51  \\\n",
       "Client                                                                                                                                                                                                                                                                                                                                                                                                                                                                                                                                                                                                                                                                                                                \n",
       "client_0                                                  0                                                                                                                                                                                                                                                                                                                                                                                                                                                                                                                                                                                                                                                           \n",
       "client_0                                                  0                                                                                                                                                                                                                                                                                                                                                                                                                                                                                                                                                                                                                                                           \n",
       "client_0                                                  0                                                                                                                                                                                                                                                                                                                                                                                                                                                                                                                                                                                                                                                           \n",
       "\n",
       "          Client\\nclient_0    client_0\\nclient_1    client_1\\nclient_1    client_1\\nclient_1    client_1\\nclient_1    client_1\\n              ...   \\nclient_6    client_6\\nclient_8    client_8\\nclient_0    client_0\\nclient_7    client_7\\nclient_6    client_6\\nName: client, Length: 1000, dtype: category\\nCategories (9, object): ['client_0', 'client_1', 'client_2', 'client_3', ..., 'client_5', 'client_6', 'client_7', 'client_8']Client\\nclient_0    4\\nclient_1    3\\nclient_1    2\\nclient_1    1\\nclient_1    1\\n           ..\\nclient_6    1\\nclient_8    0\\nclient_0    0\\nclient_7    0\\nclient_6    0\\nName: Day, Length: 1000, dtype: category\\nCategories (5, int64): [0, 1, 2, 3, 4]staff_6  \\\n",
       "Client                                                                                                                                                                                                                                                                                                                                                                                                                                                                                                                                                                                                                                                                                                               \n",
       "client_0                                                  0                                                                                                                                                                                                                                                                                                                                                                                                                                                                                                                                                                                                                                                          \n",
       "client_0                                                  0                                                                                                                                                                                                                                                                                                                                                                                                                                                                                                                                                                                                                                                          \n",
       "client_0                                                  0                                                                                                                                                                                                                                                                                                                                                                                                                                                                                                                                                                                                                                                          \n",
       "\n",
       "          Client\\nclient_0    client_0\\nclient_1    client_1\\nclient_1    client_1\\nclient_1    client_1\\nclient_1    client_1\\n              ...   \\nclient_6    client_6\\nclient_8    client_8\\nclient_0    client_0\\nclient_7    client_7\\nclient_6    client_6\\nName: client, Length: 1000, dtype: category\\nCategories (9, object): ['client_0', 'client_1', 'client_2', 'client_3', ..., 'client_5', 'client_6', 'client_7', 'client_8']Client\\nclient_0    4\\nclient_1    3\\nclient_1    2\\nclient_1    1\\nclient_1    1\\n           ..\\nclient_6    1\\nclient_8    0\\nclient_0    0\\nclient_7    0\\nclient_6    0\\nName: Day, Length: 1000, dtype: category\\nCategories (5, int64): [0, 1, 2, 3, 4]staff_7  \\\n",
       "Client                                                                                                                                                                                                                                                                                                                                                                                                                                                                                                                                                                                                                                                                                                               \n",
       "client_0                                                  0                                                                                                                                                                                                                                                                                                                                                                                                                                                                                                                                                                                                                                                          \n",
       "client_0                                                  0                                                                                                                                                                                                                                                                                                                                                                                                                                                                                                                                                                                                                                                          \n",
       "client_0                                                  0                                                                                                                                                                                                                                                                                                                                                                                                                                                                                                                                                                                                                                                          \n",
       "\n",
       "          Client\\nclient_0    client_0\\nclient_1    client_1\\nclient_1    client_1\\nclient_1    client_1\\nclient_1    client_1\\n              ...   \\nclient_6    client_6\\nclient_8    client_8\\nclient_0    client_0\\nclient_7    client_7\\nclient_6    client_6\\nName: client, Length: 1000, dtype: category\\nCategories (9, object): ['client_0', 'client_1', 'client_2', 'client_3', ..., 'client_5', 'client_6', 'client_7', 'client_8']Client\\nclient_0    4\\nclient_1    3\\nclient_1    2\\nclient_1    1\\nclient_1    1\\n           ..\\nclient_6    1\\nclient_8    0\\nclient_0    0\\nclient_7    0\\nclient_6    0\\nName: Day, Length: 1000, dtype: category\\nCategories (5, int64): [0, 1, 2, 3, 4]staff_8  \\\n",
       "Client                                                                                                                                                                                                                                                                                                                                                                                                                                                                                                                                                                                                                                                                                                               \n",
       "client_0                                                  1                                                                                                                                                                                                                                                                                                                                                                                                                                                                                                                                                                                                                                                          \n",
       "client_0                                                  0                                                                                                                                                                                                                                                                                                                                                                                                                                                                                                                                                                                                                                                          \n",
       "client_0                                                  1                                                                                                                                                                                                                                                                                                                                                                                                                                                                                                                                                                                                                                                          \n",
       "\n",
       "          Client\\nclient_0    client_0\\nclient_1    client_1\\nclient_1    client_1\\nclient_1    client_1\\nclient_1    client_1\\n              ...   \\nclient_6    client_6\\nclient_8    client_8\\nclient_0    client_0\\nclient_7    client_7\\nclient_6    client_6\\nName: client, Length: 1000, dtype: category\\nCategories (9, object): ['client_0', 'client_1', 'client_2', 'client_3', ..., 'client_5', 'client_6', 'client_7', 'client_8']Client\\nclient_0    4\\nclient_1    3\\nclient_1    2\\nclient_1    1\\nclient_1    1\\n           ..\\nclient_6    1\\nclient_8    0\\nclient_0    0\\nclient_7    0\\nclient_6    0\\nName: Day, Length: 1000, dtype: category\\nCategories (5, int64): [0, 1, 2, 3, 4]staff_9  \n",
       "Client                                                                                                                                                                                                                                                                                                                                                                                                                                                                                                                                                                                                                                                                                                              \n",
       "client_0                                                  0                                                                                                                                                                                                                                                                                                                                                                                                                                                                                                                                                                                                                                                         \n",
       "client_0                                                  0                                                                                                                                                                                                                                                                                                                                                                                                                                                                                                                                                                                                                                                         \n",
       "client_0                                                  0                                                                                                                                                                                                                                                                                                                                                                                                                                                                                                                                                                                                                                                         \n",
       "\n",
       "[3 rows x 49 columns]"
      ]
     },
     "execution_count": 7,
     "metadata": {},
     "output_type": "execute_result"
    }
   ],
   "source": [
    "# This merges dummies and the full df to be standarized\n",
    "#\n",
    "#\n",
    "\n",
    "df = df.merge(dummies, left_index=True, right_index=True)\n",
    "\n",
    "print(df.shape)\n",
    "df.head(3)"
   ]
  },
  {
   "cell_type": "code",
   "execution_count": 8,
   "id": "planned-colon",
   "metadata": {
    "scrolled": false
   },
   "outputs": [
    {
     "data": {
      "text/html": [
       "<div>\n",
       "<style scoped>\n",
       "    .dataframe tbody tr th:only-of-type {\n",
       "        vertical-align: middle;\n",
       "    }\n",
       "\n",
       "    .dataframe tbody tr th {\n",
       "        vertical-align: top;\n",
       "    }\n",
       "\n",
       "    .dataframe thead th {\n",
       "        text-align: right;\n",
       "    }\n",
       "</style>\n",
       "<table border=\"1\" class=\"dataframe\">\n",
       "  <thead>\n",
       "    <tr style=\"text-align: right;\">\n",
       "      <th></th>\n",
       "      <th>aggression</th>\n",
       "      <th>elope</th>\n",
       "      <th>non-compliance</th>\n",
       "      <th>protesting</th>\n",
       "      <th>sib</th>\n",
       "    </tr>\n",
       "  </thead>\n",
       "  <tbody>\n",
       "    <tr>\n",
       "      <th>0</th>\n",
       "      <td>-0.399086</td>\n",
       "      <td>-0.460239</td>\n",
       "      <td>-0.094702</td>\n",
       "      <td>-0.570422</td>\n",
       "      <td>2.000233</td>\n",
       "    </tr>\n",
       "    <tr>\n",
       "      <th>1</th>\n",
       "      <td>-0.399086</td>\n",
       "      <td>-0.460239</td>\n",
       "      <td>-0.094702</td>\n",
       "      <td>-0.570422</td>\n",
       "      <td>2.000233</td>\n",
       "    </tr>\n",
       "    <tr>\n",
       "      <th>2</th>\n",
       "      <td>-0.399086</td>\n",
       "      <td>-0.460239</td>\n",
       "      <td>-0.094702</td>\n",
       "      <td>-0.570422</td>\n",
       "      <td>2.000233</td>\n",
       "    </tr>\n",
       "  </tbody>\n",
       "</table>\n",
       "</div>"
      ],
      "text/plain": [
       "   aggression     elope  non-compliance  protesting       sib\n",
       "0   -0.399086 -0.460239       -0.094702   -0.570422  2.000233\n",
       "1   -0.399086 -0.460239       -0.094702   -0.570422  2.000233\n",
       "2   -0.399086 -0.460239       -0.094702   -0.570422  2.000233"
      ]
     },
     "execution_count": 8,
     "metadata": {},
     "output_type": "execute_result"
    }
   ],
   "source": [
    "df_ss = ['aggression', 'elope', 'non-compliance', 'protesting', 'sib']\n",
    "\n",
    "# Making a Scaler object\n",
    "\n",
    "scaler = StandardScaler()\n",
    "\n",
    "# Fitting data to the scaler object\n",
    "\n",
    "scaled_df = scaler.fit_transform(df[df_ss])\n",
    "scaled_df = pd.DataFrame(scaled_df, columns=df_ss)\n",
    "scaled_df.head(3)"
   ]
  },
  {
   "cell_type": "code",
   "execution_count": 9,
   "id": "checked-helicopter",
   "metadata": {},
   "outputs": [],
   "source": [
    "# already merged above\n",
    "\n",
    "merged = df\n",
    "for i in scaled_df.columns:\n",
    "    merged[i] = scaled_df[i].values"
   ]
  },
  {
   "cell_type": "code",
   "execution_count": 10,
   "id": "floppy-printer",
   "metadata": {},
   "outputs": [
    {
     "name": "stderr",
     "output_type": "stream",
     "text": [
      "<ipython-input-10-ac2d71850a05>:21: FutureWarning: DataFrame.mean and DataFrame.median with numeric_only=None will include datetime64 and datetime64tz columns in a future version.\n",
      "  client_bx_mean = df.loc[df['client'] == i].mean()\n"
     ]
    },
    {
     "name": "stdout",
     "output_type": "stream",
     "text": [
      "done\n"
     ]
    }
   ],
   "source": [
    "## This function has been deprecated\n",
    "\n",
    "\n",
    "\n",
    "bx_list = ['aggression', 'elope', 'non-compliance', 'protesting', 'sib']\n",
    "# Given a dataframe of clients and standarized behaviors, will return df with averages for each bx for each client\n",
    "# This will probably not be used\n",
    "\n",
    "\n",
    "\n",
    "def get_avgs(df, bx_list):\n",
    "    \n",
    "    new_index = list()\n",
    "#    df_index = df.index.tolist()\n",
    "    df_mean = pd.DataFrame()\n",
    "    \n",
    "    for i in df.index.unique():\n",
    "        \n",
    "        for b in bx_list:\n",
    "            \n",
    "            client_bx_mean = df.loc[df['client'] == i].mean()\n",
    "            \n",
    "            df_mean = df_mean.append(client_bx_mean, ignore_index = True)\n",
    "            \n",
    "            new_index.append(i)\n",
    "    \n",
    "    df_mean['client'] = new_index\n",
    "    df_mean.set_index(df_mean.client)\n",
    "\n",
    "    return df_mean, new_index\n",
    "            \n",
    "    \n",
    "    \n",
    "df_mean, new_index = get_avgs(merged,bx_list)\n",
    "print('done')         "
   ]
  },
  {
   "cell_type": "code",
   "execution_count": 11,
   "id": "herbal-peeing",
   "metadata": {},
   "outputs": [
    {
     "name": "stdout",
     "output_type": "stream",
     "text": [
      "done\n",
      "done\n",
      "done\n",
      "done\n",
      "done\n",
      "done\n",
      "done\n",
      "done\n",
      "done\n"
     ]
    }
   ],
   "source": [
    "##############################################################################################\n",
    "# Purpose: Create a df of observations where client showed their max instance of each bx     #\n",
    "#          This is a dataset of the most extreme observations for each column and how they   #\n",
    "#          relate to other bx in the same session                                            #\n",
    "#                                                                                            #\n",
    "#                                                                                            #\n",
    "# Returns df of all clients where the observation with the instance of max bx_list           #\n",
    "# The max frame is all of the category data as well as standarized bx                        #\n",
    "#                                                                                            #\n",
    "# Takes in a standarized df of client observations with dummies                              #\n",
    "##############################################################################################\n",
    "\n",
    "def extreme_df(df):\n",
    "    \n",
    "    clients = df.index.unique()\n",
    "    clients_max = pd.DataFrame()\n",
    "    full_frame = pd.DataFrame()\n",
    "\n",
    "    for i in clients:\n",
    "    \n",
    "        clients_frame = df.loc[df.client == i]\n",
    "#    clients_frame = clients_frame[bx_list]\n",
    "    \n",
    "        for bx in bx_list:\n",
    "    \n",
    "            clients_max = clients_max.append(clients_frame[clients_frame[bx] == clients_frame[bx].max()].drop_duplicates())\n",
    "#        full_frame = clients_max.append(clients_frame[clients_frame[bx] == clients_frame[bx]]) #max?\n",
    "\n",
    "        print('done')\n",
    "    return clients_max\n",
    "    \n",
    "clients_max = extreme_df(df)\n",
    "    "
   ]
  },
  {
   "cell_type": "code",
   "execution_count": 12,
   "id": "severe-repeat",
   "metadata": {},
   "outputs": [],
   "source": [
    "\n",
    "clients_max.to_csv('clients_max.csv')\n",
    "cols_to_keep = ['Date', 'Day', 'Staff Member', 'Duration', 'aggression', 'elope', 'non-compliance', 'protesting', 'sib', 'client']\n"
   ]
  },
  {
   "cell_type": "code",
   "execution_count": 13,
   "id": "meaningful-print",
   "metadata": {
    "scrolled": false
   },
   "outputs": [
    {
     "data": {
      "text/html": [
       "<div>\n",
       "<style scoped>\n",
       "    .dataframe tbody tr th:only-of-type {\n",
       "        vertical-align: middle;\n",
       "    }\n",
       "\n",
       "    .dataframe tbody tr th {\n",
       "        vertical-align: top;\n",
       "    }\n",
       "\n",
       "    .dataframe thead th {\n",
       "        text-align: right;\n",
       "    }\n",
       "</style>\n",
       "<table border=\"1\" class=\"dataframe\">\n",
       "  <thead>\n",
       "    <tr style=\"text-align: right;\">\n",
       "      <th></th>\n",
       "      <th>index</th>\n",
       "      <th>Problem</th>\n",
       "      <th>Date</th>\n",
       "      <th>Day</th>\n",
       "      <th>Staff Member</th>\n",
       "      <th>Duration</th>\n",
       "      <th>aggression</th>\n",
       "      <th>elope</th>\n",
       "      <th>non-compliance</th>\n",
       "      <th>protesting</th>\n",
       "      <th>sib</th>\n",
       "      <th>client</th>\n",
       "    </tr>\n",
       "  </thead>\n",
       "  <tbody>\n",
       "    <tr>\n",
       "      <th>0</th>\n",
       "      <td>client_0</td>\n",
       "      <td>NaN</td>\n",
       "      <td>2021-07-12</td>\n",
       "      <td>0</td>\n",
       "      <td>staff_23</td>\n",
       "      <td>6.00</td>\n",
       "      <td>0.722242</td>\n",
       "      <td>-0.460239</td>\n",
       "      <td>0.172368</td>\n",
       "      <td>-0.339360</td>\n",
       "      <td>2.797564</td>\n",
       "      <td>client_0</td>\n",
       "    </tr>\n",
       "    <tr>\n",
       "      <th>1</th>\n",
       "      <td>client_0</td>\n",
       "      <td>NaN</td>\n",
       "      <td>2021-06-29</td>\n",
       "      <td>1</td>\n",
       "      <td>staff_31</td>\n",
       "      <td>3.00</td>\n",
       "      <td>0.722242</td>\n",
       "      <td>0.185379</td>\n",
       "      <td>-0.295005</td>\n",
       "      <td>-0.570422</td>\n",
       "      <td>-0.125984</td>\n",
       "      <td>client_0</td>\n",
       "    </tr>\n",
       "    <tr>\n",
       "      <th>2</th>\n",
       "      <td>client_0</td>\n",
       "      <td>NaN</td>\n",
       "      <td>2021-06-29</td>\n",
       "      <td>1</td>\n",
       "      <td>staff_33</td>\n",
       "      <td>4.00</td>\n",
       "      <td>0.722242</td>\n",
       "      <td>0.185379</td>\n",
       "      <td>-0.295005</td>\n",
       "      <td>-0.570422</td>\n",
       "      <td>-0.125984</td>\n",
       "      <td>client_0</td>\n",
       "    </tr>\n",
       "    <tr>\n",
       "      <th>3</th>\n",
       "      <td>client_0</td>\n",
       "      <td>NaN</td>\n",
       "      <td>2021-05-28</td>\n",
       "      <td>4</td>\n",
       "      <td>staff_8</td>\n",
       "      <td>7.00</td>\n",
       "      <td>1.282906</td>\n",
       "      <td>-0.460239</td>\n",
       "      <td>-0.495307</td>\n",
       "      <td>-0.570422</td>\n",
       "      <td>0.405570</td>\n",
       "      <td>client_0</td>\n",
       "    </tr>\n",
       "    <tr>\n",
       "      <th>4</th>\n",
       "      <td>client_0</td>\n",
       "      <td>NaN</td>\n",
       "      <td>2021-05-14</td>\n",
       "      <td>4</td>\n",
       "      <td>staff_41</td>\n",
       "      <td>6.00</td>\n",
       "      <td>1.096018</td>\n",
       "      <td>-0.137430</td>\n",
       "      <td>-0.361772</td>\n",
       "      <td>-0.570422</td>\n",
       "      <td>0.937124</td>\n",
       "      <td>client_0</td>\n",
       "    </tr>\n",
       "    <tr>\n",
       "      <th>...</th>\n",
       "      <td>...</td>\n",
       "      <td>...</td>\n",
       "      <td>...</td>\n",
       "      <td>...</td>\n",
       "      <td>...</td>\n",
       "      <td>...</td>\n",
       "      <td>...</td>\n",
       "      <td>...</td>\n",
       "      <td>...</td>\n",
       "      <td>...</td>\n",
       "      <td>...</td>\n",
       "      <td>...</td>\n",
       "    </tr>\n",
       "    <tr>\n",
       "      <th>90</th>\n",
       "      <td>client_8</td>\n",
       "      <td>NaN</td>\n",
       "      <td>2021-03-08</td>\n",
       "      <td>0</td>\n",
       "      <td>staff_2</td>\n",
       "      <td>3.50</td>\n",
       "      <td>2.217347</td>\n",
       "      <td>0.185379</td>\n",
       "      <td>NaN</td>\n",
       "      <td>NaN</td>\n",
       "      <td>NaN</td>\n",
       "      <td>client_8</td>\n",
       "    </tr>\n",
       "    <tr>\n",
       "      <th>91</th>\n",
       "      <td>client_8</td>\n",
       "      <td>NaN</td>\n",
       "      <td>2021-05-12</td>\n",
       "      <td>2</td>\n",
       "      <td>staff_25</td>\n",
       "      <td>3.00</td>\n",
       "      <td>-0.399086</td>\n",
       "      <td>0.508188</td>\n",
       "      <td>NaN</td>\n",
       "      <td>NaN</td>\n",
       "      <td>NaN</td>\n",
       "      <td>client_8</td>\n",
       "    </tr>\n",
       "    <tr>\n",
       "      <th>92</th>\n",
       "      <td>client_8</td>\n",
       "      <td>NaN</td>\n",
       "      <td>2021-05-12</td>\n",
       "      <td>2</td>\n",
       "      <td>staff_2</td>\n",
       "      <td>4.75</td>\n",
       "      <td>-0.399086</td>\n",
       "      <td>0.508188</td>\n",
       "      <td>NaN</td>\n",
       "      <td>NaN</td>\n",
       "      <td>NaN</td>\n",
       "      <td>client_8</td>\n",
       "    </tr>\n",
       "    <tr>\n",
       "      <th>93</th>\n",
       "      <td>client_8</td>\n",
       "      <td>NaN</td>\n",
       "      <td>2021-04-16</td>\n",
       "      <td>4</td>\n",
       "      <td>staff_2</td>\n",
       "      <td>2.50</td>\n",
       "      <td>-0.585974</td>\n",
       "      <td>0.830997</td>\n",
       "      <td>NaN</td>\n",
       "      <td>NaN</td>\n",
       "      <td>NaN</td>\n",
       "      <td>client_8</td>\n",
       "    </tr>\n",
       "    <tr>\n",
       "      <th>94</th>\n",
       "      <td>client_8</td>\n",
       "      <td>NaN</td>\n",
       "      <td>2021-02-17</td>\n",
       "      <td>2</td>\n",
       "      <td>staff_25</td>\n",
       "      <td>3.00</td>\n",
       "      <td>-0.585974</td>\n",
       "      <td>0.508188</td>\n",
       "      <td>NaN</td>\n",
       "      <td>NaN</td>\n",
       "      <td>NaN</td>\n",
       "      <td>client_8</td>\n",
       "    </tr>\n",
       "  </tbody>\n",
       "</table>\n",
       "<p>95 rows × 12 columns</p>\n",
       "</div>"
      ],
      "text/plain": [
       "       index Problem       Date Day Staff Member  Duration  aggression  \\\n",
       "0   client_0     NaN 2021-07-12   0     staff_23      6.00    0.722242   \n",
       "1   client_0     NaN 2021-06-29   1     staff_31      3.00    0.722242   \n",
       "2   client_0     NaN 2021-06-29   1     staff_33      4.00    0.722242   \n",
       "3   client_0     NaN 2021-05-28   4      staff_8      7.00    1.282906   \n",
       "4   client_0     NaN 2021-05-14   4     staff_41      6.00    1.096018   \n",
       "..       ...     ...        ...  ..          ...       ...         ...   \n",
       "90  client_8     NaN 2021-03-08   0      staff_2      3.50    2.217347   \n",
       "91  client_8     NaN 2021-05-12   2     staff_25      3.00   -0.399086   \n",
       "92  client_8     NaN 2021-05-12   2      staff_2      4.75   -0.399086   \n",
       "93  client_8     NaN 2021-04-16   4      staff_2      2.50   -0.585974   \n",
       "94  client_8     NaN 2021-02-17   2     staff_25      3.00   -0.585974   \n",
       "\n",
       "       elope  non-compliance  protesting       sib    client  \n",
       "0  -0.460239        0.172368   -0.339360  2.797564  client_0  \n",
       "1   0.185379       -0.295005   -0.570422 -0.125984  client_0  \n",
       "2   0.185379       -0.295005   -0.570422 -0.125984  client_0  \n",
       "3  -0.460239       -0.495307   -0.570422  0.405570  client_0  \n",
       "4  -0.137430       -0.361772   -0.570422  0.937124  client_0  \n",
       "..       ...             ...         ...       ...       ...  \n",
       "90  0.185379             NaN         NaN       NaN  client_8  \n",
       "91  0.508188             NaN         NaN       NaN  client_8  \n",
       "92  0.508188             NaN         NaN       NaN  client_8  \n",
       "93  0.830997             NaN         NaN       NaN  client_8  \n",
       "94  0.508188             NaN         NaN       NaN  client_8  \n",
       "\n",
       "[95 rows x 12 columns]"
      ]
     },
     "execution_count": 13,
     "metadata": {},
     "output_type": "execute_result"
    }
   ],
   "source": [
    "##########################################################################################################\n",
    "# Purpose: Identify clients' that have had instances of bx more than 2 std from their mean.              #\n",
    "#          Highlights what behaviors can be more extreme for a particular client.                        #\n",
    "#                                                                                                        #\n",
    "#          If any clients bx is outside 2.5 std deviation of their mean, then we want that pointed out   #\n",
    "#          Later: grab the full session row to use elsewhere                                             #\n",
    "##########################################################################################################\n",
    "def flag_it(df):\n",
    "    \n",
    "    cols_to_keep = ['Problem','Date', 'Day', 'Staff Member', 'Duration', 'aggression', 'elope', 'non-compliance', 'protesting', 'sib', 'client']\n",
    "    bx_list = ['aggression', 'elope', 'sib', 'non-compliance', 'protesting']\n",
    "    extreme_obs = pd.DataFrame(columns=cols_to_keep)\n",
    "    flags = pd.DataFrame(columns=['client', 'bx', 'mean','thresh'])\n",
    "    extreme = []\n",
    "    \n",
    "    for c in df.client.unique():\n",
    "        \n",
    "        \n",
    "        for bx in bx_list:\n",
    "            \n",
    "            bx_df = df.loc[df['client'] == c]\n",
    "            client_bx_df = bx_df[bx]\n",
    "\n",
    "            \n",
    "            mean = client_bx_df.mean()\n",
    "            std = client_bx_df.std()\n",
    "            thresh = mean + std*2.5\n",
    "                        \n",
    "            extreme_obs = extreme_obs.append(bx_df.loc[bx_df[bx] > thresh])\n",
    "            \n",
    "\n",
    "\n",
    "            if client_bx_df.any() > thresh:\n",
    "                flags = flags.append({'client' : c, 'bx' : bx, 'mean' : mean, 'thresh' : thresh}, ignore_index=True)\n",
    "\n",
    "    \n",
    "    extreme_obs = extreme_obs[cols_to_keep].drop_duplicates()\n",
    "    \n",
    "\n",
    "    return flags, extreme_obs\n",
    "    \n",
    "flags, extreme_obs = flag_it(df)\n",
    "extreme_obs.reset_index()"
   ]
  },
  {
   "cell_type": "code",
   "execution_count": 14,
   "id": "premier-thickness",
   "metadata": {},
   "outputs": [],
   "source": [
    "#extreme_obs.iloc[2].protesting - a"
   ]
  },
  {
   "cell_type": "code",
   "execution_count": 15,
   "id": "preliminary-coverage",
   "metadata": {},
   "outputs": [
    {
     "data": {
      "text/plain": [
       "2   -0.037085\n",
       "Name: thresh, dtype: float64"
      ]
     },
     "execution_count": 15,
     "metadata": {},
     "output_type": "execute_result"
    }
   ],
   "source": [
    "#####################################################################\n",
    "# Purpose: Get the threshold value of a bahavior for any one client #\n",
    "#####################################################################\n",
    "\n",
    "def get_thresh(client,bx):\n",
    "    \n",
    "    c = flags['client'] == client\n",
    "    b = flags['bx'] == bx\n",
    "    thresh = flags[c&b]['thresh']\n",
    "    thresh = thresh\n",
    "    \n",
    "    return thresh\n",
    "\n",
    "a = get_thresh('client_0','protesting')\n",
    "#a < extreme_obs.iloc[0]['protesting']\n",
    "a"
   ]
  },
  {
   "cell_type": "code",
   "execution_count": 16,
   "id": "sapphire-bubble",
   "metadata": {},
   "outputs": [],
   "source": [
    "# creates a bool series for threshold for each observation if it was the extreme bx\n",
    "\n",
    "output = []\n",
    "for i, row in extreme_obs.iterrows():\n",
    "  obs_behavior = {}\n",
    "  for indicator in bx_list:\n",
    "    thresh = get_thresh(row['client'], indicator)\n",
    "    if len(thresh) > 0:\n",
    "        obs_thres_higher = row[indicator] > thresh.iloc[0]\n",
    "    else:\n",
    "        obs_thres_higher = None\n",
    "    obs_behavior[indicator] = obs_thres_higher\n",
    "  output.append(obs_behavior)"
   ]
  },
  {
   "cell_type": "code",
   "execution_count": 17,
   "id": "endless-stroke",
   "metadata": {},
   "outputs": [],
   "source": [
    "output = pd.DataFrame(output)\n",
    "\n",
    "# concat vert"
   ]
  },
  {
   "cell_type": "code",
   "execution_count": 18,
   "id": "saving-musical",
   "metadata": {},
   "outputs": [
    {
     "data": {
      "text/html": [
       "<div>\n",
       "<style scoped>\n",
       "    .dataframe tbody tr th:only-of-type {\n",
       "        vertical-align: middle;\n",
       "    }\n",
       "\n",
       "    .dataframe tbody tr th {\n",
       "        vertical-align: top;\n",
       "    }\n",
       "\n",
       "    .dataframe thead th {\n",
       "        text-align: right;\n",
       "    }\n",
       "</style>\n",
       "<table border=\"1\" class=\"dataframe\">\n",
       "  <thead>\n",
       "    <tr style=\"text-align: right;\">\n",
       "      <th></th>\n",
       "      <th>Problem</th>\n",
       "      <th>Date</th>\n",
       "      <th>Day</th>\n",
       "      <th>Staff Member</th>\n",
       "      <th>Duration</th>\n",
       "      <th>aggression</th>\n",
       "      <th>elope</th>\n",
       "      <th>non-compliance</th>\n",
       "      <th>protesting</th>\n",
       "      <th>sib</th>\n",
       "      <th>client</th>\n",
       "    </tr>\n",
       "  </thead>\n",
       "  <tbody>\n",
       "    <tr>\n",
       "      <th>client_0</th>\n",
       "      <td>NaN</td>\n",
       "      <td>2021-07-12</td>\n",
       "      <td>0</td>\n",
       "      <td>staff_23</td>\n",
       "      <td>6.0</td>\n",
       "      <td>0.722242</td>\n",
       "      <td>-0.460239</td>\n",
       "      <td>0.172368</td>\n",
       "      <td>-0.33936</td>\n",
       "      <td>2.797564</td>\n",
       "      <td>client_0</td>\n",
       "    </tr>\n",
       "    <tr>\n",
       "      <th>client_0</th>\n",
       "      <td>NaN</td>\n",
       "      <td>2021-06-29</td>\n",
       "      <td>1</td>\n",
       "      <td>staff_31</td>\n",
       "      <td>3.0</td>\n",
       "      <td>0.722242</td>\n",
       "      <td>0.185379</td>\n",
       "      <td>-0.295005</td>\n",
       "      <td>-0.570422</td>\n",
       "      <td>-0.125984</td>\n",
       "      <td>client_0</td>\n",
       "    </tr>\n",
       "    <tr>\n",
       "      <th>client_0</th>\n",
       "      <td>NaN</td>\n",
       "      <td>2021-06-29</td>\n",
       "      <td>1</td>\n",
       "      <td>staff_33</td>\n",
       "      <td>4.0</td>\n",
       "      <td>0.722242</td>\n",
       "      <td>0.185379</td>\n",
       "      <td>-0.295005</td>\n",
       "      <td>-0.570422</td>\n",
       "      <td>-0.125984</td>\n",
       "      <td>client_0</td>\n",
       "    </tr>\n",
       "    <tr>\n",
       "      <th>client_0</th>\n",
       "      <td>NaN</td>\n",
       "      <td>2021-05-28</td>\n",
       "      <td>4</td>\n",
       "      <td>staff_8</td>\n",
       "      <td>7.0</td>\n",
       "      <td>1.282906</td>\n",
       "      <td>-0.460239</td>\n",
       "      <td>-0.495307</td>\n",
       "      <td>-0.570422</td>\n",
       "      <td>0.40557</td>\n",
       "      <td>client_0</td>\n",
       "    </tr>\n",
       "    <tr>\n",
       "      <th>client_0</th>\n",
       "      <td>NaN</td>\n",
       "      <td>2021-05-14</td>\n",
       "      <td>4</td>\n",
       "      <td>staff_41</td>\n",
       "      <td>6.0</td>\n",
       "      <td>1.096018</td>\n",
       "      <td>-0.13743</td>\n",
       "      <td>-0.361772</td>\n",
       "      <td>-0.570422</td>\n",
       "      <td>0.937124</td>\n",
       "      <td>client_0</td>\n",
       "    </tr>\n",
       "    <tr>\n",
       "      <th>...</th>\n",
       "      <td>...</td>\n",
       "      <td>...</td>\n",
       "      <td>...</td>\n",
       "      <td>...</td>\n",
       "      <td>...</td>\n",
       "      <td>...</td>\n",
       "      <td>...</td>\n",
       "      <td>...</td>\n",
       "      <td>...</td>\n",
       "      <td>...</td>\n",
       "      <td>...</td>\n",
       "    </tr>\n",
       "    <tr>\n",
       "      <th>90</th>\n",
       "      <td>NaN</td>\n",
       "      <td>NaT</td>\n",
       "      <td>NaN</td>\n",
       "      <td>NaN</td>\n",
       "      <td>NaN</td>\n",
       "      <td>True</td>\n",
       "      <td>False</td>\n",
       "      <td>None</td>\n",
       "      <td>None</td>\n",
       "      <td>None</td>\n",
       "      <td>NaN</td>\n",
       "    </tr>\n",
       "    <tr>\n",
       "      <th>91</th>\n",
       "      <td>NaN</td>\n",
       "      <td>NaT</td>\n",
       "      <td>NaN</td>\n",
       "      <td>NaN</td>\n",
       "      <td>NaN</td>\n",
       "      <td>False</td>\n",
       "      <td>True</td>\n",
       "      <td>None</td>\n",
       "      <td>None</td>\n",
       "      <td>None</td>\n",
       "      <td>NaN</td>\n",
       "    </tr>\n",
       "    <tr>\n",
       "      <th>92</th>\n",
       "      <td>NaN</td>\n",
       "      <td>NaT</td>\n",
       "      <td>NaN</td>\n",
       "      <td>NaN</td>\n",
       "      <td>NaN</td>\n",
       "      <td>False</td>\n",
       "      <td>True</td>\n",
       "      <td>None</td>\n",
       "      <td>None</td>\n",
       "      <td>None</td>\n",
       "      <td>NaN</td>\n",
       "    </tr>\n",
       "    <tr>\n",
       "      <th>93</th>\n",
       "      <td>NaN</td>\n",
       "      <td>NaT</td>\n",
       "      <td>NaN</td>\n",
       "      <td>NaN</td>\n",
       "      <td>NaN</td>\n",
       "      <td>False</td>\n",
       "      <td>True</td>\n",
       "      <td>None</td>\n",
       "      <td>None</td>\n",
       "      <td>None</td>\n",
       "      <td>NaN</td>\n",
       "    </tr>\n",
       "    <tr>\n",
       "      <th>94</th>\n",
       "      <td>NaN</td>\n",
       "      <td>NaT</td>\n",
       "      <td>NaN</td>\n",
       "      <td>NaN</td>\n",
       "      <td>NaN</td>\n",
       "      <td>False</td>\n",
       "      <td>True</td>\n",
       "      <td>None</td>\n",
       "      <td>None</td>\n",
       "      <td>None</td>\n",
       "      <td>NaN</td>\n",
       "    </tr>\n",
       "  </tbody>\n",
       "</table>\n",
       "<p>190 rows × 11 columns</p>\n",
       "</div>"
      ],
      "text/plain": [
       "         Problem       Date  Day Staff Member  Duration aggression     elope  \\\n",
       "client_0     NaN 2021-07-12    0     staff_23       6.0   0.722242 -0.460239   \n",
       "client_0     NaN 2021-06-29    1     staff_31       3.0   0.722242  0.185379   \n",
       "client_0     NaN 2021-06-29    1     staff_33       4.0   0.722242  0.185379   \n",
       "client_0     NaN 2021-05-28    4      staff_8       7.0   1.282906 -0.460239   \n",
       "client_0     NaN 2021-05-14    4     staff_41       6.0   1.096018  -0.13743   \n",
       "...          ...        ...  ...          ...       ...        ...       ...   \n",
       "90           NaN        NaT  NaN          NaN       NaN       True     False   \n",
       "91           NaN        NaT  NaN          NaN       NaN      False      True   \n",
       "92           NaN        NaT  NaN          NaN       NaN      False      True   \n",
       "93           NaN        NaT  NaN          NaN       NaN      False      True   \n",
       "94           NaN        NaT  NaN          NaN       NaN      False      True   \n",
       "\n",
       "         non-compliance protesting       sib    client  \n",
       "client_0       0.172368   -0.33936  2.797564  client_0  \n",
       "client_0      -0.295005  -0.570422 -0.125984  client_0  \n",
       "client_0      -0.295005  -0.570422 -0.125984  client_0  \n",
       "client_0      -0.495307  -0.570422   0.40557  client_0  \n",
       "client_0      -0.361772  -0.570422  0.937124  client_0  \n",
       "...                 ...        ...       ...       ...  \n",
       "90                 None       None      None       NaN  \n",
       "91                 None       None      None       NaN  \n",
       "92                 None       None      None       NaN  \n",
       "93                 None       None      None       NaN  \n",
       "94                 None       None      None       NaN  \n",
       "\n",
       "[190 rows x 11 columns]"
      ]
     },
     "execution_count": 18,
     "metadata": {},
     "output_type": "execute_result"
    }
   ],
   "source": [
    "extreme_obs.append(output)"
   ]
  },
  {
   "cell_type": "code",
   "execution_count": 19,
   "id": "powered-hunger",
   "metadata": {
    "scrolled": true
   },
   "outputs": [
    {
     "data": {
      "text/html": [
       "<div>\n",
       "<style scoped>\n",
       "    .dataframe tbody tr th:only-of-type {\n",
       "        vertical-align: middle;\n",
       "    }\n",
       "\n",
       "    .dataframe tbody tr th {\n",
       "        vertical-align: top;\n",
       "    }\n",
       "\n",
       "    .dataframe thead th {\n",
       "        text-align: right;\n",
       "    }\n",
       "</style>\n",
       "<table border=\"1\" class=\"dataframe\">\n",
       "  <thead>\n",
       "    <tr style=\"text-align: right;\">\n",
       "      <th></th>\n",
       "      <th>client</th>\n",
       "      <th>bx</th>\n",
       "      <th>mean</th>\n",
       "      <th>thresh</th>\n",
       "    </tr>\n",
       "  </thead>\n",
       "  <tbody>\n",
       "    <tr>\n",
       "      <th>15</th>\n",
       "      <td>client_8</td>\n",
       "      <td>elope</td>\n",
       "      <td>-0.264102</td>\n",
       "      <td>0.489276</td>\n",
       "    </tr>\n",
       "    <tr>\n",
       "      <th>5</th>\n",
       "      <td>client_3</td>\n",
       "      <td>aggression</td>\n",
       "      <td>-0.561384</td>\n",
       "      <td>-0.306105</td>\n",
       "    </tr>\n",
       "    <tr>\n",
       "      <th>8</th>\n",
       "      <td>client_4</td>\n",
       "      <td>aggression</td>\n",
       "      <td>-0.514094</td>\n",
       "      <td>-0.163318</td>\n",
       "    </tr>\n",
       "  </tbody>\n",
       "</table>\n",
       "</div>"
      ],
      "text/plain": [
       "      client          bx      mean    thresh\n",
       "15  client_8       elope -0.264102  0.489276\n",
       "5   client_3  aggression -0.561384 -0.306105\n",
       "8   client_4  aggression -0.514094 -0.163318"
      ]
     },
     "execution_count": 19,
     "metadata": {},
     "output_type": "execute_result"
    }
   ],
   "source": [
    "# flags[flags.client == 'client_0']\n",
    "\n",
    "flags.sample(3)"
   ]
  },
  {
   "cell_type": "code",
   "execution_count": 20,
   "id": "completed-student",
   "metadata": {},
   "outputs": [
    {
     "data": {
      "text/plain": [
       "<AxesSubplot:>"
      ]
     },
     "execution_count": 20,
     "metadata": {},
     "output_type": "execute_result"
    },
    {
     "data": {
      "image/png": "[encoded data removed]",
      "text/plain": [
       "<Figure size 432x288 with 2 Axes>"
      ]
     },
     "metadata": {
      "needs_background": "light"
     },
     "output_type": "display_data"
    }
   ],
   "source": [
    "# When I have 'problem filled in I can run a few graphs showing sorting by staff and client \n",
    "\n",
    "# How might I reduce the same client observations to make this graphic more clear? maybe sum them?\n",
    "\n",
    "sns.heatmap(extreme_obs[bx_list])"
   ]
  },
  {
   "cell_type": "code",
   "execution_count": 21,
   "id": "creative-macedonia",
   "metadata": {},
   "outputs": [
    {
     "data": {
      "text/plain": [
       "<matplotlib.collections.PathCollection at 0x7f1d626ac460>"
      ]
     },
     "execution_count": 21,
     "metadata": {},
     "output_type": "execute_result"
    },
    {
     "data": {
      "image/png": "[encoded data removed]",
      "text/plain": [
       "<Figure size 720x720 with 1 Axes>"
      ]
     },
     "metadata": {
      "needs_background": "light"
     },
     "output_type": "display_data"
    }
   ],
   "source": [
    "# Can plot client/staff by bx\n",
    "# Should not reduce dimentionality of client/staff. Each point is important\n",
    "\n",
    "plt.rcParams['figure.figsize'] = [10, 10]\n",
    "\n",
    "a = extreme_obs['client'] == 'client_0'\n",
    "plt.title('Showing a client with observations of their bx')\n",
    "\n",
    "plt.scatter(a,extreme_obs['elope'] )\n"
   ]
  },
  {
   "cell_type": "code",
   "execution_count": 22,
   "id": "advisory-david",
   "metadata": {
    "scrolled": true
   },
   "outputs": [
    {
     "name": "stdout",
     "output_type": "stream",
     "text": [
      "Original df size: 9840\n",
      "extreme_obs size: 95\n"
     ]
    }
   ],
   "source": [
    "print('Original df size: ' + str(len(df.drop_duplicates())))\n",
    "print('extreme_obs size: ' + str(len(extreme_obs.drop_duplicates())))"
   ]
  },
  {
   "cell_type": "code",
   "execution_count": 23,
   "id": "precious-appreciation",
   "metadata": {
    "scrolled": true
   },
   "outputs": [
    {
     "data": {
      "text/html": [
       "<div>\n",
       "<style scoped>\n",
       "    .dataframe tbody tr th:only-of-type {\n",
       "        vertical-align: middle;\n",
       "    }\n",
       "\n",
       "    .dataframe tbody tr th {\n",
       "        vertical-align: top;\n",
       "    }\n",
       "\n",
       "    .dataframe thead th {\n",
       "        text-align: right;\n",
       "    }\n",
       "</style>\n",
       "<table border=\"1\" class=\"dataframe\">\n",
       "  <thead>\n",
       "    <tr style=\"text-align: right;\">\n",
       "      <th></th>\n",
       "      <th>client</th>\n",
       "      <th>entries</th>\n",
       "    </tr>\n",
       "  </thead>\n",
       "  <tbody>\n",
       "    <tr>\n",
       "      <th>0</th>\n",
       "      <td>client_0</td>\n",
       "      <td>26</td>\n",
       "    </tr>\n",
       "    <tr>\n",
       "      <th>1</th>\n",
       "      <td>client_7</td>\n",
       "      <td>19</td>\n",
       "    </tr>\n",
       "    <tr>\n",
       "      <th>2</th>\n",
       "      <td>client_2</td>\n",
       "      <td>14</td>\n",
       "    </tr>\n",
       "    <tr>\n",
       "      <th>3</th>\n",
       "      <td>client_3</td>\n",
       "      <td>11</td>\n",
       "    </tr>\n",
       "    <tr>\n",
       "      <th>4</th>\n",
       "      <td>client_1</td>\n",
       "      <td>6</td>\n",
       "    </tr>\n",
       "    <tr>\n",
       "      <th>5</th>\n",
       "      <td>client_4</td>\n",
       "      <td>6</td>\n",
       "    </tr>\n",
       "    <tr>\n",
       "      <th>8</th>\n",
       "      <td>client_8</td>\n",
       "      <td>5</td>\n",
       "    </tr>\n",
       "    <tr>\n",
       "      <th>6</th>\n",
       "      <td>client_5</td>\n",
       "      <td>4</td>\n",
       "    </tr>\n",
       "    <tr>\n",
       "      <th>7</th>\n",
       "      <td>client_6</td>\n",
       "      <td>4</td>\n",
       "    </tr>\n",
       "  </tbody>\n",
       "</table>\n",
       "</div>"
      ],
      "text/plain": [
       "     client entries\n",
       "0  client_0      26\n",
       "1  client_7      19\n",
       "2  client_2      14\n",
       "3  client_3      11\n",
       "4  client_1       6\n",
       "5  client_4       6\n",
       "8  client_8       5\n",
       "6  client_5       4\n",
       "7  client_6       4"
      ]
     },
     "execution_count": 23,
     "metadata": {},
     "output_type": "execute_result"
    }
   ],
   "source": [
    "client_extreme = pd.DataFrame(columns=['client','entries']) # add bx col\n",
    "\n",
    "for c in extreme_obs.client.unique():#extreme_obs.index.unique():\n",
    "    \n",
    "    aa = pd.DataFrame(extreme_obs.loc[extreme_obs.client == c])\n",
    "    l = len(extreme_obs.loc[extreme_obs.client == c])\n",
    "    \n",
    "   \n",
    "    client_extreme = client_extreme.append({'client' : c, 'entries' : l}, ignore_index=True).sort_values(by='entries', ascending=False)\n",
    "    \n",
    "client_extreme"
   ]
  },
  {
   "cell_type": "code",
   "execution_count": 24,
   "id": "electronic-brooklyn",
   "metadata": {},
   "outputs": [],
   "source": [
    "staff_extreme = pd.DataFrame(columns=['staff','entries']) \n",
    "\n",
    "for c in extreme_obs['Staff Member'].unique():\n",
    "    \n",
    "    aa = pd.DataFrame(extreme_obs.loc[extreme_obs['Staff Member'] == c])\n",
    "    l = len(extreme_obs.loc[extreme_obs['Staff Member'] == c])\n",
    "    \n",
    "   \n",
    "    staff_extreme = staff_extreme.append({'staff' : c, 'entries' : l}, ignore_index=True).sort_values(by='entries', ascending=False)\n",
    "    \n",
    "    staff_extreme = staff_extreme[staff_extreme['entries']  > 4]"
   ]
  },
  {
   "cell_type": "code",
   "execution_count": 25,
   "id": "marine-boating",
   "metadata": {},
   "outputs": [
    {
     "data": {
      "image/png": "[encoded data removed]",
      "text/plain": [
       "<Figure size 720x720 with 1 Axes>"
      ]
     },
     "metadata": {
      "needs_background": "light"
     },
     "output_type": "display_data"
    }
   ],
   "source": [
    "#\n",
    "# This DBSCAN model has defined the same number of outliers as my original formula did\n",
    "\n",
    "\n",
    "from sklearn.cluster import DBSCAN\n",
    "\n",
    "eo = extreme_obs.fillna(extreme_obs[bx_list].mean())\n",
    "\n",
    "data = eo[bx_list]\n",
    "\n",
    "model = DBSCAN(eps = .4, min_samples = 20).fit(data)\n",
    "labels = model.labels_\n",
    "\n",
    "\n",
    "colors = model.labels_\n",
    "plt.scatter(data[\"elope\"], data['protesting'], c = colors)\n",
    "\n",
    "\n",
    "plt.show()"
   ]
  },
  {
   "cell_type": "code",
   "execution_count": 26,
   "id": "creative-thousand",
   "metadata": {},
   "outputs": [
    {
     "name": "stdout",
     "output_type": "stream",
     "text": [
      "59           aggression     elope  non-compliance  protesting       sib\n",
      "client_0    0.722242 -0.460239        0.172368   -0.339360  2.797564\n",
      "client_0    0.722242  0.185379       -0.295005   -0.570422 -0.125984\n",
      "client_0    1.282906 -0.460239       -0.495307   -0.570422  0.405570\n"
     ]
    }
   ],
   "source": [
    "outliers = data[model.labels_ == -1]\n",
    "\n",
    "outliers = outliers.drop_duplicates()\n",
    "\n",
    "\n",
    "print(len(outliers), outliers.head(3))\n"
   ]
  },
  {
   "cell_type": "code",
   "execution_count": 27,
   "id": "reported-attendance",
   "metadata": {},
   "outputs": [
    {
     "name": "stderr",
     "output_type": "stream",
     "text": [
      "/home/eyesforcomputers/anaconda3/envs/data_env/lib/python3.8/site-packages/seaborn/_decorators.py:36: FutureWarning: Pass the following variables as keyword args: x, y. From version 0.12, the only valid positional argument will be `data`, and passing other arguments without an explicit keyword will result in an error or misinterpretation.\n",
      "  warnings.warn(\n",
      "/home/eyesforcomputers/anaconda3/envs/data_env/lib/python3.8/site-packages/seaborn/_decorators.py:36: FutureWarning: Pass the following variables as keyword args: x, y. From version 0.12, the only valid positional argument will be `data`, and passing other arguments without an explicit keyword will result in an error or misinterpretation.\n",
      "  warnings.warn(\n",
      "/home/eyesforcomputers/anaconda3/envs/data_env/lib/python3.8/site-packages/seaborn/_decorators.py:36: FutureWarning: Pass the following variables as keyword args: x, y. From version 0.12, the only valid positional argument will be `data`, and passing other arguments without an explicit keyword will result in an error or misinterpretation.\n",
      "  warnings.warn(\n",
      "/home/eyesforcomputers/anaconda3/envs/data_env/lib/python3.8/site-packages/seaborn/_decorators.py:36: FutureWarning: Pass the following variables as keyword args: x, y. From version 0.12, the only valid positional argument will be `data`, and passing other arguments without an explicit keyword will result in an error or misinterpretation.\n",
      "  warnings.warn(\n",
      "/home/eyesforcomputers/anaconda3/envs/data_env/lib/python3.8/site-packages/seaborn/_decorators.py:36: FutureWarning: Pass the following variables as keyword args: x, y. From version 0.12, the only valid positional argument will be `data`, and passing other arguments without an explicit keyword will result in an error or misinterpretation.\n",
      "  warnings.warn(\n",
      "/home/eyesforcomputers/anaconda3/envs/data_env/lib/python3.8/site-packages/seaborn/_decorators.py:36: FutureWarning: Pass the following variables as keyword args: x, y. From version 0.12, the only valid positional argument will be `data`, and passing other arguments without an explicit keyword will result in an error or misinterpretation.\n",
      "  warnings.warn(\n",
      "/home/eyesforcomputers/anaconda3/envs/data_env/lib/python3.8/site-packages/seaborn/_decorators.py:36: FutureWarning: Pass the following variables as keyword args: x, y. From version 0.12, the only valid positional argument will be `data`, and passing other arguments without an explicit keyword will result in an error or misinterpretation.\n",
      "  warnings.warn(\n",
      "/home/eyesforcomputers/anaconda3/envs/data_env/lib/python3.8/site-packages/seaborn/_decorators.py:36: FutureWarning: Pass the following variables as keyword args: x, y. From version 0.12, the only valid positional argument will be `data`, and passing other arguments without an explicit keyword will result in an error or misinterpretation.\n",
      "  warnings.warn(\n",
      "/home/eyesforcomputers/anaconda3/envs/data_env/lib/python3.8/site-packages/seaborn/_decorators.py:36: FutureWarning: Pass the following variables as keyword args: x, y. From version 0.12, the only valid positional argument will be `data`, and passing other arguments without an explicit keyword will result in an error or misinterpretation.\n",
      "  warnings.warn(\n",
      "/home/eyesforcomputers/anaconda3/envs/data_env/lib/python3.8/site-packages/seaborn/_decorators.py:36: FutureWarning: Pass the following variables as keyword args: x, y. From version 0.12, the only valid positional argument will be `data`, and passing other arguments without an explicit keyword will result in an error or misinterpretation.\n",
      "  warnings.warn(\n"
     ]
    },
    {
     "data": {
      "image/png": "[encoded data removed]",
      "text/plain": [
       "<Figure size 1440x720 with 10 Axes>"
      ]
     },
     "metadata": {
      "needs_background": "light"
     },
     "output_type": "display_data"
    }
   ],
   "source": [
    "fig = plt.figure(figsize=(20, 10))\n",
    "fig.subplots_adjust(hspace=.5, wspace=.2)\n",
    "i = 1\n",
    "for x in range(10, 0, -1):\n",
    "    eps = 1/(11-x)\n",
    "    db = DBSCAN(eps=eps, min_samples=20).fit(data)\n",
    "    core_samples_mask = np.zeros_like(db.labels_, dtype=bool)\n",
    "    core_samples_mask[db.core_sample_indices_] = True\n",
    "    labels = db.labels_\n",
    "    \n",
    "#    print(eps)\n",
    "    ax = fig.add_subplot(2, 5, i)\n",
    "    ax.text(1, 4, \"eps = {}\".format(round(eps, 1)), fontsize=25, ha=\"center\")\n",
    "    sns.scatterplot(data.iloc[:,0], data.iloc[:,1], hue=[\"cluster-{}\".format(x) for x in labels])\n",
    "    \n",
    "    i += 1"
   ]
  },
  {
   "cell_type": "code",
   "execution_count": 28,
   "id": "ancient-wireless",
   "metadata": {},
   "outputs": [
    {
     "data": {
      "text/plain": [
       "[<matplotlib.lines.Line2D at 0x7f1d5c205fd0>]"
      ]
     },
     "execution_count": 28,
     "metadata": {},
     "output_type": "execute_result"
    },
    {
     "data": {
      "image/png": "[encoded data removed]",
      "text/plain": [
       "<Figure size 720x720 with 1 Axes>"
      ]
     },
     "metadata": {
      "needs_background": "light"
     },
     "output_type": "display_data"
    }
   ],
   "source": [
    "# Just looking at elbow chart for clusters\n",
    "\n",
    "from sklearn.neighbors import NearestNeighbors\n",
    "\n",
    "eo = extreme_obs.fillna(extreme_obs[bx_list].mean())\n",
    "\n",
    "data = eo[bx_list]\n",
    "\n",
    "neighbors = NearestNeighbors(n_neighbors=20)\n",
    "neighbors_fit = neighbors.fit(data)\n",
    "distances, indices = neighbors_fit.kneighbors(data)\n",
    "\n",
    "distances = np.sort(distances, axis=0)\n",
    "distances = distances[:,1]\n",
    "plt.plot(distances)"
   ]
  },
  {
   "cell_type": "code",
   "execution_count": 29,
   "id": "national-contrast",
   "metadata": {},
   "outputs": [],
   "source": [
    "#data = data.drop('cl', axis = 1)"
   ]
  },
  {
   "cell_type": "code",
   "execution_count": 30,
   "id": "mineral-hydrogen",
   "metadata": {},
   "outputs": [
    {
     "name": "stderr",
     "output_type": "stream",
     "text": [
      "<ipython-input-30-fad2144221cb>:11: SettingWithCopyWarning: \n",
      "A value is trying to be set on a copy of a slice from a DataFrame.\n",
      "Try using .loc[row_indexer,col_indexer] = value instead\n",
      "\n",
      "See the caveats in the documentation: https://pandas.pydata.org/pandas-docs/stable/user_guide/indexing.html#returning-a-view-versus-a-copy\n",
      "  data['cl'] = m.labels_\n"
     ]
    },
    {
     "data": {
      "text/plain": [
       "<matplotlib.collections.PathCollection at 0x7f1d5c1735e0>"
      ]
     },
     "execution_count": 30,
     "metadata": {},
     "output_type": "execute_result"
    },
    {
     "data": {
      "image/png": "[encoded data removed]",
      "text/plain": [
       "<Figure size 720x720 with 1 Axes>"
      ]
     },
     "metadata": {
      "needs_background": "light"
     },
     "output_type": "display_data"
    }
   ],
   "source": [
    "from sklearn.cluster import KMeans\n",
    "\n",
    "n = 1000\n",
    "\n",
    "m = KMeans(3)\n",
    "m.fit(data)\n",
    "\n",
    "x = data.iloc[:,0]\n",
    "y = data.iloc[:,1]\n",
    "\n",
    "data['cl'] = m.labels_\n",
    "plt.scatter(x, y, cmap='spectral')"
   ]
  },
  {
   "cell_type": "code",
   "execution_count": 31,
   "id": "behavioral-somerset",
   "metadata": {},
   "outputs": [
    {
     "data": {
      "text/plain": [
       "<AxesSubplot:>"
      ]
     },
     "execution_count": 31,
     "metadata": {},
     "output_type": "execute_result"
    },
    {
     "data": {
      "image/png": "[encoded data removed]",
      "text/plain": [
       "<Figure size 720x720 with 2 Axes>"
      ]
     },
     "metadata": {
      "needs_background": "light"
     },
     "output_type": "display_data"
    }
   ],
   "source": [
    "c7 = extreme_obs['client'] == 'client_0'\n",
    "\n",
    "extreme_obs[c7]\n",
    "\n",
    "sns.heatmap(extreme_obs[c7][bx_list])\n",
    "\n",
    "#sns.heatmap(extreme_obs[bx_list)\n",
    "\n"
   ]
  },
  {
   "cell_type": "code",
   "execution_count": 32,
   "id": "polished-break",
   "metadata": {},
   "outputs": [
    {
     "data": {
      "image/png": "[encoded data removed]",
      "text/plain": [
       "<Figure size 720x720 with 1 Axes>"
      ]
     },
     "metadata": {
      "needs_background": "light"
     },
     "output_type": "display_data"
    }
   ],
   "source": [
    "client_elope = plt.scatter(extreme_obs['client'],extreme_obs['elope'])\n",
    "plt.title('Distribution of observed instances of elope by client')\n",
    "plt.ylabel('BX: elope')\n",
    "plt.show()"
   ]
  },
  {
   "cell_type": "code",
   "execution_count": 33,
   "id": "blessed-single",
   "metadata": {},
   "outputs": [
    {
     "data": {
      "image/png": "[encoded data removed]",
      "text/plain": [
       "<Figure size 720x720 with 1 Axes>"
      ]
     },
     "metadata": {
      "needs_background": "light"
     },
     "output_type": "display_data"
    }
   ],
   "source": [
    "client_elope = plt.scatter(extreme_obs['client'],extreme_obs['elope'])\n",
    "plt.title('Distribution of observed instances of elope by client')\n",
    "plt.ylabel('BX: elope')\n",
    "plt.show()"
   ]
  },
  {
   "cell_type": "code",
   "execution_count": 34,
   "id": "binding-nursing",
   "metadata": {},
   "outputs": [
    {
     "data": {
      "image/png": "[encoded data removed]",
      "text/plain": [
       "<Figure size 720x720 with 1 Axes>"
      ]
     },
     "metadata": {
      "needs_background": "light"
     },
     "output_type": "display_data"
    }
   ],
   "source": [
    "client_elope = plt.scatter(extreme_obs['Staff Member'],extreme_obs['elope'])\n",
    "\n",
    "#client_elope = client_elope['elope'] > .4\n",
    "plt.title('Distribution of observed instances of elope by Staff Member')\n",
    "plt.ylabel('BX: elope')\n",
    "plt.show()"
   ]
  },
  {
   "cell_type": "code",
   "execution_count": 35,
   "id": "unique-state",
   "metadata": {
    "scrolled": true
   },
   "outputs": [
    {
     "data": {
      "text/plain": [
       "<matplotlib.collections.PathCollection at 0x7f1d476f2610>"
      ]
     },
     "execution_count": 35,
     "metadata": {},
     "output_type": "execute_result"
    },
    {
     "data": {
      "image/png": "[encoded data removed]",
      "text/plain": [
       "<Figure size 720x720 with 1 Axes>"
      ]
     },
     "metadata": {
      "needs_background": "light"
     },
     "output_type": "display_data"
    }
   ],
   "source": [
    "plt.scatter(staff_extreme['staff'],staff_extreme['entries'])"
   ]
  },
  {
   "cell_type": "code",
   "execution_count": 36,
   "id": "confident-controversy",
   "metadata": {},
   "outputs": [
    {
     "data": {
      "text/plain": [
       "<BarContainer object of 95 artists>"
      ]
     },
     "execution_count": 36,
     "metadata": {},
     "output_type": "execute_result"
    },
    {
     "data": {
      "image/png": "[encoded data removed]",
      "text/plain": [
       "<Figure size 720x720 with 1 Axes>"
      ]
     },
     "metadata": {
      "needs_background": "light"
     },
     "output_type": "display_data"
    }
   ],
   "source": [
    "plt.bar(extreme_obs['client'],extreme_obs['aggression'])"
   ]
  }
 ],
 "metadata": {
  "kernelspec": {
   "display_name": "data_env",
   "language": "python",
   "name": "data_env"
  },
  "language_info": {
   "codemirror_mode": {
    "name": "ipython",
    "version": 3
   },
   "file_extension": ".py",
   "mimetype": "text/x-python",
   "name": "python",
   "nbconvert_exporter": "python",
   "pygments_lexer": "ipython3",
   "version": "3.8.5"
  }
 },
 "nbformat": 4,
 "nbformat_minor": 5
}
