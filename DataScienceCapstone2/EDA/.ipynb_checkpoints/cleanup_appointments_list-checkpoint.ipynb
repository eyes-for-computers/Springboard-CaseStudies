{
 "cells": [
  {
   "cell_type": "code",
   "execution_count": 15,
   "id": "changed-prairie",
   "metadata": {},
   "outputs": [],
   "source": [
    "import matplotlib.pyplot as plt\n",
    "import requests\n",
    "import pandas as pd\n",
    "from fuzzywuzzy import fuzz, process\n",
    "import Levenshtein\n",
    "import os\n",
    "import glob\n",
    "\n",
    "import pandas_profiling\n",
    "from pandas_profiling.utils.cache import cache_file\n",
    "import re"
   ]
  },
  {
   "cell_type": "code",
   "execution_count": 16,
   "id": "cathedral-advantage",
   "metadata": {},
   "outputs": [],
   "source": [
    "df = pd.read_excel('Dirty_SBA_AppointmentList.xlsx', index_col=0)"
   ]
  },
  {
   "cell_type": "code",
   "execution_count": 17,
   "id": "curious-sentence",
   "metadata": {
    "scrolled": true
   },
   "outputs": [
    {
     "name": "stdout",
     "output_type": "stream",
     "text": [
      "Index(['Date', 'Day', 'Client', 'Staff Member', 'Duration'], dtype='object')\n",
      "(6139, 5)\n"
     ]
    }
   ],
   "source": [
    "print(df.columns)\n",
    "print(df.shape)\n"
   ]
  },
  {
   "cell_type": "code",
   "execution_count": 18,
   "id": "material-gazette",
   "metadata": {},
   "outputs": [
    {
     "data": {
      "text/html": [
       "<div>\n",
       "<style scoped>\n",
       "    .dataframe tbody tr th:only-of-type {\n",
       "        vertical-align: middle;\n",
       "    }\n",
       "\n",
       "    .dataframe tbody tr th {\n",
       "        vertical-align: top;\n",
       "    }\n",
       "\n",
       "    .dataframe thead th {\n",
       "        text-align: right;\n",
       "    }\n",
       "</style>\n",
       "<table border=\"1\" class=\"dataframe\">\n",
       "  <thead>\n",
       "    <tr style=\"text-align: right;\">\n",
       "      <th></th>\n",
       "      <th>Date</th>\n",
       "      <th>Day</th>\n",
       "      <th>Client</th>\n",
       "      <th>Staff Member</th>\n",
       "      <th>Duration</th>\n",
       "    </tr>\n",
       "  </thead>\n",
       "  <tbody>\n",
       "    <tr>\n",
       "      <th>2</th>\n",
       "      <td>2021-07-16</td>\n",
       "      <td>Fri</td>\n",
       "      <td>Gabriel Moreland</td>\n",
       "      <td>Jessie Williams</td>\n",
       "      <td>0.75</td>\n",
       "    </tr>\n",
       "    <tr>\n",
       "      <th>4</th>\n",
       "      <td>2021-07-16</td>\n",
       "      <td>Fri</td>\n",
       "      <td>Robert Miller</td>\n",
       "      <td>Joanna Benshoof</td>\n",
       "      <td>4.00</td>\n",
       "    </tr>\n",
       "    <tr>\n",
       "      <th>5</th>\n",
       "      <td>2021-07-16</td>\n",
       "      <td>Fri</td>\n",
       "      <td>Gabriel Moreland</td>\n",
       "      <td>Sara Clark</td>\n",
       "      <td>1.50</td>\n",
       "    </tr>\n",
       "  </tbody>\n",
       "</table>\n",
       "</div>"
      ],
      "text/plain": [
       "        Date  Day            Client     Staff Member  Duration\n",
       "2 2021-07-16  Fri  Gabriel Moreland  Jessie Williams      0.75\n",
       "4 2021-07-16  Fri     Robert Miller  Joanna Benshoof      4.00\n",
       "5 2021-07-16  Fri  Gabriel Moreland       Sara Clark      1.50"
      ]
     },
     "execution_count": 18,
     "metadata": {},
     "output_type": "execute_result"
    }
   ],
   "source": [
    "df.head(3)"
   ]
  },
  {
   "cell_type": "code",
   "execution_count": 5,
   "id": "scheduled-minister",
   "metadata": {},
   "outputs": [],
   "source": [
    "# From cleaning the data previously\n",
    "#\n",
    "# Select appointments with tag \"ABA therapy\"\n",
    "# df = df[df['Appointment Tag'] == 'ABA therapy']\n",
    "# df.shape"
   ]
  },
  {
   "cell_type": "code",
   "execution_count": 6,
   "id": "damaged-parker",
   "metadata": {},
   "outputs": [],
   "source": [
    "# removed 'Time' from list\n",
    "cols_to_keep = ['Date','Day', 'Client', 'Staff Member', 'Duration']"
   ]
  },
  {
   "cell_type": "code",
   "execution_count": 7,
   "id": "revolutionary-original",
   "metadata": {},
   "outputs": [
    {
     "data": {
      "text/plain": [
       "(6139, 5)"
      ]
     },
     "execution_count": 7,
     "metadata": {},
     "output_type": "execute_result"
    }
   ],
   "source": [
    "# Create df with needed columns\n",
    "appointment_list = df[cols_to_keep]\n",
    "appointment_list.shape"
   ]
  },
  {
   "cell_type": "code",
   "execution_count": 19,
   "id": "convertible-newton",
   "metadata": {
    "scrolled": true
   },
   "outputs": [],
   "source": [
    "# removed rows containing blacklisted names and generated new .xlsx\n",
    "# \n",
    "blacklist = ['Jackson Hurley', 'Joseph Garland', 'Jeffrey Hamilton', 'Jack Howerter']\n",
    "al = appointment_list[appointment_list.Client.isin(blacklist) == False ]\n",
    "# a = al[al.Client.str.startswith('J') == True] \n",
    "# al.to_excel('New_SBA_AppointmentList.xlsx')\n"
   ]
  },
  {
   "cell_type": "code",
   "execution_count": 20,
   "id": "negative-personal",
   "metadata": {
    "scrolled": true
   },
   "outputs": [
    {
     "name": "stdout",
     "output_type": "stream",
     "text": [
      "['staff_1' 'staff_2' 'staff_3' 'staff_4' 'staff_5' 'staff_6' 'staff_7'\n",
      " 'staff_8' 'staff_9' 'staff_10' 'staff_11' 'staff_12' 'staff_13'\n",
      " 'staff_14' 'staff_15' 'staff_16' 'staff_17' 'staff_18' 'staff_19'\n",
      " 'staff_20' 'staff_21' 'staff_22' 'staff_23' 'staff_24' 'staff_25'\n",
      " 'staff_26' 'staff_27' 'staff_28' 'staff_29' 'staff_30' 'staff_31'\n",
      " 'staff_32' 'staff_33' 'staff_34' 'staff_35' 'staff_36' 'staff_37'\n",
      " 'staff_38' 'staff_39' 'staff_40' 'staff_41' 'staff_42' 'staff_43'\n",
      " 'staff_44' 'staff_45' 'staff_46' 'staff_47' 'staff_48' 'staff_49'\n",
      " 'staff_50' 'staff_51' 'staff_52' 'staff_53' 'staff_54' 'staff_55'\n",
      " 'staff_56' 'staff_57']\n"
     ]
    }
   ],
   "source": [
    "# From cleaning the data previously\n",
    "#\n",
    "# Strip out spaces and make initials to join other sheets to\n",
    "\n",
    "appointment_list['Client'] = appointment_list['Client'].str.replace(' ','')\n",
    "appointment_list['Client'] = appointment_list['Client'].str.replace('[a-z]', '', regex=True)\n",
    "\n",
    "# randomize staff names then export final appointment list to join on\n",
    "staff_number=1\n",
    "unique_staff = appointment_list['Staff Member'].unique()\n",
    "\n",
    "for i in unique_staff:\n",
    "    appointment_list['Staff Member'] = appointment_list['Staff Member'].str.replace(i,'staff_' + str(staff_number), regex=True)\n",
    "    staff_number += 1\n",
    "    \n",
    "print(appointment_list['Staff Member'].unique())\n",
    "    \n"
   ]
  },
  {
   "cell_type": "code",
   "execution_count": 21,
   "id": "macro-fundamental",
   "metadata": {},
   "outputs": [],
   "source": [
    "appointment_list.to_excel('Clean_SBA_AppointmentList.xlsx')"
   ]
  },
  {
   "cell_type": "code",
   "execution_count": null,
   "id": "confused-louis",
   "metadata": {},
   "outputs": [],
   "source": []
  }
 ],
 "metadata": {
  "kernelspec": {
   "display_name": "data_env",
   "language": "python",
   "name": "data_env"
  },
  "language_info": {
   "codemirror_mode": {
    "name": "ipython",
    "version": 3
   },
   "file_extension": ".py",
   "mimetype": "text/x-python",
   "name": "python",
   "nbconvert_exporter": "python",
   "pygments_lexer": "ipython3",
   "version": "3.8.5"
  }
 },
 "nbformat": 4,
 "nbformat_minor": 5
}
