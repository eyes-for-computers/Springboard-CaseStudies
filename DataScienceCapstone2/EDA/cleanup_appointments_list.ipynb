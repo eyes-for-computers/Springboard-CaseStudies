{
 "cells": [
  {
   "cell_type": "code",
   "execution_count": 1,
   "id": "pediatric-description",
   "metadata": {},
   "outputs": [],
   "source": [
    "import matplotlib.pyplot as plt\n",
    "import requests\n",
    "import pandas as pd\n",
    "from fuzzywuzzy import fuzz, process\n",
    "import Levenshtein\n",
    "import os\n",
    "import glob\n",
    "\n",
    "import pandas_profiling\n",
    "from pandas_profiling.utils.cache import cache_file\n",
    "import re"
   ]
  },
  {
   "cell_type": "code",
   "execution_count": 2,
   "id": "patient-freeze",
   "metadata": {},
   "outputs": [],
   "source": [
    "df = pd.read_excel('Clean_SBA_AppointmentList.xlsx', index_col=0)"
   ]
  },
  {
   "cell_type": "code",
   "execution_count": 3,
   "id": "athletic-mauritius",
   "metadata": {
    "scrolled": true
   },
   "outputs": [
    {
     "name": "stdout",
     "output_type": "stream",
     "text": [
      "Index(['Day', 'Client', 'Staff Member', 'Duration'], dtype='object')\n",
      "(6139, 4)\n"
     ]
    }
   ],
   "source": [
    "print(df.columns)\n",
    "print(df.shape)\n"
   ]
  },
  {
   "cell_type": "code",
   "execution_count": 4,
   "id": "promotional-association",
   "metadata": {},
   "outputs": [
    {
     "data": {
      "text/html": [
       "<div>\n",
       "<style scoped>\n",
       "    .dataframe tbody tr th:only-of-type {\n",
       "        vertical-align: middle;\n",
       "    }\n",
       "\n",
       "    .dataframe tbody tr th {\n",
       "        vertical-align: top;\n",
       "    }\n",
       "\n",
       "    .dataframe thead th {\n",
       "        text-align: right;\n",
       "    }\n",
       "</style>\n",
       "<table border=\"1\" class=\"dataframe\">\n",
       "  <thead>\n",
       "    <tr style=\"text-align: right;\">\n",
       "      <th></th>\n",
       "      <th>Day</th>\n",
       "      <th>Client</th>\n",
       "      <th>Staff Member</th>\n",
       "      <th>Duration</th>\n",
       "    </tr>\n",
       "    <tr>\n",
       "      <th>Date</th>\n",
       "      <th></th>\n",
       "      <th></th>\n",
       "      <th></th>\n",
       "      <th></th>\n",
       "    </tr>\n",
       "  </thead>\n",
       "  <tbody>\n",
       "    <tr>\n",
       "      <th>2021-06-11</th>\n",
       "      <td>Fri</td>\n",
       "      <td>LC</td>\n",
       "      <td>staff_28</td>\n",
       "      <td>2.00</td>\n",
       "    </tr>\n",
       "    <tr>\n",
       "      <th>2021-07-13</th>\n",
       "      <td>Tue</td>\n",
       "      <td>RH</td>\n",
       "      <td>staff_14</td>\n",
       "      <td>3.00</td>\n",
       "    </tr>\n",
       "    <tr>\n",
       "      <th>2021-03-30</th>\n",
       "      <td>Tue</td>\n",
       "      <td>CM</td>\n",
       "      <td>staff_3</td>\n",
       "      <td>1.83</td>\n",
       "    </tr>\n",
       "  </tbody>\n",
       "</table>\n",
       "</div>"
      ],
      "text/plain": [
       "            Day Client Staff Member  Duration\n",
       "Date                                         \n",
       "2021-06-11  Fri     LC     staff_28      2.00\n",
       "2021-07-13  Tue     RH     staff_14      3.00\n",
       "2021-03-30  Tue     CM      staff_3      1.83"
      ]
     },
     "execution_count": 4,
     "metadata": {},
     "output_type": "execute_result"
    }
   ],
   "source": [
    "df.sample(3)"
   ]
  },
  {
   "cell_type": "code",
   "execution_count": 5,
   "id": "defined-snake",
   "metadata": {},
   "outputs": [],
   "source": [
    "# From cleaning the data previously\n",
    "#\n",
    "# Select appointments with tag \"ABA therapy\"\n",
    "# df = df[df['Appointment Tag'] == 'ABA therapy']\n",
    "# df.shape"
   ]
  },
  {
   "cell_type": "code",
   "execution_count": 6,
   "id": "impressed-signature",
   "metadata": {},
   "outputs": [
    {
     "data": {
      "text/plain": [
       "Day              object\n",
       "Client           object\n",
       "Staff Member     object\n",
       "Duration        float64\n",
       "dtype: object"
      ]
     },
     "execution_count": 6,
     "metadata": {},
     "output_type": "execute_result"
    }
   ],
   "source": [
    "# removed 'Time' from list\n",
    "cols_to_keep = ['Date','Day', 'Time', 'Client', 'Staff Member', 'Duration']\n",
    "df.dtypes"
   ]
  },
  {
   "cell_type": "code",
   "execution_count": 8,
   "id": "complimentary-starter",
   "metadata": {},
   "outputs": [],
   "source": [
    "# Create df with needed columns\n",
    "#appointment_list = df[cols_to_keep]\n",
    "#appointment_list['Time'] = str(appointment_list['Time'])\n",
    "#appointment_list.shape"
   ]
  },
  {
   "cell_type": "code",
   "execution_count": 9,
   "id": "narrative-pilot",
   "metadata": {
    "scrolled": false
   },
   "outputs": [
    {
     "ename": "NameError",
     "evalue": "name 'appointment_list' is not defined",
     "output_type": "error",
     "traceback": [
      "\u001b[0;31m---------------------------------------------------------------------\u001b[0m",
      "\u001b[0;31mNameError\u001b[0m                           Traceback (most recent call last)",
      "\u001b[0;32m<ipython-input-9-3470c15d8b81>\u001b[0m in \u001b[0;36m<module>\u001b[0;34m\u001b[0m\n\u001b[1;32m      2\u001b[0m \u001b[0;31m#\u001b[0m\u001b[0;34m\u001b[0m\u001b[0;34m\u001b[0m\u001b[0;34m\u001b[0m\u001b[0m\n\u001b[1;32m      3\u001b[0m \u001b[0mblacklist\u001b[0m \u001b[0;34m=\u001b[0m \u001b[0;34m[\u001b[0m\u001b[0;34m'Jackson Hurley'\u001b[0m\u001b[0;34m,\u001b[0m \u001b[0;34m'Joseph Garland'\u001b[0m\u001b[0;34m,\u001b[0m \u001b[0;34m'Jeffrey Hamilton'\u001b[0m\u001b[0;34m,\u001b[0m \u001b[0;34m'Jack Howerter'\u001b[0m\u001b[0;34m,\u001b[0m\u001b[0;34m'Caleb Miller'\u001b[0m\u001b[0;34m,\u001b[0m\u001b[0;34m'Connor Dube'\u001b[0m\u001b[0;34m]\u001b[0m\u001b[0;34m\u001b[0m\u001b[0;34m\u001b[0m\u001b[0m\n\u001b[0;32m----> 4\u001b[0;31m \u001b[0mal\u001b[0m \u001b[0;34m=\u001b[0m \u001b[0mappointment_list\u001b[0m\u001b[0;34m[\u001b[0m\u001b[0mappointment_list\u001b[0m\u001b[0;34m.\u001b[0m\u001b[0mClient\u001b[0m\u001b[0;34m.\u001b[0m\u001b[0misin\u001b[0m\u001b[0;34m(\u001b[0m\u001b[0mblacklist\u001b[0m\u001b[0;34m)\u001b[0m \u001b[0;34m==\u001b[0m \u001b[0;32mFalse\u001b[0m \u001b[0;34m]\u001b[0m\u001b[0;34m\u001b[0m\u001b[0;34m\u001b[0m\u001b[0m\n\u001b[0m\u001b[1;32m      5\u001b[0m \u001b[0;31m# a = al[al.Client.str.startswith('J') == True]\u001b[0m\u001b[0;34m\u001b[0m\u001b[0;34m\u001b[0m\u001b[0;34m\u001b[0m\u001b[0m\n\u001b[1;32m      6\u001b[0m \u001b[0;31m# al.to_excel('New_SBA_AppointmentList.xlsx')\u001b[0m\u001b[0;34m\u001b[0m\u001b[0;34m\u001b[0m\u001b[0;34m\u001b[0m\u001b[0m\n",
      "\u001b[0;31mNameError\u001b[0m: name 'appointment_list' is not defined"
     ]
    }
   ],
   "source": [
    "# removed rows containing blacklisted names and generated new .xlsx\n",
    "# \n",
    "blacklist = ['Jackson Hurley', 'Joseph Garland', 'Jeffrey Hamilton', 'Jack Howerter','Caleb Miller','Connor Dube']\n",
    "al = appointment_list[appointment_list.Client.isin(blacklist) == False ]\n",
    "# a = al[al.Client.str.startswith('J') == True] \n",
    "# al.to_excel('New_SBA_AppointmentList.xlsx')\n",
    "\n",
    "a = al[al.Client.str.startswith('C') == True]\n",
    "a['Client'].unique()\n",
    "\n"
   ]
  },
  {
   "cell_type": "code",
   "execution_count": 10,
   "id": "aerial-serial",
   "metadata": {},
   "outputs": [
    {
     "data": {
      "text/plain": [
       "dtype('O')"
      ]
     },
     "execution_count": 10,
     "metadata": {},
     "output_type": "execute_result"
    }
   ],
   "source": []
  },
  {
   "cell_type": "code",
   "execution_count": 11,
   "id": "living-insured",
   "metadata": {
    "scrolled": true
   },
   "outputs": [],
   "source": [
    "# From cleaning the data previously\n",
    "#\n",
    "# Strip out spaces and make initials to join other sheets to\n",
    "\n",
    "df['Client'] = df['Client'].str.replace(' ','')\n",
    "df['Client'] = df['Client'].str.replace('[a-z]', '', regex=True)\n",
    "\n",
    "client_number=1\n",
    "unique_client= df['Client'].unique()\n",
    "\n",
    "for i in unique_client:\n",
    "    df['Client'] = df['Client'].str.replace(i,'client_' + str(client_number), regex=True)\n",
    "    client_number += 1\n",
    "    \n",
    "\n",
    "\n",
    "\n"
   ]
  },
  {
   "cell_type": "code",
   "execution_count": 14,
   "id": "warming-allah",
   "metadata": {},
   "outputs": [
    {
     "data": {
      "text/html": [
       "<div>\n",
       "<style scoped>\n",
       "    .dataframe tbody tr th:only-of-type {\n",
       "        vertical-align: middle;\n",
       "    }\n",
       "\n",
       "    .dataframe tbody tr th {\n",
       "        vertical-align: top;\n",
       "    }\n",
       "\n",
       "    .dataframe thead th {\n",
       "        text-align: right;\n",
       "    }\n",
       "</style>\n",
       "<table border=\"1\" class=\"dataframe\">\n",
       "  <thead>\n",
       "    <tr style=\"text-align: right;\">\n",
       "      <th></th>\n",
       "      <th>Day</th>\n",
       "      <th>Client</th>\n",
       "      <th>Staff Member</th>\n",
       "      <th>Duration</th>\n",
       "    </tr>\n",
       "    <tr>\n",
       "      <th>Date</th>\n",
       "      <th></th>\n",
       "      <th></th>\n",
       "      <th></th>\n",
       "      <th></th>\n",
       "    </tr>\n",
       "  </thead>\n",
       "  <tbody>\n",
       "    <tr>\n",
       "      <th>2021-07-16</th>\n",
       "      <td>Fri</td>\n",
       "      <td>client_1</td>\n",
       "      <td>staff_1</td>\n",
       "      <td>0.75</td>\n",
       "    </tr>\n",
       "    <tr>\n",
       "      <th>2021-07-16</th>\n",
       "      <td>Fri</td>\n",
       "      <td>client_2</td>\n",
       "      <td>staff_2</td>\n",
       "      <td>4.00</td>\n",
       "    </tr>\n",
       "    <tr>\n",
       "      <th>2021-07-16</th>\n",
       "      <td>Fri</td>\n",
       "      <td>client_1</td>\n",
       "      <td>staff_3</td>\n",
       "      <td>1.50</td>\n",
       "    </tr>\n",
       "    <tr>\n",
       "      <th>2021-07-16</th>\n",
       "      <td>Fri</td>\n",
       "      <td>client_3</td>\n",
       "      <td>staff_1</td>\n",
       "      <td>0.75</td>\n",
       "    </tr>\n",
       "    <tr>\n",
       "      <th>2021-07-16</th>\n",
       "      <td>Fri</td>\n",
       "      <td>client_4</td>\n",
       "      <td>staff_4</td>\n",
       "      <td>2.25</td>\n",
       "    </tr>\n",
       "  </tbody>\n",
       "</table>\n",
       "</div>"
      ],
      "text/plain": [
       "            Day    Client Staff Member  Duration\n",
       "Date                                            \n",
       "2021-07-16  Fri  client_1      staff_1      0.75\n",
       "2021-07-16  Fri  client_2      staff_2      4.00\n",
       "2021-07-16  Fri  client_1      staff_3      1.50\n",
       "2021-07-16  Fri  client_3      staff_1      0.75\n",
       "2021-07-16  Fri  client_4      staff_4      2.25"
      ]
     },
     "execution_count": 14,
     "metadata": {},
     "output_type": "execute_result"
    }
   ],
   "source": [
    "df.head()"
   ]
  },
  {
   "cell_type": "code",
   "execution_count": 11,
   "id": "wrapped-animation",
   "metadata": {},
   "outputs": [
    {
     "data": {
      "text/html": [
       "<div>\n",
       "<style scoped>\n",
       "    .dataframe tbody tr th:only-of-type {\n",
       "        vertical-align: middle;\n",
       "    }\n",
       "\n",
       "    .dataframe tbody tr th {\n",
       "        vertical-align: top;\n",
       "    }\n",
       "\n",
       "    .dataframe thead th {\n",
       "        text-align: right;\n",
       "    }\n",
       "</style>\n",
       "<table border=\"1\" class=\"dataframe\">\n",
       "  <thead>\n",
       "    <tr style=\"text-align: right;\">\n",
       "      <th></th>\n",
       "      <th>Date</th>\n",
       "      <th>Day</th>\n",
       "      <th>Time</th>\n",
       "      <th>Client</th>\n",
       "      <th>Staff Member</th>\n",
       "      <th>Duration</th>\n",
       "    </tr>\n",
       "  </thead>\n",
       "  <tbody>\n",
       "    <tr>\n",
       "      <th>2.0</th>\n",
       "      <td>2021-07-16</td>\n",
       "      <td>Fri</td>\n",
       "      <td>2.0    06:00 PM -08:00 PM\\n4.0    02:30 PM -05...</td>\n",
       "      <td>client_1</td>\n",
       "      <td>Jessie Williams</td>\n",
       "      <td>0.75</td>\n",
       "    </tr>\n",
       "    <tr>\n",
       "      <th>4.0</th>\n",
       "      <td>2021-07-16</td>\n",
       "      <td>Fri</td>\n",
       "      <td>2.0    06:00 PM -08:00 PM\\n4.0    02:30 PM -05...</td>\n",
       "      <td>client_2</td>\n",
       "      <td>Joanna Benshoof</td>\n",
       "      <td>4.00</td>\n",
       "    </tr>\n",
       "    <tr>\n",
       "      <th>5.0</th>\n",
       "      <td>2021-07-16</td>\n",
       "      <td>Fri</td>\n",
       "      <td>2.0    06:00 PM -08:00 PM\\n4.0    02:30 PM -05...</td>\n",
       "      <td>client_1</td>\n",
       "      <td>Sara Clark</td>\n",
       "      <td>1.50</td>\n",
       "    </tr>\n",
       "    <tr>\n",
       "      <th>6.0</th>\n",
       "      <td>2021-07-16</td>\n",
       "      <td>Fri</td>\n",
       "      <td>2.0    06:00 PM -08:00 PM\\n4.0    02:30 PM -05...</td>\n",
       "      <td>client_3</td>\n",
       "      <td>Jessie Williams</td>\n",
       "      <td>0.75</td>\n",
       "    </tr>\n",
       "    <tr>\n",
       "      <th>7.0</th>\n",
       "      <td>2021-07-16</td>\n",
       "      <td>Fri</td>\n",
       "      <td>2.0    06:00 PM -08:00 PM\\n4.0    02:30 PM -05...</td>\n",
       "      <td>client_4</td>\n",
       "      <td>Tyler Morehead</td>\n",
       "      <td>2.25</td>\n",
       "    </tr>\n",
       "    <tr>\n",
       "      <th>...</th>\n",
       "      <td>...</td>\n",
       "      <td>...</td>\n",
       "      <td>...</td>\n",
       "      <td>...</td>\n",
       "      <td>...</td>\n",
       "      <td>...</td>\n",
       "    </tr>\n",
       "    <tr>\n",
       "      <th>NaN</th>\n",
       "      <td>NaT</td>\n",
       "      <td>NaN</td>\n",
       "      <td>2.0    06:00 PM -08:00 PM\\n4.0    02:30 PM -05...</td>\n",
       "      <td>NaN</td>\n",
       "      <td>NaN</td>\n",
       "      <td>NaN</td>\n",
       "    </tr>\n",
       "    <tr>\n",
       "      <th>NaN</th>\n",
       "      <td>NaT</td>\n",
       "      <td>NaN</td>\n",
       "      <td>2.0    06:00 PM -08:00 PM\\n4.0    02:30 PM -05...</td>\n",
       "      <td>NaN</td>\n",
       "      <td>NaN</td>\n",
       "      <td>NaN</td>\n",
       "    </tr>\n",
       "    <tr>\n",
       "      <th>NaN</th>\n",
       "      <td>NaT</td>\n",
       "      <td>NaN</td>\n",
       "      <td>2.0    06:00 PM -08:00 PM\\n4.0    02:30 PM -05...</td>\n",
       "      <td>NaN</td>\n",
       "      <td>NaN</td>\n",
       "      <td>NaN</td>\n",
       "    </tr>\n",
       "    <tr>\n",
       "      <th>NaN</th>\n",
       "      <td>NaT</td>\n",
       "      <td>NaN</td>\n",
       "      <td>2.0    06:00 PM -08:00 PM\\n4.0    02:30 PM -05...</td>\n",
       "      <td>NaN</td>\n",
       "      <td>NaN</td>\n",
       "      <td>NaN</td>\n",
       "    </tr>\n",
       "    <tr>\n",
       "      <th>NaN</th>\n",
       "      <td>NaT</td>\n",
       "      <td>NaN</td>\n",
       "      <td>2.0    06:00 PM -08:00 PM\\n4.0    02:30 PM -05...</td>\n",
       "      <td>NaN</td>\n",
       "      <td>NaN</td>\n",
       "      <td>NaN</td>\n",
       "    </tr>\n",
       "  </tbody>\n",
       "</table>\n",
       "<p>11109 rows × 6 columns</p>\n",
       "</div>"
      ],
      "text/plain": [
       "          Date  Day                                               Time  \\\n",
       "2.0 2021-07-16  Fri  2.0    06:00 PM -08:00 PM\\n4.0    02:30 PM -05...   \n",
       "4.0 2021-07-16  Fri  2.0    06:00 PM -08:00 PM\\n4.0    02:30 PM -05...   \n",
       "5.0 2021-07-16  Fri  2.0    06:00 PM -08:00 PM\\n4.0    02:30 PM -05...   \n",
       "6.0 2021-07-16  Fri  2.0    06:00 PM -08:00 PM\\n4.0    02:30 PM -05...   \n",
       "7.0 2021-07-16  Fri  2.0    06:00 PM -08:00 PM\\n4.0    02:30 PM -05...   \n",
       "..         ...  ...                                                ...   \n",
       "NaN        NaT  NaN  2.0    06:00 PM -08:00 PM\\n4.0    02:30 PM -05...   \n",
       "NaN        NaT  NaN  2.0    06:00 PM -08:00 PM\\n4.0    02:30 PM -05...   \n",
       "NaN        NaT  NaN  2.0    06:00 PM -08:00 PM\\n4.0    02:30 PM -05...   \n",
       "NaN        NaT  NaN  2.0    06:00 PM -08:00 PM\\n4.0    02:30 PM -05...   \n",
       "NaN        NaT  NaN  2.0    06:00 PM -08:00 PM\\n4.0    02:30 PM -05...   \n",
       "\n",
       "       Client     Staff Member  Duration  \n",
       "2.0  client_1  Jessie Williams      0.75  \n",
       "4.0  client_2  Joanna Benshoof      4.00  \n",
       "5.0  client_1       Sara Clark      1.50  \n",
       "6.0  client_3  Jessie Williams      0.75  \n",
       "7.0  client_4   Tyler Morehead      2.25  \n",
       "..        ...              ...       ...  \n",
       "NaN       NaN              NaN       NaN  \n",
       "NaN       NaN              NaN       NaN  \n",
       "NaN       NaN              NaN       NaN  \n",
       "NaN       NaN              NaN       NaN  \n",
       "NaN       NaN              NaN       NaN  \n",
       "\n",
       "[11109 rows x 6 columns]"
      ]
     },
     "execution_count": 11,
     "metadata": {},
     "output_type": "execute_result"
    }
   ],
   "source": [
    "appointment_list"
   ]
  },
  {
   "cell_type": "code",
   "execution_count": null,
   "id": "numerous-internship",
   "metadata": {},
   "outputs": [],
   "source": [
    "appointment_list"
   ]
  },
  {
   "cell_type": "code",
   "execution_count": null,
   "id": "pleasant-beginning",
   "metadata": {},
   "outputs": [],
   "source": [
    "# Now join the datasets together\n",
    "# I want join all of the appointment information to the bx and have a new df\n",
    "\n",
    "#think i need to individually merge sheets the appointment list, otherwise ther will be duplicate index dates\n",
    "\n",
    "\n"
   ]
  },
  {
   "cell_type": "code",
   "execution_count": 15,
   "id": "blank-distribution",
   "metadata": {},
   "outputs": [],
   "source": [
    "df.to_excel('111Clean_SBA_AppointmentList.xlsx')"
   ]
  },
  {
   "cell_type": "code",
   "execution_count": null,
   "id": "strong-audio",
   "metadata": {},
   "outputs": [],
   "source": []
  }
 ],
 "metadata": {
  "kernelspec": {
   "display_name": "data_env",
   "language": "python",
   "name": "data_env"
  },
  "language_info": {
   "codemirror_mode": {
    "name": "ipython",
    "version": 3
   },
   "file_extension": ".py",
   "mimetype": "text/x-python",
   "name": "python",
   "nbconvert_exporter": "python",
   "pygments_lexer": "ipython3",
   "version": "3.8.5"
  }
 },
 "nbformat": 4,
 "nbformat_minor": 5
}
