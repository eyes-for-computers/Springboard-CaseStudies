{
 "cells": [
  {
   "cell_type": "code",
   "execution_count": 56,
   "id": "homeless-scottish",
   "metadata": {},
   "outputs": [],
   "source": [
    "import pandas as pd\n",
    "import numpy as np\n",
    "import matplotlib.pyplot as plt"
   ]
  },
  {
   "cell_type": "code",
   "execution_count": 2,
   "id": "referenced-pendant",
   "metadata": {},
   "outputs": [],
   "source": [
    "df = pd.read_json('logins.json')"
   ]
  },
  {
   "cell_type": "code",
   "execution_count": 49,
   "id": "reflected-rocket",
   "metadata": {
    "scrolled": true
   },
   "outputs": [
    {
     "name": "stdout",
     "output_type": "stream",
     "text": [
      "<class 'pandas.core.frame.DataFrame'>\n",
      "DatetimeIndex: 93142 entries, 1970-01-01 20:12:16 to 1970-04-13 18:57:38\n",
      "Data columns (total 1 columns):\n",
      " #   Column  Non-Null Count  Dtype\n",
      "---  ------  --------------  -----\n",
      " 0   count   93142 non-null  int64\n",
      "dtypes: int64(1)\n",
      "memory usage: 1.4 MB\n"
     ]
    }
   ],
   "source": [
    "df.info()"
   ]
  },
  {
   "cell_type": "code",
   "execution_count": null,
   "id": "excess-anxiety",
   "metadata": {},
   "outputs": [],
   "source": [
    "df.head(2)"
   ]
  },
  {
   "cell_type": "code",
   "execution_count": 50,
   "id": "specified-cloud",
   "metadata": {},
   "outputs": [
    {
     "data": {
      "text/html": [
       "<div>\n",
       "<style scoped>\n",
       "    .dataframe tbody tr th:only-of-type {\n",
       "        vertical-align: middle;\n",
       "    }\n",
       "\n",
       "    .dataframe tbody tr th {\n",
       "        vertical-align: top;\n",
       "    }\n",
       "\n",
       "    .dataframe thead th {\n",
       "        text-align: right;\n",
       "    }\n",
       "</style>\n",
       "<table border=\"1\" class=\"dataframe\">\n",
       "  <thead>\n",
       "    <tr style=\"text-align: right;\">\n",
       "      <th></th>\n",
       "      <th>count</th>\n",
       "    </tr>\n",
       "  </thead>\n",
       "  <tbody>\n",
       "    <tr>\n",
       "      <th>count</th>\n",
       "      <td>93142.0</td>\n",
       "    </tr>\n",
       "    <tr>\n",
       "      <th>mean</th>\n",
       "      <td>1.0</td>\n",
       "    </tr>\n",
       "    <tr>\n",
       "      <th>std</th>\n",
       "      <td>0.0</td>\n",
       "    </tr>\n",
       "    <tr>\n",
       "      <th>min</th>\n",
       "      <td>1.0</td>\n",
       "    </tr>\n",
       "    <tr>\n",
       "      <th>25%</th>\n",
       "      <td>1.0</td>\n",
       "    </tr>\n",
       "    <tr>\n",
       "      <th>50%</th>\n",
       "      <td>1.0</td>\n",
       "    </tr>\n",
       "    <tr>\n",
       "      <th>75%</th>\n",
       "      <td>1.0</td>\n",
       "    </tr>\n",
       "    <tr>\n",
       "      <th>max</th>\n",
       "      <td>1.0</td>\n",
       "    </tr>\n",
       "  </tbody>\n",
       "</table>\n",
       "</div>"
      ],
      "text/plain": [
       "         count\n",
       "count  93142.0\n",
       "mean       1.0\n",
       "std        0.0\n",
       "min        1.0\n",
       "25%        1.0\n",
       "50%        1.0\n",
       "75%        1.0\n",
       "max        1.0"
      ]
     },
     "execution_count": 50,
     "metadata": {},
     "output_type": "execute_result"
    }
   ],
   "source": [
    "df.set_index('login_time', inplace=True)\n"
   ]
  },
  {
   "cell_type": "code",
   "execution_count": 54,
   "id": "employed-plastic",
   "metadata": {},
   "outputs": [
    {
     "data": {
      "text/html": [
       "<div>\n",
       "<style scoped>\n",
       "    .dataframe tbody tr th:only-of-type {\n",
       "        vertical-align: middle;\n",
       "    }\n",
       "\n",
       "    .dataframe tbody tr th {\n",
       "        vertical-align: top;\n",
       "    }\n",
       "\n",
       "    .dataframe thead th {\n",
       "        text-align: right;\n",
       "    }\n",
       "</style>\n",
       "<table border=\"1\" class=\"dataframe\">\n",
       "  <thead>\n",
       "    <tr style=\"text-align: right;\">\n",
       "      <th></th>\n",
       "      <th>count</th>\n",
       "    </tr>\n",
       "    <tr>\n",
       "      <th>login_time</th>\n",
       "      <th></th>\n",
       "    </tr>\n",
       "  </thead>\n",
       "  <tbody>\n",
       "    <tr>\n",
       "      <th>1970-01-01 20:00:00</th>\n",
       "      <td>2</td>\n",
       "    </tr>\n",
       "    <tr>\n",
       "      <th>1970-01-01 20:15:00</th>\n",
       "      <td>6</td>\n",
       "    </tr>\n",
       "  </tbody>\n",
       "</table>\n",
       "</div>"
      ],
      "text/plain": [
       "                     count\n",
       "login_time                \n",
       "1970-01-01 20:00:00      2\n",
       "1970-01-01 20:15:00      6"
      ]
     },
     "execution_count": 54,
     "metadata": {},
     "output_type": "execute_result"
    }
   ],
   "source": [
    "df['count'] = 1\n",
    "\n",
    "df.sort_index(inplace=True)\n",
    "\n",
    "counts = df.resample('15T').sum()\n",
    "\n",
    "counts.head(2)"
   ]
  },
  {
   "cell_type": "code",
   "execution_count": 57,
   "id": "peripheral-canal",
   "metadata": {
    "scrolled": true
   },
   "outputs": [
    {
     "data": {
      "text/plain": [
       "(array([5.009e+03, 2.686e+03, 1.231e+03, 5.320e+02, 2.050e+02, 8.300e+01,\n",
       "        2.800e+01, 6.000e+00, 6.000e+00, 2.000e+00]),\n",
       " array([ 0. ,  7.3, 14.6, 21.9, 29.2, 36.5, 43.8, 51.1, 58.4, 65.7, 73. ]),\n",
       " <BarContainer object of 10 artists>)"
      ]
     },
     "execution_count": 57,
     "metadata": {},
     "output_type": "execute_result"
    },
    {
     "data": {
      "image/png": "[encoded data removed]",
      "text/plain": [
       "<Figure size 432x288 with 1 Axes>"
      ]
     },
     "metadata": {
      "needs_background": "light"
     },
     "output_type": "display_data"
    }
   ],
   "source": [
    "plt.hist(counts)"
   ]
  },
  {
   "cell_type": "code",
   "execution_count": 66,
   "id": "convenient-frame",
   "metadata": {},
   "outputs": [
    {
     "data": {
      "text/plain": [
       "Timestamp('1970-04-13 18:45:00', freq='15T')"
      ]
     },
     "execution_count": 66,
     "metadata": {},
     "output_type": "execute_result"
    }
   ],
   "source": [
    "counts.index.max()"
   ]
  },
  {
   "cell_type": "code",
   "execution_count": 70,
   "id": "recent-equity",
   "metadata": {},
   "outputs": [
    {
     "data": {
      "text/plain": [
       "<AxesSubplot:xlabel='login_time'>"
      ]
     },
     "execution_count": 70,
     "metadata": {},
     "output_type": "execute_result"
    },
    {
     "data": {
      "image/png": "[encoded data removed]",
      "text/plain": [
       "<Figure size 432x288 with 1 Axes>"
      ]
     },
     "metadata": {
      "needs_background": "light"
     },
     "output_type": "display_data"
    }
   ],
   "source": [
    "byDay = counts.resample('D').sum()\n",
    "byDay.plot()"
   ]
  },
  {
   "cell_type": "code",
   "execution_count": 74,
   "id": "corrected-costa",
   "metadata": {},
   "outputs": [
    {
     "data": {
      "text/plain": [
       "<AxesSubplot:xlabel='login_time'>"
      ]
     },
     "execution_count": 74,
     "metadata": {},
     "output_type": "execute_result"
    },
    {
     "data": {
      "image/png": "[encoded data removed]",
      "text/plain": [
       "<Figure size 432x288 with 1 Axes>"
      ]
     },
     "metadata": {
      "needs_background": "light"
     },
     "output_type": "display_data"
    }
   ],
   "source": [
    "byHour = counts.resample('H').sum()\n",
    "byHour.plot()"
   ]
  },
  {
   "cell_type": "code",
   "execution_count": 93,
   "id": "adjacent-heaven",
   "metadata": {},
   "outputs": [
    {
     "data": {
      "text/plain": [
       "<AxesSubplot:xlabel='login_time'>"
      ]
     },
     "execution_count": 93,
     "metadata": {},
     "output_type": "execute_result"
    },
    {
     "data": {
      "image/png": "[encoded data removed]",
      "text/plain": [
       "<Figure size 432x288 with 1 Axes>"
      ]
     },
     "metadata": {
      "needs_background": "light"
     },
     "output_type": "display_data"
    }
   ],
   "source": [
    "df['count'].groupby(df.index.hour).count().plot(kind=\"bar\")"
   ]
  },
  {
   "cell_type": "code",
   "execution_count": null,
   "id": "stock-operation",
   "metadata": {},
   "outputs": [],
   "source": []
  },
  {
   "cell_type": "code",
   "execution_count": 89,
   "id": "nearby-norway",
   "metadata": {
    "scrolled": false
   },
   "outputs": [
    {
     "data": {
      "text/plain": [
       "<AxesSubplot:xlabel='login_time'>"
      ]
     },
     "execution_count": 89,
     "metadata": {},
     "output_type": "execute_result"
    },
    {
     "data": {
      "image/png": "[encoded data removed]",
      "text/plain": [
       "<Figure size 432x288 with 1 Axes>"
      ]
     },
     "metadata": {
      "needs_background": "light"
     },
     "output_type": "display_data"
    }
   ],
   "source": [
    "df.groupby(pd.Grouper(freq='W')).count().plot()"
   ]
  },
  {
   "cell_type": "code",
   "execution_count": 84,
   "id": "automatic-cathedral",
   "metadata": {},
   "outputs": [
    {
     "data": {
      "text/plain": [
       "<AxesSubplot:xlabel='login_time'>"
      ]
     },
     "execution_count": 84,
     "metadata": {},
     "output_type": "execute_result"
    },
    {
     "data": {
      "image/png": "[encoded data removed]",
      "text/plain": [
       "<Figure size 432x288 with 1 Axes>"
      ]
     },
     "metadata": {
      "needs_background": "light"
     },
     "output_type": "display_data"
    }
   ],
   "source": [
    "df.groupby(df.index.hour).count().plot()"
   ]
  },
  {
   "cell_type": "code",
   "execution_count": 69,
   "id": "powered-toronto",
   "metadata": {},
   "outputs": [
    {
     "data": {
      "text/plain": [
       "<AxesSubplot:xlabel='login_time'>"
      ]
     },
     "execution_count": 69,
     "metadata": {},
     "output_type": "execute_result"
    },
    {
     "data": {
      "image/png": "[encoded data removed]",
      "text/plain": [
       "<Figure size 432x288 with 1 Axes>"
      ]
     },
     "metadata": {
      "needs_background": "light"
     },
     "output_type": "display_data"
    }
   ],
   "source": []
  },
  {
   "cell_type": "code",
   "execution_count": 59,
   "id": "ancient-crystal",
   "metadata": {},
   "outputs": [
    {
     "data": {
      "text/plain": [
       "[<matplotlib.lines.Line2D at 0x7f4801e69a30>]"
      ]
     },
     "execution_count": 59,
     "metadata": {},
     "output_type": "execute_result"
    },
    {
     "data": {
      "image/png": "[encoded data removed]",
      "text/plain": [
       "<Figure size 432x288 with 1 Axes>"
      ]
     },
     "metadata": {
      "needs_background": "light"
     },
     "output_type": "display_data"
    }
   ],
   "source": [
    "plt.plot(counts)"
   ]
  },
  {
   "cell_type": "code",
   "execution_count": 7,
   "id": "hired-assurance",
   "metadata": {},
   "outputs": [
    {
     "data": {
      "text/html": [
       "<div>\n",
       "<style scoped>\n",
       "    .dataframe tbody tr th:only-of-type {\n",
       "        vertical-align: middle;\n",
       "    }\n",
       "\n",
       "    .dataframe tbody tr th {\n",
       "        vertical-align: top;\n",
       "    }\n",
       "\n",
       "    .dataframe thead tr th {\n",
       "        text-align: left;\n",
       "    }\n",
       "</style>\n",
       "<table border=\"1\" class=\"dataframe\">\n",
       "  <thead>\n",
       "    <tr>\n",
       "      <th></th>\n",
       "      <th>login_time</th>\n",
       "    </tr>\n",
       "    <tr>\n",
       "      <th></th>\n",
       "      <th>count</th>\n",
       "    </tr>\n",
       "  </thead>\n",
       "  <tbody>\n",
       "    <tr>\n",
       "      <th>1970-01-01 00:00:00</th>\n",
       "      <td>780</td>\n",
       "    </tr>\n",
       "    <tr>\n",
       "      <th>1970-01-01 00:13:00</th>\n",
       "      <td>780</td>\n",
       "    </tr>\n",
       "    <tr>\n",
       "      <th>1970-01-01 00:26:00</th>\n",
       "      <td>780</td>\n",
       "    </tr>\n",
       "    <tr>\n",
       "      <th>1970-01-01 00:39:00</th>\n",
       "      <td>780</td>\n",
       "    </tr>\n",
       "    <tr>\n",
       "      <th>1970-01-01 00:52:00</th>\n",
       "      <td>780</td>\n",
       "    </tr>\n",
       "    <tr>\n",
       "      <th>...</th>\n",
       "      <td>...</td>\n",
       "    </tr>\n",
       "    <tr>\n",
       "      <th>1970-01-02 00:55:00</th>\n",
       "      <td>780</td>\n",
       "    </tr>\n",
       "    <tr>\n",
       "      <th>1970-01-02 01:08:00</th>\n",
       "      <td>780</td>\n",
       "    </tr>\n",
       "    <tr>\n",
       "      <th>1970-01-02 01:21:00</th>\n",
       "      <td>780</td>\n",
       "    </tr>\n",
       "    <tr>\n",
       "      <th>1970-01-02 01:34:00</th>\n",
       "      <td>780</td>\n",
       "    </tr>\n",
       "    <tr>\n",
       "      <th>1970-01-02 01:47:00</th>\n",
       "      <td>322</td>\n",
       "    </tr>\n",
       "  </tbody>\n",
       "</table>\n",
       "<p>120 rows × 1 columns</p>\n",
       "</div>"
      ],
      "text/plain": [
       "                    login_time\n",
       "                         count\n",
       "1970-01-01 00:00:00        780\n",
       "1970-01-01 00:13:00        780\n",
       "1970-01-01 00:26:00        780\n",
       "1970-01-01 00:39:00        780\n",
       "1970-01-01 00:52:00        780\n",
       "...                        ...\n",
       "1970-01-02 00:55:00        780\n",
       "1970-01-02 01:08:00        780\n",
       "1970-01-02 01:21:00        780\n",
       "1970-01-02 01:34:00        780\n",
       "1970-01-02 01:47:00        322\n",
       "\n",
       "[120 rows x 1 columns]"
      ]
     },
     "execution_count": 7,
     "metadata": {},
     "output_type": "execute_result"
    }
   ],
   "source": [
    "#df.groupby(pd.Grouper(freq='13Min')).agg(['count'])"
   ]
  },
  {
   "cell_type": "code",
   "execution_count": 8,
   "id": "legal-handling",
   "metadata": {},
   "outputs": [
    {
     "data": {
      "text/html": [
       "<div>\n",
       "<style scoped>\n",
       "    .dataframe tbody tr th:only-of-type {\n",
       "        vertical-align: middle;\n",
       "    }\n",
       "\n",
       "    .dataframe tbody tr th {\n",
       "        vertical-align: top;\n",
       "    }\n",
       "\n",
       "    .dataframe thead th {\n",
       "        text-align: right;\n",
       "    }\n",
       "</style>\n",
       "<table border=\"1\" class=\"dataframe\">\n",
       "  <thead>\n",
       "    <tr style=\"text-align: right;\">\n",
       "      <th></th>\n",
       "      <th>login_time</th>\n",
       "    </tr>\n",
       "  </thead>\n",
       "  <tbody>\n",
       "    <tr>\n",
       "      <th>1970-01-01 00:00:00</th>\n",
       "      <td>1970-01-01 20:13:18</td>\n",
       "    </tr>\n",
       "    <tr>\n",
       "      <th>1970-01-01 00:00:01</th>\n",
       "      <td>1970-01-01 20:16:10</td>\n",
       "    </tr>\n",
       "    <tr>\n",
       "      <th>1970-01-01 00:00:02</th>\n",
       "      <td>1970-01-01 20:16:37</td>\n",
       "    </tr>\n",
       "    <tr>\n",
       "      <th>1970-01-01 00:00:03</th>\n",
       "      <td>1970-01-01 20:16:36</td>\n",
       "    </tr>\n",
       "    <tr>\n",
       "      <th>1970-01-01 00:00:04</th>\n",
       "      <td>1970-01-01 20:26:21</td>\n",
       "    </tr>\n",
       "  </tbody>\n",
       "</table>\n",
       "</div>"
      ],
      "text/plain": [
       "                             login_time\n",
       "1970-01-01 00:00:00 1970-01-01 20:13:18\n",
       "1970-01-01 00:00:01 1970-01-01 20:16:10\n",
       "1970-01-01 00:00:02 1970-01-01 20:16:37\n",
       "1970-01-01 00:00:03 1970-01-01 20:16:36\n",
       "1970-01-01 00:00:04 1970-01-01 20:26:21"
      ]
     },
     "execution_count": 8,
     "metadata": {},
     "output_type": "execute_result"
    }
   ],
   "source": [
    "df.head()"
   ]
  },
  {
   "cell_type": "code",
   "execution_count": 48,
   "id": "tamil-velvet",
   "metadata": {},
   "outputs": [
    {
     "data": {
      "text/html": [
       "<div>\n",
       "<style scoped>\n",
       "    .dataframe tbody tr th:only-of-type {\n",
       "        vertical-align: middle;\n",
       "    }\n",
       "\n",
       "    .dataframe tbody tr th {\n",
       "        vertical-align: top;\n",
       "    }\n",
       "\n",
       "    .dataframe thead th {\n",
       "        text-align: right;\n",
       "    }\n",
       "</style>\n",
       "<table border=\"1\" class=\"dataframe\">\n",
       "  <thead>\n",
       "    <tr style=\"text-align: right;\">\n",
       "      <th></th>\n",
       "      <th>count</th>\n",
       "    </tr>\n",
       "    <tr>\n",
       "      <th>login_time</th>\n",
       "      <th></th>\n",
       "    </tr>\n",
       "  </thead>\n",
       "  <tbody>\n",
       "    <tr>\n",
       "      <th>1970-01-01 20:00:00</th>\n",
       "      <td>2</td>\n",
       "    </tr>\n",
       "    <tr>\n",
       "      <th>1970-01-01 20:15:00</th>\n",
       "      <td>6</td>\n",
       "    </tr>\n",
       "    <tr>\n",
       "      <th>1970-01-01 20:30:00</th>\n",
       "      <td>9</td>\n",
       "    </tr>\n",
       "    <tr>\n",
       "      <th>1970-01-01 20:45:00</th>\n",
       "      <td>7</td>\n",
       "    </tr>\n",
       "    <tr>\n",
       "      <th>1970-01-01 21:00:00</th>\n",
       "      <td>1</td>\n",
       "    </tr>\n",
       "    <tr>\n",
       "      <th>...</th>\n",
       "      <td>...</td>\n",
       "    </tr>\n",
       "    <tr>\n",
       "      <th>1970-04-13 17:45:00</th>\n",
       "      <td>5</td>\n",
       "    </tr>\n",
       "    <tr>\n",
       "      <th>1970-04-13 18:00:00</th>\n",
       "      <td>5</td>\n",
       "    </tr>\n",
       "    <tr>\n",
       "      <th>1970-04-13 18:15:00</th>\n",
       "      <td>2</td>\n",
       "    </tr>\n",
       "    <tr>\n",
       "      <th>1970-04-13 18:30:00</th>\n",
       "      <td>7</td>\n",
       "    </tr>\n",
       "    <tr>\n",
       "      <th>1970-04-13 18:45:00</th>\n",
       "      <td>6</td>\n",
       "    </tr>\n",
       "  </tbody>\n",
       "</table>\n",
       "<p>9788 rows × 1 columns</p>\n",
       "</div>"
      ],
      "text/plain": [
       "                     count\n",
       "login_time                \n",
       "1970-01-01 20:00:00      2\n",
       "1970-01-01 20:15:00      6\n",
       "1970-01-01 20:30:00      9\n",
       "1970-01-01 20:45:00      7\n",
       "1970-01-01 21:00:00      1\n",
       "...                    ...\n",
       "1970-04-13 17:45:00      5\n",
       "1970-04-13 18:00:00      5\n",
       "1970-04-13 18:15:00      2\n",
       "1970-04-13 18:30:00      7\n",
       "1970-04-13 18:45:00      6\n",
       "\n",
       "[9788 rows x 1 columns]"
      ]
     },
     "execution_count": 48,
     "metadata": {},
     "output_type": "execute_result"
    }
   ],
   "source": [
    "df_agg"
   ]
  },
  {
   "cell_type": "code",
   "execution_count": null,
   "id": "automated-environment",
   "metadata": {},
   "outputs": [],
   "source": []
  },
  {
   "cell_type": "code",
   "execution_count": 46,
   "id": "acting-craft",
   "metadata": {},
   "outputs": [
    {
     "data": {
      "text/html": [
       "<div>\n",
       "<style scoped>\n",
       "    .dataframe tbody tr th:only-of-type {\n",
       "        vertical-align: middle;\n",
       "    }\n",
       "\n",
       "    .dataframe tbody tr th {\n",
       "        vertical-align: top;\n",
       "    }\n",
       "\n",
       "    .dataframe thead th {\n",
       "        text-align: right;\n",
       "    }\n",
       "</style>\n",
       "<table border=\"1\" class=\"dataframe\">\n",
       "  <thead>\n",
       "    <tr style=\"text-align: right;\">\n",
       "      <th></th>\n",
       "      <th>login_time</th>\n",
       "    </tr>\n",
       "  </thead>\n",
       "  <tbody>\n",
       "    <tr>\n",
       "      <th>1970-01-01 00:00:00</th>\n",
       "      <td>900</td>\n",
       "    </tr>\n",
       "    <tr>\n",
       "      <th>1970-01-01 00:15:00</th>\n",
       "      <td>900</td>\n",
       "    </tr>\n",
       "    <tr>\n",
       "      <th>1970-01-01 00:30:00</th>\n",
       "      <td>900</td>\n",
       "    </tr>\n",
       "    <tr>\n",
       "      <th>1970-01-01 00:45:00</th>\n",
       "      <td>900</td>\n",
       "    </tr>\n",
       "    <tr>\n",
       "      <th>1970-01-01 01:00:00</th>\n",
       "      <td>900</td>\n",
       "    </tr>\n",
       "    <tr>\n",
       "      <th>...</th>\n",
       "      <td>...</td>\n",
       "    </tr>\n",
       "    <tr>\n",
       "      <th>1970-01-02 00:45:00</th>\n",
       "      <td>900</td>\n",
       "    </tr>\n",
       "    <tr>\n",
       "      <th>1970-01-02 01:00:00</th>\n",
       "      <td>900</td>\n",
       "    </tr>\n",
       "    <tr>\n",
       "      <th>1970-01-02 01:15:00</th>\n",
       "      <td>900</td>\n",
       "    </tr>\n",
       "    <tr>\n",
       "      <th>1970-01-02 01:30:00</th>\n",
       "      <td>900</td>\n",
       "    </tr>\n",
       "    <tr>\n",
       "      <th>1970-01-02 01:45:00</th>\n",
       "      <td>442</td>\n",
       "    </tr>\n",
       "  </tbody>\n",
       "</table>\n",
       "<p>104 rows × 1 columns</p>\n",
       "</div>"
      ],
      "text/plain": [
       "                     login_time\n",
       "1970-01-01 00:00:00         900\n",
       "1970-01-01 00:15:00         900\n",
       "1970-01-01 00:30:00         900\n",
       "1970-01-01 00:45:00         900\n",
       "1970-01-01 01:00:00         900\n",
       "...                         ...\n",
       "1970-01-02 00:45:00         900\n",
       "1970-01-02 01:00:00         900\n",
       "1970-01-02 01:15:00         900\n",
       "1970-01-02 01:30:00         900\n",
       "1970-01-02 01:45:00         442\n",
       "\n",
       "[104 rows x 1 columns]"
      ]
     },
     "execution_count": 46,
     "metadata": {},
     "output_type": "execute_result"
    }
   ],
   "source": [
    "j = df.resample('15Min').count()\n",
    "pd.DataFrame(j)"
   ]
  },
  {
   "cell_type": "code",
   "execution_count": 28,
   "id": "adapted-anaheim",
   "metadata": {},
   "outputs": [
    {
     "data": {
      "text/html": [
       "<div>\n",
       "<style scoped>\n",
       "    .dataframe tbody tr th:only-of-type {\n",
       "        vertical-align: middle;\n",
       "    }\n",
       "\n",
       "    .dataframe tbody tr th {\n",
       "        vertical-align: top;\n",
       "    }\n",
       "\n",
       "    .dataframe thead th {\n",
       "        text-align: right;\n",
       "    }\n",
       "</style>\n",
       "<table border=\"1\" class=\"dataframe\">\n",
       "  <thead>\n",
       "    <tr style=\"text-align: right;\">\n",
       "      <th></th>\n",
       "      <th></th>\n",
       "    </tr>\n",
       "    <tr>\n",
       "      <th></th>\n",
       "      <th>login_time</th>\n",
       "    </tr>\n",
       "  </thead>\n",
       "  <tbody>\n",
       "    <tr>\n",
       "      <th rowspan=\"11\" valign=\"top\">1970-01-02 01:00:00</th>\n",
       "      <th>1970-04-10 23:57:14</th>\n",
       "    </tr>\n",
       "    <tr>\n",
       "      <th>1970-04-11 00:01:24</th>\n",
       "    </tr>\n",
       "    <tr>\n",
       "      <th>1970-04-11 00:01:46</th>\n",
       "    </tr>\n",
       "    <tr>\n",
       "      <th>1970-04-11 00:02:45</th>\n",
       "    </tr>\n",
       "    <tr>\n",
       "      <th>1970-04-11 00:04:25</th>\n",
       "    </tr>\n",
       "    <tr>\n",
       "      <th>...</th>\n",
       "    </tr>\n",
       "    <tr>\n",
       "      <th>1970-04-11 18:46:14</th>\n",
       "    </tr>\n",
       "    <tr>\n",
       "      <th>1970-04-11 18:46:16</th>\n",
       "    </tr>\n",
       "    <tr>\n",
       "      <th>1970-04-11 18:46:29</th>\n",
       "    </tr>\n",
       "    <tr>\n",
       "      <th>1970-04-11 18:47:54</th>\n",
       "    </tr>\n",
       "    <tr>\n",
       "      <th>1970-04-11 18:49:46</th>\n",
       "    </tr>\n",
       "  </tbody>\n",
       "</table>\n",
       "<p>889 rows × 0 columns</p>\n",
       "</div>"
      ],
      "text/plain": [
       "Empty DataFrame\n",
       "Columns: []\n",
       "Index: [(1970-01-02 01:00:00, 1970-04-10 23:57:14), (1970-01-02 01:00:00, 1970-04-11 00:01:24), (1970-01-02 01:00:00, 1970-04-11 00:01:46), (1970-01-02 01:00:00, 1970-04-11 00:02:45), (1970-01-02 01:00:00, 1970-04-11 00:04:25), (1970-01-02 01:00:00, 1970-04-11 00:04:33), (1970-01-02 01:00:00, 1970-04-11 00:04:46), (1970-01-02 01:00:00, 1970-04-11 00:06:16), (1970-01-02 01:00:00, 1970-04-11 00:10:35), (1970-01-02 01:00:00, 1970-04-11 00:10:43), (1970-01-02 01:00:00, 1970-04-11 00:10:59), (1970-01-02 01:00:00, 1970-04-11 00:11:02), (1970-01-02 01:00:00, 1970-04-11 00:11:59), (1970-01-02 01:00:00, 1970-04-11 00:12:09), (1970-01-02 01:00:00, 1970-04-11 00:12:48), (1970-01-02 01:00:00, 1970-04-11 00:13:04), (1970-01-02 01:00:00, 1970-04-11 00:14:20), (1970-01-02 01:00:00, 1970-04-11 00:15:17), (1970-01-02 01:00:00, 1970-04-11 00:15:41), (1970-01-02 01:00:00, 1970-04-11 00:15:50), (1970-01-02 01:00:00, 1970-04-11 00:17:55), (1970-01-02 01:00:00, 1970-04-11 00:19:02), (1970-01-02 01:00:00, 1970-04-11 00:19:34), (1970-01-02 01:00:00, 1970-04-11 00:20:07), (1970-01-02 01:00:00, 1970-04-11 00:20:50), (1970-01-02 01:00:00, 1970-04-11 00:20:58), (1970-01-02 01:00:00, 1970-04-11 00:22:09), (1970-01-02 01:00:00, 1970-04-11 00:22:49), (1970-01-02 01:00:00, 1970-04-11 00:23:01), (1970-01-02 01:00:00, 1970-04-11 00:23:54), (1970-01-02 01:00:00, 1970-04-11 00:24:03), (1970-01-02 01:00:00, 1970-04-11 00:24:30), (1970-01-02 01:00:00, 1970-04-11 00:25:34), (1970-01-02 01:00:00, 1970-04-11 00:25:37), (1970-01-02 01:00:00, 1970-04-11 00:25:38), (1970-01-02 01:00:00, 1970-04-11 00:26:46), (1970-01-02 01:00:00, 1970-04-11 00:27:35), (1970-01-02 01:00:00, 1970-04-11 00:27:58), (1970-01-02 01:00:00, 1970-04-11 00:28:04), (1970-01-02 01:00:00, 1970-04-11 00:28:06), (1970-01-02 01:00:00, 1970-04-11 00:28:32), (1970-01-02 01:00:00, 1970-04-11 00:28:46), (1970-01-02 01:00:00, 1970-04-11 00:29:32), (1970-01-02 01:00:00, 1970-04-11 00:31:13), (1970-01-02 01:00:00, 1970-04-11 00:31:19), (1970-01-02 01:00:00, 1970-04-11 00:32:58), (1970-01-02 01:00:00, 1970-04-11 00:33:10), (1970-01-02 01:00:00, 1970-04-11 00:33:24), (1970-01-02 01:00:00, 1970-04-11 00:33:57), (1970-01-02 01:00:00, 1970-04-11 00:34:40), (1970-01-02 01:00:00, 1970-04-11 00:36:06), (1970-01-02 01:00:00, 1970-04-11 00:37:31), (1970-01-02 01:00:00, 1970-04-11 00:37:51), (1970-01-02 01:00:00, 1970-04-11 00:38:05), (1970-01-02 01:00:00, 1970-04-11 00:38:20), (1970-01-02 01:00:00, 1970-04-11 00:38:37), (1970-01-02 01:00:00, 1970-04-11 00:39:56), (1970-01-02 01:00:00, 1970-04-11 00:41:20), (1970-01-02 01:00:00, 1970-04-11 00:42:19), (1970-01-02 01:00:00, 1970-04-11 00:42:44), (1970-01-02 01:00:00, 1970-04-11 00:45:54), (1970-01-02 01:00:00, 1970-04-11 00:46:07), (1970-01-02 01:00:00, 1970-04-11 00:46:24), (1970-01-02 01:00:00, 1970-04-11 00:48:59), (1970-01-02 01:00:00, 1970-04-11 00:49:02), (1970-01-02 01:00:00, 1970-04-11 00:49:24), (1970-01-02 01:00:00, 1970-04-11 00:50:35), (1970-01-02 01:00:00, 1970-04-11 00:52:35), (1970-01-02 01:00:00, 1970-04-11 00:52:51), (1970-01-02 01:00:00, 1970-04-11 00:53:05), (1970-01-02 01:00:00, 1970-04-11 00:53:56), (1970-01-02 01:00:00, 1970-04-11 00:54:04), (1970-01-02 01:00:00, 1970-04-11 00:55:39), (1970-01-02 01:00:00, 1970-04-11 00:56:20), (1970-01-02 01:00:00, 1970-04-11 00:58:36), (1970-01-02 01:00:00, 1970-04-11 00:58:48), (1970-01-02 01:00:00, 1970-04-11 00:59:39), (1970-01-02 01:00:00, 1970-04-11 01:01:16), (1970-01-02 01:00:00, 1970-04-11 01:03:07), (1970-01-02 01:00:00, 1970-04-11 01:03:32), (1970-01-02 01:00:00, 1970-04-11 01:04:56), (1970-01-02 01:00:00, 1970-04-11 01:06:09), (1970-01-02 01:00:00, 1970-04-11 01:06:55), (1970-01-02 01:00:00, 1970-04-11 01:07:37), (1970-01-02 01:00:00, 1970-04-11 01:08:04), (1970-01-02 01:00:00, 1970-04-11 01:08:25), (1970-01-02 01:00:00, 1970-04-11 01:09:10), (1970-01-02 01:00:00, 1970-04-11 01:09:26), (1970-01-02 01:00:00, 1970-04-11 01:10:13), (1970-01-02 01:00:00, 1970-04-11 01:10:35), (1970-01-02 01:00:00, 1970-04-11 01:10:55), (1970-01-02 01:00:00, 1970-04-11 01:11:15), (1970-01-02 01:00:00, 1970-04-11 01:11:26), (1970-01-02 01:00:00, 1970-04-11 01:11:39), (1970-01-02 01:00:00, 1970-04-11 01:13:05), (1970-01-02 01:00:00, 1970-04-11 01:13:33), (1970-01-02 01:00:00, 1970-04-11 01:14:58), (1970-01-02 01:00:00, 1970-04-11 01:16:58), (1970-01-02 01:00:00, 1970-04-11 01:17:06), (1970-01-02 01:00:00, 1970-04-11 01:17:36), ...]\n",
       "\n",
       "[889 rows x 0 columns]"
      ]
     },
     "execution_count": 28,
     "metadata": {},
     "output_type": "execute_result"
    }
   ],
   "source": [
    "grouper.loc['1970-01-02 01:00:00']"
   ]
  }
 ],
 "metadata": {
  "kernelspec": {
   "display_name": "data_env",
   "language": "python",
   "name": "data_env"
  },
  "language_info": {
   "codemirror_mode": {
    "name": "ipython",
    "version": 3
   },
   "file_extension": ".py",
   "mimetype": "text/x-python",
   "name": "python",
   "nbconvert_exporter": "python",
   "pygments_lexer": "ipython3",
   "version": "3.8.5"
  }
 },
 "nbformat": 4,
 "nbformat_minor": 5
}
